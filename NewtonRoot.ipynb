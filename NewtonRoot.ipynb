{
  "nbformat": 4,
  "nbformat_minor": 0,
  "metadata": {
    "colab": {
      "name": "NewtonRoot.ipynb",
      "provenance": [],
      "authorship_tag": "ABX9TyOAXc0XO9LMLrNhyJ2G451q",
      "include_colab_link": true
    },
    "kernelspec": {
      "name": "python3",
      "display_name": "Python 3"
    },
    "language_info": {
      "name": "python"
    }
  },
  "cells": [
    {
      "cell_type": "markdown",
      "metadata": {
        "id": "view-in-github",
        "colab_type": "text"
      },
      "source": [
        "<a href=\"https://colab.research.google.com/github/profteachkids/CHE2064_Spring2022/blob/main/NewtonRoot.ipynb\" target=\"_parent\"><img src=\"https://colab.research.google.com/assets/colab-badge.svg\" alt=\"Open In Colab\"/></a>"
      ]
    },
    {
      "cell_type": "code",
      "execution_count": null,
      "metadata": {
        "id": "b3yOthfTi4H2"
      },
      "outputs": [],
      "source": [
        "import numpy as np\n",
        "from scipy.optimize import newton, root"
      ]
    },
    {
      "cell_type": "code",
      "source": [
        "def scalar_f(x):\n",
        "    return 1./(1.-x)"
      ],
      "metadata": {
        "id": "epePwge5jDmj"
      },
      "execution_count": null,
      "outputs": []
    },
    {
      "cell_type": "code",
      "source": [
        "newton(scalar_f, 0.5)"
      ],
      "metadata": {
        "colab": {
          "base_uri": "https://localhost:8080/"
        },
        "id": "BbOZKWHTmIWa",
        "outputId": "25ceac7d-9e30-457b-ddf1-a6deeb5cd8ad"
      },
      "execution_count": null,
      "outputs": [
        {
          "output_type": "execute_result",
          "data": {
            "text/plain": [
              "0.4904735614385561"
            ]
          },
          "metadata": {},
          "execution_count": 5
        }
      ]
    },
    {
      "cell_type": "code",
      "source": [
        "def vector_f(v):\n",
        "    x,y,z = v\n",
        "    return [x**2 * y -z + 0.4,\n",
        "            2*z*np.exp(x)-y -1,\n",
        "            x*y*(1-1/z) + 0.25]"
      ],
      "metadata": {
        "id": "R-GpmHbWmSxf"
      },
      "execution_count": null,
      "outputs": []
    },
    {
      "cell_type": "code",
      "source": [
        "sol  = root(vector_f, [0.5, 0.5, 0.5])"
      ],
      "metadata": {
        "id": "W0W_UdGioXer"
      },
      "execution_count": null,
      "outputs": []
    },
    {
      "cell_type": "code",
      "source": [
        "sol.x*2"
      ],
      "metadata": {
        "colab": {
          "base_uri": "https://localhost:8080/"
        },
        "id": "YwE9l1tToZHs",
        "outputId": "5ef141c6-3b36-4c7e-96a1-c80aaffd7102"
      },
      "execution_count": null,
      "outputs": [
        {
          "output_type": "execute_result",
          "data": {
            "text/plain": [
              "array([0.88104556, 1.22310572, 1.03735629])"
            ]
          },
          "metadata": {},
          "execution_count": 28
        }
      ]
    },
    {
      "cell_type": "code",
      "source": [
        ""
      ],
      "metadata": {
        "id": "1X1vEktdsYnW"
      },
      "execution_count": null,
      "outputs": []
    }
  ]
}