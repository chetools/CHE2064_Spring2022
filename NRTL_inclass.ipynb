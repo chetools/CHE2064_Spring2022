{
  "nbformat": 4,
  "nbformat_minor": 0,
  "metadata": {
    "colab": {
      "name": "NRTL_inclass.ipynb",
      "provenance": [],
      "authorship_tag": "ABX9TyORl3d1C9yIKWwp1iGxNNg+",
      "include_colab_link": true
    },
    "kernelspec": {
      "name": "python3",
      "display_name": "Python 3"
    },
    "language_info": {
      "name": "python"
    }
  },
  "cells": [
    {
      "cell_type": "markdown",
      "metadata": {
        "id": "view-in-github",
        "colab_type": "text"
      },
      "source": [
        "<a href=\"https://colab.research.google.com/github/profteachkids/CHE2064_Spring2022/blob/main/NRTL_inclass.ipynb\" target=\"_parent\"><img src=\"https://colab.research.google.com/assets/colab-badge.svg\" alt=\"Open In Colab\"/></a>"
      ]
    },
    {
      "cell_type": "code",
      "execution_count": null,
      "metadata": {
        "id": "LYacKXeWITil"
      },
      "outputs": [],
      "source": [
        "!wget -N -q https://raw.githubusercontent.com/profteachkids/chetools/main/tools/che.py"
      ]
    },
    {
      "cell_type": "code",
      "source": [
        "import che\n",
        "import numpy as np"
      ],
      "metadata": {
        "id": "8d53LOlwI0f5"
      },
      "execution_count": null,
      "outputs": []
    },
    {
      "cell_type": "code",
      "source": [
        "p = che.Props(['Ethanol','Isopropanol','Water'])"
      ],
      "metadata": {
        "colab": {
          "base_uri": "https://localhost:8080/"
        },
        "id": "JIFXVVByI1H5",
        "outputId": "f19a6cb3-62c4-4ad8-df85-2e744a65148f"
      },
      "execution_count": null,
      "outputs": [
        {
          "output_type": "stream",
          "name": "stderr",
          "text": [
            "WARNING:absl:No GPU/TPU found, falling back to CPU. (Set TF_CPP_MIN_LOG_LEVEL=0 and rerun for more info.)\n"
          ]
        }
      ]
    },
    {
      "cell_type": "markdown",
      "source": [
        "### NRTL Activity Coefficient Model\n",
        "\n",
        "$ln (\\gamma_i) = \\dfrac{ \\sum\\limits_{j=1}^{n}x_j \\tau_{ji}G_{ji}}{\\sum\\limits_{k=1}^{n}x_kG_{ki}} + \n",
        "\\sum\\limits_{j=1}^{n} \\dfrac{x_jG_{ij}}{\\sum\\limits_{k=1}^{n}x_k G_{kj}} \\left( \\tau_{ij} - \n",
        "\\dfrac{\\sum\\limits_{m=1}^{n} x_m \\tau_{mj} G_{mj}}{\\sum\\limits_{k=1}^{n} x_kG_{kj}} \\right)$\n",
        "\n",
        "$\\tau_{ji} = A_{ji} + \\dfrac{B_{ji}}{T} + C_{ji}ln(T)+D_{ji}T$\n",
        "\n",
        "$G_{ji}=exp \\left( - \\alpha_{ji} \\tau_{ji} \\right)$\n",
        "\n",
        "$\\alpha_{ij}=\\alpha_{ji}$"
      ],
      "metadata": {
        "id": "SpElp_I2Pj8N"
      }
    }
  ]
}