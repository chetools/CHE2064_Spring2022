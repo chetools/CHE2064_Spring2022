{
  "nbformat": 4,
  "nbformat_minor": 0,
  "metadata": {
    "colab": {
      "name": "MaterialBalance_inclass.ipynb",
      "provenance": [],
      "authorship_tag": "ABX9TyMQvCfhsIke0N9eQbRdwwcR",
      "include_colab_link": true
    },
    "kernelspec": {
      "name": "python3",
      "display_name": "Python 3"
    },
    "language_info": {
      "name": "python"
    }
  },
  "cells": [
    {
      "cell_type": "markdown",
      "metadata": {
        "id": "view-in-github",
        "colab_type": "text"
      },
      "source": [
        "<a href=\"https://colab.research.google.com/github/profteachkids/CHE2064_Spring2022/blob/main/MaterialBalance_inclass.ipynb\" target=\"_parent\"><img src=\"https://colab.research.google.com/assets/colab-badge.svg\" alt=\"Open In Colab\"/></a>"
      ]
    },
    {
      "cell_type": "code",
      "execution_count": null,
      "metadata": {
        "id": "7AAmv2hf8CAc"
      },
      "outputs": [],
      "source": [
        "import numpy as np\n",
        "from plotly.subplots import make_subplots\n",
        "import plotly.io as pio\n",
        "pio.templates.default='plotly_dark'\n",
        "from scipy.integrate import solve_ivp"
      ]
    },
    {
      "cell_type": "code",
      "source": [
        "def rhs(t, y):\n",
        "    h,c = y\n",
        "    qout = alpha * h**0.5\n",
        "    dh = (qin - qout)/Ac\n",
        "    return [dh,\n",
        "            ((qin*cin - c*qout)/Ac - c*dh)/h]\n"
      ],
      "metadata": {
        "id": "6gottTBB8NRW"
      },
      "execution_count": null,
      "outputs": []
    },
    {
      "cell_type": "code",
      "source": [
        "cin = 1.    #kg/m3\n",
        "qin = 1.    #m3/s\n",
        "Ac = 0.02    #m2\n",
        "alpha = 0.1     #m2.5/s"
      ],
      "metadata": {
        "id": "pGRjJYBl9A4z"
      },
      "execution_count": null,
      "outputs": []
    },
    {
      "cell_type": "code",
      "source": [
        "h0 = 1. #m\n",
        "c0 = 0.1    #kg/m3\n",
        "tend = 100. #s"
      ],
      "metadata": {
        "id": "T4pOZ0mV9WE3"
      },
      "execution_count": null,
      "outputs": []
    },
    {
      "cell_type": "code",
      "source": [
        "solve_ivp(rhs, (0,tend), (h0,c0), method='Radau', dense_output=True)"
      ],
      "metadata": {
        "colab": {
          "base_uri": "https://localhost:8080/"
        },
        "id": "Q5rWGHix9ili",
        "outputId": "dae7b5e1-883c-45de-8cfa-2f79059e053d"
      },
      "execution_count": null,
      "outputs": [
        {
          "output_type": "execute_result",
          "data": {
            "text/plain": [
              "  message: 'The solver successfully reached the end of the integration interval.'\n",
              "     nfev: 192\n",
              "     njev: 6\n",
              "      nlu: 50\n",
              "      sol: <scipy.integrate._ivp.common.OdeSolution object at 0x7f7f9108aad0>\n",
              "   status: 0\n",
              "  success: True\n",
              "        t: array([0.00000000e+00, 3.14090870e-03, 7.66367454e-03, 1.38883822e-02,\n",
              "       2.23697001e-02, 3.40547709e-02, 5.05145555e-02, 7.21979499e-02,\n",
              "       1.03961053e-01, 1.50455492e-01, 2.21888113e-01, 3.25805360e-01,\n",
              "       4.91964464e-01, 7.71397885e-01, 1.21956214e+00, 1.97431654e+00,\n",
              "       3.15569708e+00, 4.77413447e+00, 7.17572918e+00, 1.04983871e+01,\n",
              "       1.50776850e+01, 2.15103910e+01, 3.11806006e+01, 4.67297843e+01,\n",
              "       8.34052327e+01, 1.00000000e+02])\n",
              " t_events: None\n",
              "        y: array([[ 1.        ,  1.14079975,  1.34174857,  1.61515014,  1.9823584 ,\n",
              "         2.47937665,  3.16416977,  4.04260394,  5.28784616,  7.0356702 ,\n",
              "         9.57809092, 13.02711907, 18.05863473, 25.50373259, 35.51437829,\n",
              "        48.69700274, 63.38815178, 76.42340995, 87.43477352, 94.62553434,\n",
              "        98.30833921, 99.66929034, 99.97104577, 99.99911695, 99.99995764,\n",
              "        99.99999883],\n",
              "       [ 0.1       ,  0.22296388,  0.35262245,  0.47581251,  0.58622999,\n",
              "         0.6819176 ,  0.76270318,  0.82459409,  0.87543513,  0.91482007,\n",
              "         0.94476582,  0.96522074,  0.97973055,  0.98940404,  0.99494459,\n",
              "         0.9980289 ,  0.99938864,  0.99981165,  0.99996084,  1.00000002,\n",
              "         1.00000865,  1.00001177,  1.00000423,  1.00000017,  1.00000001,\n",
              "         1.        ]])\n",
              " y_events: None"
            ]
          },
          "metadata": {},
          "execution_count": 8
        }
      ]
    },
    {
      "cell_type": "code",
      "source": [
        ""
      ],
      "metadata": {
        "id": "-j4Pb0ES-Bem"
      },
      "execution_count": null,
      "outputs": []
    }
  ]
}