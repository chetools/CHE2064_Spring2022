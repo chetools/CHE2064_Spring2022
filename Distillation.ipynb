{
  "nbformat": 4,
  "nbformat_minor": 0,
  "metadata": {
    "colab": {
      "name": "Distillation.ipynb",
      "provenance": [],
      "collapsed_sections": [],
      "authorship_tag": "ABX9TyOlCVr30P1ZmCB0vaIIG+qf",
      "include_colab_link": true
    },
    "kernelspec": {
      "name": "python3",
      "display_name": "Python 3"
    },
    "language_info": {
      "name": "python"
    }
  },
  "cells": [
    {
      "cell_type": "markdown",
      "metadata": {
        "id": "view-in-github",
        "colab_type": "text"
      },
      "source": [
        "<a href=\"https://colab.research.google.com/github/profteachkids/CHE2064_Spring2022/blob/main/Distillation.ipynb\" target=\"_parent\"><img src=\"https://colab.research.google.com/assets/colab-badge.svg\" alt=\"Open In Colab\"/></a>"
      ]
    },
    {
      "cell_type": "code",
      "source": [
        "!wget -N -q https://raw.githubusercontent.com/profteachkids/chetools/main/tools/che.py\n",
        "!wget -N -q https://raw.githubusercontent.com/profteachkids/chetools/main/tools/FlattenWrap.ipynb\n",
        "!pip install importnb"
      ],
      "metadata": {
        "colab": {
          "base_uri": "https://localhost:8080/"
        },
        "id": "69l3XTFqXPJl",
        "outputId": "dfe7aef3-1827-4704-f516-74d7640abefd"
      },
      "execution_count": 329,
      "outputs": [
        {
          "output_type": "stream",
          "name": "stdout",
          "text": [
            "Requirement already satisfied: importnb in /usr/local/lib/python3.7/dist-packages (0.7.0)\n"
          ]
        }
      ]
    },
    {
      "cell_type": "code",
      "source": [
        "from importnb import Notebook\n",
        "with Notebook(): \n",
        "    from FlattenWrap import DotDict, Range, RangeArray, Comp, CompArray, dtox\n",
        "\n",
        "import che\n",
        "import numpy as np\n",
        "from scipy.optimize import root"
      ],
      "metadata": {
        "id": "RRVu8H8IXa3w"
      },
      "execution_count": 330,
      "outputs": []
    },
    {
      "cell_type": "code",
      "source": [
        "p=che.Props(['Benzene','Toluene'])"
      ],
      "metadata": {
        "id": "aIjT8yBZI59y"
      },
      "execution_count": 331,
      "outputs": []
    },
    {
      "cell_type": "code",
      "source": [
        "d=DotDict()\n",
        "\n",
        "d.P = 150e3\n",
        "d.N = 3\n",
        "d.NC = p.N_comps\n",
        "d.F= 100.\n",
        "d.Fz = np.array([0.5,0.5])\n",
        "d.FT = 370.\n",
        "d.D = d.F/2\n",
        "d.B = d.F - d.D\n",
        "\n",
        "d.F_stage = 2\n",
        "\n",
        "d.reflux_ratio = 3.\n"
      ],
      "metadata": {
        "id": "jZoVc-TZpa1D"
      },
      "execution_count": 357,
      "outputs": []
    },
    {
      "cell_type": "code",
      "source": [
        "def boiling_points(P):\n",
        "    return root(lambda T: np.diagonal(p.Pvap(T)) - P, p.Tb).x"
      ],
      "metadata": {
        "id": "XVAYxAph53mL"
      },
      "execution_count": 358,
      "outputs": []
    },
    {
      "cell_type": "code",
      "source": [
        "d.bp = boiling_points(d.P)\n",
        "bp_scaled = (d.bp - np.mean(d.bp))/2 + np.mean(d.bp)\n",
        "bp_minmax = np.min(d.bp), np.max(d.bp)\n",
        "\n",
        "# Bug in root solver: convergence failure if T_guess is exactly linearly spaced\n",
        "d.T = RangeArray(np.round(np.linspace(*bp_scaled,d.N)), *bp_minmax)\n",
        "d.TC = Range(bp_scaled[-1], *bp_minmax)\n",
        "\n",
        "d.L = RangeArray(np.repeat(d.D*d.reflux_ratio,d.N-1), 0., 2*d.F*d.reflux_ratio)\n",
        "d.V = RangeArray(np.repeat(d.D*d.reflux_ratio,d.N-1), 0., 2*d.F*d.reflux_ratio)\n",
        "\n",
        "d.L = RangeArray(np.repeat(d.D*d.reflux_ratio,d.N), 0., 2*d.F*d.reflux_ratio)\n",
        "d.V = RangeArray(np.repeat(d.D*d.reflux_ratio,d.N), 0., 2*d.F*d.reflux_ratio)\n",
        "\n",
        "QBGuess = d.D * d.reflux_ratio* np.mean(p.HvapNB)\n",
        "d.QB = Range(QBGuess, 0., 2*QBGuess )\n",
        "d.QC = Range(QBGuess, 0., 2*QBGuess)\n",
        "\n",
        "d.Lx = CompArray(np.tile(d.Fz,(d.N,1)))\n",
        "d.Vy = CompArray(np.tile(d.Fz,(d.N,1)))\n",
        "\n"
      ],
      "metadata": {
        "id": "cPLRlJOS52Fs"
      },
      "execution_count": 359,
      "outputs": []
    },
    {
      "cell_type": "code",
      "source": [
        "wrap, x, d2, xtod, xtodunk  = dtox(d)"
      ],
      "metadata": {
        "id": "rHVxiki_phXS"
      },
      "execution_count": 360,
      "outputs": []
    },
    {
      "cell_type": "code",
      "source": [
        "r = DotDict()\n",
        "\n",
        "r.MB = np.zeros((d.N,d.NC))\n",
        "zeros = np.zeros((1,p.N_comps))\n",
        "def eqs(d):\n",
        "    r.EQUIL = d.Lx* p.Pvap(d.T) - d.Vy*d.P\n",
        "\n",
        "\n",
        "    r.Lin = np.r_[(d.L[0]*d.Vy[0])[None,:], d.L[1:,None]*d.Lx[:-1]]\n",
        "\n",
        "    r.Lout = np.r_[d.L[1:,None]*d.Lx[:-1], (d.B*d.Lx[-1])[None,:]]\n",
        "\n",
        "    r.Vin = np.r_[d.V[1:,None]*d.Vy[1:], zeros]\n",
        "    r.Vout = d.V[:,None]*d.Vy\n",
        "\n",
        "    r.MB = r.Lin - r.Lout + r.Vin - r.Vout\n",
        "\n",
        "    r.MB[d.F_stage-1] += d.F*d.Fz\n",
        "\n",
        "    r.TCBP = np.atleast_1d(np.sum(d.Vy[0]*p.Pvap(d.TC)) - d.P)\n",
        "\n",
        "    r.T = np.insert(d.T,0,d.TC)\n",
        "    r.EB = np.array(p.Hl(r.Lin, r.T[:-1]) + p.Hv(r.Vin, r.T[1:]) - p.Hl(r.Lout, r.T[1:]) - p.Hv(r.Vout, r.T[1:]))\n",
        "    r.EB[d.F_stage-1] += np.array(p.Hl(d.F*d.Fz, d.FT))\n",
        "    r.EB[-1]+=d.QB\n",
        "\n",
        "    r.CONDENSER = np.atleast_1d(p.Hv(r.Vout[0],r.T[1]) - p.Hl(r.Vout[0], r.T[0]) - d.QC)\n",
        "\n",
        "    r.RF = np.atleast_1d((d.V[0]-d.D)/d.D) - d.reflux_ratio\n",
        "    return np.concatenate([np.ravel(r.EQUIL), np.ravel(r.MB), np.ravel(r.EB), r.TCBP, r.RF, r.CONDENSER]), r\n"
      ],
      "metadata": {
        "id": "_4hviOyfp1k5"
      },
      "execution_count": 372,
      "outputs": []
    },
    {
      "cell_type": "code",
      "source": [
        "eqs_wrapped = wrap(eqs)"
      ],
      "metadata": {
        "id": "PCFvkYbXt3VL"
      },
      "execution_count": 373,
      "outputs": []
    },
    {
      "cell_type": "code",
      "source": [
        "eqs(d2)"
      ],
      "metadata": {
        "colab": {
          "base_uri": "https://localhost:8080/"
        },
        "id": "BlZyRCmn0Os6",
        "outputId": "8c8dd152-a470-4066-9785-18fc0a389314"
      },
      "execution_count": 374,
      "outputs": [
        {
          "output_type": "execute_result",
          "data": {
            "text/plain": [
              "(array([ 1.23624021e+05,  1.18679957e+04,  1.59269994e+04,  1.03993720e+04,\n",
              "         1.76241227e+04, -2.12751350e+03,  3.56405172e+00, -5.69911577e+00,\n",
              "        -2.67368852e+00,  2.76658442e+01,  3.02367632e+00, -8.38887139e+00,\n",
              "        -7.90665484e+05,  9.09765714e+05, -8.35032277e+04, -7.28168590e+03,\n",
              "        -2.43843957e-01,  6.32330681e+06]),\n",
              " {'CONDENSER': array([6323306.80566951]),\n",
              "  'EB': array([-790665.48439603,  909765.71356435,  -83503.22774035]),\n",
              "  'EQUIL': DeviceArray([[123624.0210907 ,  11867.99569158],\n",
              "               [ 15926.99943136,  10399.37198186],\n",
              "               [ 17624.12274311,  -2127.51350008]], dtype=float64),\n",
              "  'Lin': array([[124.35997646,  30.93972231],\n",
              "         [110.06344917,  42.45206324],\n",
              "         [125.22177677, 103.36897257]]),\n",
              "  'Lout': array([[110.06344917,  42.45206324],\n",
              "         [125.22177677, 103.36897257],\n",
              "         [ 20.05431325,  29.94568675]]),\n",
              "  'MB': array([[ 3.56405172, -5.69911577],\n",
              "         [-2.67368852, 27.66584425],\n",
              "         [ 3.02367632, -8.38887139]]),\n",
              "  'RF': array([-0.24384396]),\n",
              "  'T': array([369.29823168, 398.22252033, 383.85662148, 386.03289587]),\n",
              "  'TCBP': array([-7281.68589574]),\n",
              "  'Vin': array([[139.65914812,  43.22940364],\n",
              "         [102.1437872 ,  81.81215721],\n",
              "         [  0.        ,   0.        ]]),\n",
              "  'Vout': array([[150.39162368,  37.41617848],\n",
              "         [139.65914812,  43.22940364],\n",
              "         [102.1437872 ,  81.81215721]])})"
            ]
          },
          "metadata": {},
          "execution_count": 374
        }
      ]
    },
    {
      "cell_type": "code",
      "source": [
        "sol=root(eqs_wrapped, x)\n",
        "print(sol)\n",
        "solx=sol.x"
      ],
      "metadata": {
        "id": "l8ocZ2P2qyg5"
      },
      "execution_count": null,
      "outputs": []
    },
    {
      "cell_type": "code",
      "source": [
        "dunk=xtodunk(solx)\n",
        "dunk"
      ],
      "metadata": {
        "id": "AetCqijIr3lF",
        "colab": {
          "base_uri": "https://localhost:8080/"
        },
        "outputId": "8b9142bd-7ab2-454f-bf5d-d210ce5a987b"
      },
      "execution_count": 376,
      "outputs": [
        {
          "output_type": "execute_result",
          "data": {
            "text/plain": [
              "{'L': array([150.        , 149.98397172, 255.83763633]),\n",
              " 'Lx': array([[0.55946779, 0.44053221],\n",
              "        [0.39647357, 0.60352643],\n",
              "        [0.24731769, 0.75268231]]),\n",
              " 'QB': array(6659741.06970151),\n",
              " 'QC': array(6257199.68184472),\n",
              " 'T': array([377.4497328 , 382.47578967, 387.72607074]),\n",
              " 'TC': array(372.26289506),\n",
              " 'V': array([200.        , 199.98397171, 205.83763633]),\n",
              " 'Vy': array([[0.7526823 , 0.2473177 ],\n",
              "        [0.60777529, 0.39222471],\n",
              "        [0.43270501, 0.56729499]])}"
            ]
          },
          "metadata": {},
          "execution_count": 376
        }
      ]
    },
    {
      "cell_type": "code",
      "source": [
        "eqs(xtod(sol.x,d2))"
      ],
      "metadata": {
        "id": "w7IBxauHFqQb"
      },
      "execution_count": null,
      "outputs": []
    },
    {
      "cell_type": "code",
      "source": [
        ""
      ],
      "metadata": {
        "id": "yjnlFIa5Nnf-"
      },
      "execution_count": 342,
      "outputs": []
    }
  ]
}