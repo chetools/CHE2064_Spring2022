{
  "nbformat": 4,
  "nbformat_minor": 0,
  "metadata": {
    "colab": {
      "name": "Distillation.ipynb",
      "provenance": [],
      "collapsed_sections": [],
      "authorship_tag": "ABX9TyNlUpUFly9iSOq1+JvBgiUQ",
      "include_colab_link": true
    },
    "kernelspec": {
      "name": "python3",
      "display_name": "Python 3"
    },
    "language_info": {
      "name": "python"
    }
  },
  "cells": [
    {
      "cell_type": "markdown",
      "metadata": {
        "id": "view-in-github",
        "colab_type": "text"
      },
      "source": [
        "<a href=\"https://colab.research.google.com/github/profteachkids/CHE2064_Spring2022/blob/main/Distillation.ipynb\" target=\"_parent\"><img src=\"https://colab.research.google.com/assets/colab-badge.svg\" alt=\"Open In Colab\"/></a>"
      ]
    },
    {
      "cell_type": "code",
      "source": [
        "!wget -N -q https://raw.githubusercontent.com/profteachkids/chetools/main/tools/che.py\n",
        "!wget -N -q https://raw.githubusercontent.com/profteachkids/chetools/main/tools/FlattenWrap.ipynb\n",
        "!pip install importnb"
      ],
      "metadata": {
        "colab": {
          "base_uri": "https://localhost:8080/"
        },
        "id": "69l3XTFqXPJl",
        "outputId": "697139ea-3f4d-4e18-aafc-f85aa39ac460"
      },
      "execution_count": 1,
      "outputs": [
        {
          "output_type": "stream",
          "name": "stdout",
          "text": [
            "Collecting importnb\n",
            "  Downloading importnb-0.7.0-py3-none-any.whl (24 kB)\n",
            "Installing collected packages: importnb\n",
            "Successfully installed importnb-0.7.0\n"
          ]
        }
      ]
    },
    {
      "cell_type": "code",
      "source": [
        "from importnb import Notebook\n",
        "with Notebook(): \n",
        "    from FlattenWrap import DotDict, Range, RangeArray, Comp, CompArray, dtox\n",
        "\n",
        "import che\n",
        "import numpy as np\n",
        "from scipy.optimize import root"
      ],
      "metadata": {
        "id": "RRVu8H8IXa3w"
      },
      "execution_count": 2,
      "outputs": []
    },
    {
      "cell_type": "code",
      "source": [
        "p=che.Props(['Benzene','Toluene'])"
      ],
      "metadata": {
        "id": "aIjT8yBZI59y",
        "colab": {
          "base_uri": "https://localhost:8080/"
        },
        "outputId": "aad98829-56d7-4bc4-f020-65cb08462610"
      },
      "execution_count": 3,
      "outputs": [
        {
          "output_type": "stream",
          "name": "stderr",
          "text": [
            "WARNING:absl:No GPU/TPU found, falling back to CPU. (Set TF_CPP_MIN_LOG_LEVEL=0 and rerun for more info.)\n"
          ]
        }
      ]
    },
    {
      "cell_type": "code",
      "source": [
        "d=DotDict()\n",
        "\n",
        "d.P = 150e3\n",
        "d.N = 4\n",
        "d.NC = p.Name.size\n",
        "d.F= 100.\n",
        "d.Fz = np.array([0.5,0.5])\n",
        "d.FT = 370.\n",
        "d.D = d.F/2\n",
        "d.B = d.F - d.D\n",
        "\n",
        "d.F_stage = 2\n",
        "\n",
        "\n",
        "d.U = np.zeros(d.N)\n",
        "d.U[0]=d.D\n",
        "d.U[-1]=d.B\n",
        "\n",
        "d.reflux_ratio = 3.\n",
        "\n",
        "d.T = RangeArray([377.46245809, 382.48934105, 387.71326265], 367., 398.)\n",
        "d.TC = Range(370., 360.,400.)\n",
        "\n",
        "d.L = RangeArray(np.repeat(d.D*d.reflux_ratio,d.N-1), 0., 2*d.F*d.reflux_ratio)\n",
        "d.V = RangeArray(np.repeat(d.D*d.reflux_ratio,d.N-1), 0., 2*d.F*d.reflux_ratio)\n",
        "\n",
        "QBGuess = d.D * d.reflux_ratio* np.mean(p.HvapNB)\n",
        "d.QB = Range(QBGuess, 0., 2*QBGuess )\n",
        "\n",
        "d.Lx = CompArray(np.tile(d.Fz,(3,1)))\n",
        "d.Vy = CompArray(np.tile(d.Fz,(3,1)))\n",
        "\n",
        "\n",
        "# d.Lx = CompArray(np.array([[0.55902692, 0.44097308],\n",
        "#         [0.39606249, 0.60393751],\n",
        "#         [0.24765837, 0.75234163]]))\n",
        "# d.Vy =  CompArray(np.array([[0.75234163, 0.24765837],\n",
        "#         [0.6073556 , 0.3926444 ],\n",
        "#         [0.43316352, 0.56683648]]))\n",
        "\n"
      ],
      "metadata": {
        "id": "jZoVc-TZpa1D"
      },
      "execution_count": 10,
      "outputs": []
    },
    {
      "cell_type": "code",
      "source": [
        "wrap, x, d2, xtod, xtodunk  = dtox(d)"
      ],
      "metadata": {
        "id": "rHVxiki_phXS"
      },
      "execution_count": 11,
      "outputs": []
    },
    {
      "cell_type": "code",
      "source": [
        "r = DotDict()\n",
        "\n",
        "r.MB = np.zeros((d.N-1,d.NC))\n",
        "zeros = np.zeros((1,p.N_comps))\n",
        "def eqs(d):\n",
        "    r.EQUIL = d.Lx* p.Pvap(d.T) - d.Vy*d.P\n",
        "\n",
        "\n",
        "    r.Lin = np.r_[(d.L[0]*d.Vy[0])[None,:], d.L[1:,None]*d.Lx[:-1]]\n",
        "\n",
        "    r.Lout = np.r_[d.L[1:,None]*d.Lx[:-1], (d.B*d.Lx[-1])[None,:]]\n",
        "\n",
        "    r.Vin = np.r_[d.V[1:,None]*d.Vy[1:], zeros]\n",
        "    r.Vout = d.V[:,None]*d.Vy\n",
        "\n",
        "    r.MB = r.Lin - r.Lout + r.Vin - r.Vout\n",
        "\n",
        "    r.MB[d.F_stage-1] += d.F*d.Fz\n",
        "\n",
        "    r.TCBP = np.atleast_1d(np.sum(d.Vy[0]*p.Pvap(d.TC)) - d.P)\n",
        "\n",
        "    r.T = np.insert(d.T,0,d.TC)\n",
        "    r.EB = np.array(p.Hl(r.Lin, r.T[:-1]) + p.Hv(r.Vin, r.T[1:]) - p.Hl(r.Lout, r.T[1:]) - p.Hv(r.Vout, r.T[1:]))\n",
        "    r.EB[d.F_stage-1] += np.array(p.Hl(d.F*d.Fz, d.FT))\n",
        "    r.EB[-1]+=d.QB\n",
        "\n",
        "    r.RF = np.atleast_1d((d.V[0]-d.D)/d.D) - d.reflux_ratio\n",
        "    return np.concatenate([np.ravel(r.EQUIL), np.ravel(r.MB), np.ravel(r.EB), r.TCBP, r.RF]), r\n"
      ],
      "metadata": {
        "id": "_4hviOyfp1k5"
      },
      "execution_count": 15,
      "outputs": []
    },
    {
      "cell_type": "code",
      "source": [
        "eqs_wrapped = wrap(eqs)"
      ],
      "metadata": {
        "id": "PCFvkYbXt3VL"
      },
      "execution_count": 16,
      "outputs": []
    },
    {
      "cell_type": "code",
      "source": [
        "eqs(d2)"
      ],
      "metadata": {
        "colab": {
          "base_uri": "https://localhost:8080/"
        },
        "id": "BlZyRCmn0Os6",
        "outputId": "7cfb69d8-5c58-4f97-c8ae-0d59bb1e6c3a"
      },
      "execution_count": 17,
      "outputs": [
        {
          "output_type": "execute_result",
          "data": {
            "text/plain": [
              "(array([ 2.59354281e+04, -3.28786572e+04,  4.00113196e+04, -2.62394417e+04,\n",
              "         5.61777337e+04, -1.84927773e+04,  0.00000000e+00,  0.00000000e+00,\n",
              "         5.00000000e+01,  5.00000000e+01, -2.50000000e+01, -2.50000000e+01,\n",
              "        -3.77089072e+05,  3.93023844e+06, -6.99402138e+06, -3.38736913e+04,\n",
              "         2.00000000e+00]),\n",
              " {'EB': array([ -377089.07171622,  3930238.43782895, -6994021.37552386]),\n",
              "  'EQUIL': DeviceArray([[ 25935.42805913, -32878.65724718],\n",
              "               [ 40011.31961958, -26239.44171565],\n",
              "               [ 56177.73370987, -18492.7773435 ]], dtype=float64),\n",
              "  'Lin': array([[150., 150.],\n",
              "         [150., 150.],\n",
              "         [150., 150.]]),\n",
              "  'Lout': array([[150., 150.],\n",
              "         [150., 150.],\n",
              "         [ 25.,  25.]]),\n",
              "  'MB': array([[  0.,   0.],\n",
              "         [ 50.,  50.],\n",
              "         [-25., -25.]]),\n",
              "  'RF': array([2.]),\n",
              "  'T': array([370.        , 377.46245809, 382.48934105, 387.71326265]),\n",
              "  'TCBP': array([-33873.69127785]),\n",
              "  'Vin': array([[150., 150.],\n",
              "         [150., 150.],\n",
              "         [  0.,   0.]]),\n",
              "  'Vout': array([[150., 150.],\n",
              "         [150., 150.],\n",
              "         [150., 150.]])})"
            ]
          },
          "metadata": {},
          "execution_count": 17
        }
      ]
    },
    {
      "cell_type": "code",
      "source": [
        "sol=root(eqs_wrapped, x)\n",
        "print(sol)\n",
        "solx=sol.x"
      ],
      "metadata": {
        "id": "l8ocZ2P2qyg5"
      },
      "execution_count": null,
      "outputs": []
    },
    {
      "cell_type": "code",
      "source": [
        "dunk=xtodunk(solx)\n",
        "dunk"
      ],
      "metadata": {
        "id": "AetCqijIr3lF",
        "colab": {
          "base_uri": "https://localhost:8080/"
        },
        "outputId": "702f8a6b-676d-47d2-cece-ff3140d75970"
      },
      "execution_count": 19,
      "outputs": [
        {
          "output_type": "execute_result",
          "data": {
            "text/plain": [
              "{'L': array([150.00000004, 149.98397176, 255.83763635]),\n",
              " 'Lx': array([[0.55946779, 0.44053221],\n",
              "        [0.39647357, 0.60352643],\n",
              "        [0.2473177 , 0.7526823 ]]),\n",
              " 'QB': array(6659741.07083134),\n",
              " 'T': array([377.44973286, 382.47578968, 387.72607077]),\n",
              " 'TC': array(372.26289505),\n",
              " 'V': array([200.        , 199.98397175, 205.83763634]),\n",
              " 'Vy': array([[0.7526823 , 0.2473177 ],\n",
              "        [0.60777529, 0.39222471],\n",
              "        [0.43270501, 0.56729499]])}"
            ]
          },
          "metadata": {},
          "execution_count": 19
        }
      ]
    },
    {
      "cell_type": "code",
      "source": [
        "eqs(xtod(sol.x,d2))"
      ],
      "metadata": {
        "id": "w7IBxauHFqQb",
        "colab": {
          "base_uri": "https://localhost:8080/"
        },
        "outputId": "4ec1d07a-f2b8-4e20-bac5-af5aedbf145e"
      },
      "execution_count": 20,
      "outputs": [
        {
          "output_type": "execute_result",
          "data": {
            "text/plain": [
              "(array([-3.93396331e-05,  4.04310485e-05, -5.75344893e-06,  4.31279477e-06,\n",
              "        -1.96101762e-04,  8.10245692e-05,  4.03670981e-08, -1.85665314e-08,\n",
              "        -1.20174846e-07,  1.36761727e-07,  1.53869834e-07, -1.52084695e-07,\n",
              "         2.34611705e-03, -3.19478335e-03,  4.51472774e-03,  2.42040551e-05,\n",
              "         2.48467913e-12]),\n",
              " {'EB': array([ 0.00234612, -0.00319478,  0.00451473]),\n",
              "  'EQUIL': DeviceArray([[-3.93396331e-05,  4.04310485e-05],\n",
              "               [-5.75344893e-06,  4.31279477e-06],\n",
              "               [-1.96101762e-04,  8.10245692e-05]], dtype=float64),\n",
              "  'Lin': array([[112.90234552,  37.09765452],\n",
              "         [ 83.91120183,  66.07276994],\n",
              "         [101.43286048, 154.40477587]]),\n",
              "  'Lout': array([[ 83.91120183,  66.07276994],\n",
              "         [101.43286048, 154.40477587],\n",
              "         [ 12.36588479,  37.63411521]]),\n",
              "  'MB': array([[ 4.03670981e-08, -1.85665314e-08],\n",
              "         [-1.20174846e-07,  1.36761727e-07],\n",
              "         [ 1.53869834e-07, -1.52084695e-07]]),\n",
              "  'RF': array([2.48467913e-12]),\n",
              "  'T': array([372.26289505, 377.44973286, 382.47578968, 387.72607077]),\n",
              "  'TCBP': array([2.42040551e-05]),\n",
              "  'Vin': array([[121.545317  ,  78.43865475],\n",
              "         [ 89.06697553, 116.77066082],\n",
              "         [  0.        ,   0.        ]]),\n",
              "  'Vout': array([[150.53646065,  49.46353935],\n",
              "         [121.545317  ,  78.43865475],\n",
              "         [ 89.06697553, 116.77066082]])})"
            ]
          },
          "metadata": {},
          "execution_count": 20
        }
      ]
    },
    {
      "cell_type": "code",
      "source": [
        ""
      ],
      "metadata": {
        "id": "yjnlFIa5Nnf-"
      },
      "execution_count": null,
      "outputs": []
    }
  ]
}