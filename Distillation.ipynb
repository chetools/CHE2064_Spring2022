{
  "nbformat": 4,
  "nbformat_minor": 0,
  "metadata": {
    "colab": {
      "name": "Distillation.ipynb",
      "provenance": [],
      "collapsed_sections": [],
      "authorship_tag": "ABX9TyM+J9MF2BNNWuqz9tRDkRHZ",
      "include_colab_link": true
    },
    "kernelspec": {
      "name": "python3",
      "display_name": "Python 3"
    },
    "language_info": {
      "name": "python"
    }
  },
  "cells": [
    {
      "cell_type": "markdown",
      "metadata": {
        "id": "view-in-github",
        "colab_type": "text"
      },
      "source": [
        "<a href=\"https://colab.research.google.com/github/profteachkids/CHE2064_Spring2022/blob/main/Distillation.ipynb\" target=\"_parent\"><img src=\"https://colab.research.google.com/assets/colab-badge.svg\" alt=\"Open In Colab\"/></a>"
      ]
    },
    {
      "cell_type": "code",
      "source": [
        "!wget -N -q https://raw.githubusercontent.com/profteachkids/chetools/main/tools/che.py\n",
        "!wget -N -q https://raw.githubusercontent.com/profteachkids/chetools/main/tools/FlattenWrap.ipynb\n",
        "!pip install importnb"
      ],
      "metadata": {
        "colab": {
          "base_uri": "https://localhost:8080/"
        },
        "id": "69l3XTFqXPJl",
        "outputId": "c194a40d-5899-4fb9-a40d-4dacde42984f"
      },
      "execution_count": 1,
      "outputs": [
        {
          "output_type": "stream",
          "name": "stdout",
          "text": [
            "Collecting importnb\n",
            "  Downloading importnb-0.7.0-py3-none-any.whl (24 kB)\n",
            "Installing collected packages: importnb\n",
            "Successfully installed importnb-0.7.0\n"
          ]
        }
      ]
    },
    {
      "cell_type": "code",
      "source": [
        "from importnb import Notebook\n",
        "with Notebook(): \n",
        "    from FlattenWrap import DotDict, Range, RangeArray, Comp, CompArray, dtox\n",
        "\n",
        "import che\n",
        "import numpy as np\n",
        "from scipy.optimize import root"
      ],
      "metadata": {
        "id": "RRVu8H8IXa3w"
      },
      "execution_count": 2,
      "outputs": []
    },
    {
      "cell_type": "code",
      "source": [
        "p=che.Props(['Benzene','Toluene'])"
      ],
      "metadata": {
        "id": "aIjT8yBZI59y",
        "colab": {
          "base_uri": "https://localhost:8080/"
        },
        "outputId": "9e359ea0-ebe6-4bc9-9026-9bfe4fcf5bf2"
      },
      "execution_count": 3,
      "outputs": [
        {
          "output_type": "stream",
          "name": "stderr",
          "text": [
            "WARNING:absl:No GPU/TPU found, falling back to CPU. (Set TF_CPP_MIN_LOG_LEVEL=0 and rerun for more info.)\n"
          ]
        }
      ]
    },
    {
      "cell_type": "code",
      "source": [
        "d=DotDict()\n",
        "\n",
        "d.P = 150e3\n",
        "d.N = 4\n",
        "d.NC = p.Name.size\n",
        "d.Feed = 100.\n",
        "d.Feedz = np.array([0.5,0.5])\n",
        "d.FT = 370.\n",
        "d.D = d.Feed/2\n",
        "d.B = d.Feed - d.D\n",
        "\n",
        "d.F_stage = 2\n",
        "\n",
        "\n",
        "d.U = np.zeros(d.N)\n",
        "d.U[0]=d.D\n",
        "d.U[-1]=d.B\n",
        "\n",
        "d.reflux_ratio = 3.\n",
        "\n",
        "# d.T = np.linspace(370,395,d.N-1)\n",
        "# d.T = RangeArray(np.linspace(370, 395,d.N-1), 367., 398)\n",
        "d.T = RangeArray([377.46245809, 382.48934105, 387.71326265], 367., 398.)\n",
        "d.TC = Range(370., 360.,400.)\n",
        "d.Lr = d.D * d.reflux_ratio\n",
        "d.Ls = d.Lr + d.Feed \n",
        "d.L = RangeArray(np.concatenate([np.full(d.F_stage, d.Lr), np.full(d.N-d.F_stage-1, d.Ls)]), 0., 2*d.Feed*d.reflux_ratio)\n",
        "d.Vr = d.D + d.Lr\n",
        "d.Vs = d.Ls - d.B\n",
        "d.V = RangeArray(np.concatenate([np.full(d.F_stage-1, d.Vr), np.full(d.N-d.F_stage, d.Vs)]), 0., 2*d.Feed*d.reflux_ratio)\n",
        "\n",
        "QBGuess = d.D * d.reflux_ratio* np.mean(p.HvapNB)\n",
        "d.QB = Range(QBGuess, 0., 2*QBGuess )\n",
        "\n",
        "\n",
        "d.Lx = CompArray(np.array([[0.55902692, 0.44097308],\n",
        "        [0.39606249, 0.60393751],\n",
        "        [0.24765837, 0.75234163]]))\n",
        "d.Vy =  CompArray(np.array([[0.75234163, 0.24765837],\n",
        "        [0.6073556 , 0.3926444 ],\n",
        "        [0.43316352, 0.56683648]]))\n",
        "\n",
        "# d.Lx_ = CompArray(np.tile(d.Feedz, (d.N-1,1)))\n",
        "# d.Vy_ = CompArray(np.tile(d.Feedz, (d.N-1,1)))"
      ],
      "metadata": {
        "id": "jZoVc-TZpa1D"
      },
      "execution_count": 4,
      "outputs": []
    },
    {
      "cell_type": "code",
      "source": [
        "wrap, x, d2, xtod, xtodunk  = dtox(d)"
      ],
      "metadata": {
        "id": "rHVxiki_phXS"
      },
      "execution_count": 5,
      "outputs": []
    },
    {
      "cell_type": "code",
      "source": [
        "r = DotDict()\n",
        "\n",
        "r.MB = np.zeros((d.N-1,d.NC))\n",
        "zeros = np.zeros((1,d.NC))\n",
        "\n",
        "def eqs(d):\n",
        "    r.EQUIL = d.Lx* p.Pvap(d.T) - d.Vy*d.P\n",
        "\n",
        "\n",
        "    r.Lin = np.r_[(d.L[0]*d.Vy[0])[None,:], d.L[1:,None]*d.Lx[:-1]]\n",
        "\n",
        "    r.Lout = np.r_[d.L[1:,None]*d.Lx[:-1], (d.B*d.Lx[-1])[None,:]]\n",
        "\n",
        "    r.Vin = np.r_[d.V[1:,None]*d.Vy[1:], zeros]\n",
        "    r.Vout = d.V[:,None]*d.Vy\n",
        "\n",
        "    r.MB = r.Lin - r.Lout + r.Vin - r.Vout\n",
        "\n",
        "    r.MB[d.F_stage-1] += d.Feed*d.Feedz\n",
        "\n",
        "    r.TCBP = np.atleast_1d(np.sum(d.Vy[0]*p.Pvap(d.TC)) - d.P)\n",
        "\n",
        "    r.T = np.insert(d.T,0,d.TC)\n",
        "    r.EB = np.array(p.Hl(r.Lin, r.T[:-1]) + p.Hv(r.Vin, r.T[1:]) - p.Hl(r.Lout, r.T[1:]) - p.Hv(r.Vout, r.T[1:]))\n",
        "    r.EB[d.F_stage-1] += np.array(p.Hl(d.Feed*d.Feedz, d.FT))\n",
        "    r.EB[-1]+=d.QB\n",
        "\n",
        "    r.RF = np.atleast_1d((d.V[0]-d.D)/d.D) - d.reflux_ratio\n",
        "    return np.concatenate([np.ravel(r.EQUIL), np.ravel(r.MB), np.ravel(r.EB), r.TCBP, r.RF]), r\n"
      ],
      "metadata": {
        "id": "_4hviOyfp1k5"
      },
      "execution_count": 28,
      "outputs": []
    },
    {
      "cell_type": "code",
      "source": [
        "eqs_wrapped = wrap(eqs)"
      ],
      "metadata": {
        "id": "PCFvkYbXt3VL"
      },
      "execution_count": 29,
      "outputs": []
    },
    {
      "cell_type": "code",
      "source": [
        "eqs(d2)"
      ],
      "metadata": {
        "colab": {
          "base_uri": "https://localhost:8080/"
        },
        "id": "BlZyRCmn0Os6",
        "outputId": "301b3752-4ed9-429c-8949-7e4a90f62dfc"
      },
      "execution_count": 30,
      "outputs": [
        {
          "output_type": "execute_result",
          "data": {
            "text/plain": [
              "(array([-4.01391663e+04,  1.06709884e+04, -1.65383252e+04,  4.12190981e+03,\n",
              "         2.19768570e+05, -5.14736933e+04, -3.18175753e+00, -9.62964682e-02,\n",
              "        -9.36545612e-02,  2.87397321e+00, -3.83594700e+01,  3.35829979e+01,\n",
              "        -4.19525577e+06,  3.95935324e+04, -4.14526779e+06, -1.08008154e+04,\n",
              "         4.04662378e-02]),\n",
              " {'EB': array([-4195255.77041949,    39593.53242813, -4145267.78551066]),\n",
              "  'EQUIL': DeviceArray([[-40139.16626311,  10670.98841758],\n",
              "               [-16538.32517281,   4121.90981378],\n",
              "               [219768.57037816, -51473.69331816]], dtype=float64),\n",
              "  'Lin': array([[119.49741042,  27.25169395],\n",
              "         [  9.73555331,  11.14474352],\n",
              "         [ 53.00208482,  67.92797737]]),\n",
              "  'Lout': array([[ 9.73555331, 11.14474352],\n",
              "         [53.00208482, 67.92797737],\n",
              "         [46.62524007,  3.37475993]]),\n",
              "  'MB': array([[ -3.18175753,  -0.09629647],\n",
              "         [ -0.09365456,   2.87397321],\n",
              "         [-38.35947005,  33.58299788]]),\n",
              "  'RF': array([0.04046624]),\n",
              "  'T': array([368.08910411, 372.31935821, 377.93852224, 397.32347581]),\n",
              "  'TCBP': array([-10800.81536176]),\n",
              "  'Vin': array([[51.56343785, 21.3130125 ],\n",
              "         [44.7363148 , 30.97021956],\n",
              "         [ 0.        ,  0.        ]]),\n",
              "  'Vout': array([[164.50705249,  37.5162594 ],\n",
              "         [ 51.56343785,  21.3130125 ],\n",
              "         [ 44.7363148 ,  30.97021956]])})"
            ]
          },
          "metadata": {},
          "execution_count": 30
        }
      ]
    },
    {
      "cell_type": "code",
      "source": [
        "sol=root(eqs_wrapped, x)\n",
        "print(sol)\n",
        "solx=sol.x"
      ],
      "metadata": {
        "id": "l8ocZ2P2qyg5"
      },
      "execution_count": null,
      "outputs": []
    },
    {
      "cell_type": "code",
      "source": [
        "dunk=xtodunk(solx)\n",
        "dunk"
      ],
      "metadata": {
        "id": "AetCqijIr3lF",
        "colab": {
          "base_uri": "https://localhost:8080/"
        },
        "outputId": "e75b5796-95d8-474e-cd66-4a229a365ef0"
      },
      "execution_count": 32,
      "outputs": [
        {
          "output_type": "execute_result",
          "data": {
            "text/plain": [
              "{'L': array([150.        , 149.98397173, 255.83763633]),\n",
              " 'Lx': array([[0.55946779, 0.44053221],\n",
              "        [0.39647357, 0.60352643],\n",
              "        [0.2473177 , 0.7526823 ]]),\n",
              " 'QB': array(6659741.070391),\n",
              " 'T': array([377.44973285, 382.47578968, 387.72607076]),\n",
              " 'TC': array(372.26289508),\n",
              " 'V': array([200.        , 199.98397173, 205.83763633]),\n",
              " 'Vy': array([[0.7526823 , 0.2473177 ],\n",
              "        [0.60777529, 0.39222471],\n",
              "        [0.43270501, 0.56729499]])}"
            ]
          },
          "metadata": {},
          "execution_count": 32
        }
      ]
    },
    {
      "cell_type": "code",
      "source": [
        "eqs(xtod(sol.x,d2))"
      ],
      "metadata": {
        "id": "w7IBxauHFqQb",
        "colab": {
          "base_uri": "https://localhost:8080/"
        },
        "outputId": "e9999a89-6204-4e6c-a6a3-57d9545426a4"
      },
      "execution_count": 33,
      "outputs": [
        {
          "output_type": "execute_result",
          "data": {
            "text/plain": [
              "(array([ 1.25146471e-09,  3.20142135e-10,  1.05355866e-08, -1.49084372e-08,\n",
              "        -8.00355338e-11, -9.45874490e-10, -3.38218342e-12, -3.41060513e-13,\n",
              "        -1.86170723e-09,  4.61291449e-09,  1.86510363e-09, -4.61255922e-09,\n",
              "         5.82432374e-04,  8.13282095e-05, -5.96297905e-05,  1.32130197e-04,\n",
              "         0.00000000e+00]),\n",
              " {'EB': array([ 5.82432374e-04,  8.13282095e-05, -5.96297905e-05]),\n",
              "  'EQUIL': DeviceArray([[ 1.25146471e-09,  3.20142135e-10],\n",
              "               [ 1.05355866e-08, -1.49084372e-08],\n",
              "               [-8.00355338e-11, -9.45874490e-10]], dtype=float64),\n",
              "  'Lin': array([[112.90234546,  37.09765454],\n",
              "         [ 83.91120182,  66.0727699 ],\n",
              "         [101.43286046, 154.40477587]]),\n",
              "  'Lout': array([[ 83.91120182,  66.0727699 ],\n",
              "         [101.43286046, 154.40477587],\n",
              "         [ 12.36588485,  37.63411515]]),\n",
              "  'MB': array([[-3.38218342e-12, -3.41060513e-13],\n",
              "         [-1.86170723e-09,  4.61291449e-09],\n",
              "         [ 1.86510363e-09, -4.61255922e-09]]),\n",
              "  'RF': array([0.]),\n",
              "  'T': array([372.26289508, 377.44973285, 382.47578968, 387.72607076]),\n",
              "  'TCBP': array([0.00013213]),\n",
              "  'Vin': array([[121.54531698,  78.43865475],\n",
              "         [ 89.06697561, 116.77066072],\n",
              "         [  0.        ,   0.        ]]),\n",
              "  'Vout': array([[150.53646061,  49.46353939],\n",
              "         [121.54531698,  78.43865475],\n",
              "         [ 89.06697561, 116.77066072]])})"
            ]
          },
          "metadata": {},
          "execution_count": 33
        }
      ]
    },
    {
      "cell_type": "code",
      "source": [
        "x=np.linspace(1,5,5)"
      ],
      "metadata": {
        "id": "YEY42JKIxtPz"
      },
      "execution_count": 34,
      "outputs": []
    },
    {
      "cell_type": "code",
      "source": [
        "np.insert(x,0,0)"
      ],
      "metadata": {
        "id": "CtwxgZc4NjCe"
      },
      "execution_count": null,
      "outputs": []
    },
    {
      "cell_type": "code",
      "source": [
        ""
      ],
      "metadata": {
        "id": "yjnlFIa5Nnf-"
      },
      "execution_count": null,
      "outputs": []
    }
  ]
}