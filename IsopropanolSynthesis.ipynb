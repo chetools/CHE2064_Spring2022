{
  "nbformat": 4,
  "nbformat_minor": 0,
  "metadata": {
    "colab": {
      "name": "IsopropanolSynthesis.ipynb",
      "provenance": [],
      "collapsed_sections": [],
      "authorship_tag": "ABX9TyPOIazm14nlHAHo772NklEr",
      "include_colab_link": true
    },
    "kernelspec": {
      "name": "python3",
      "display_name": "Python 3"
    },
    "language_info": {
      "name": "python"
    }
  },
  "cells": [
    {
      "cell_type": "markdown",
      "metadata": {
        "id": "view-in-github",
        "colab_type": "text"
      },
      "source": [
        "<a href=\"https://colab.research.google.com/github/profteachkids/CHE2064_Spring2022/blob/main/IsopropanolSynthesis.ipynb\" target=\"_parent\"><img src=\"https://colab.research.google.com/assets/colab-badge.svg\" alt=\"Open In Colab\"/></a>"
      ]
    },
    {
      "cell_type": "code",
      "source": [
        "!wget -N -q https://raw.githubusercontent.com/profteachkids/chetools/main/FlattenWrap.ipynb\n",
        "!pip install importnb"
      ],
      "metadata": {
        "id": "Gwp9C2bBoebL",
        "colab": {
          "base_uri": "https://localhost:8080/"
        },
        "outputId": "b7e23db9-c299-4478-aeec-b85428106966"
      },
      "execution_count": 1,
      "outputs": [
        {
          "output_type": "stream",
          "name": "stdout",
          "text": [
            "Collecting importnb\n",
            "  Downloading importnb-0.7.0-py3-none-any.whl (24 kB)\n",
            "Installing collected packages: importnb\n",
            "Successfully installed importnb-0.7.0\n"
          ]
        }
      ]
    },
    {
      "cell_type": "code",
      "source": [
        "from importnb import Notebook\n",
        "with Notebook(): \n",
        "    from FlattenWrap import DotDict, Range, RangeArray, Comp, CompArray, dtox"
      ],
      "metadata": {
        "id": "e-4zIaZrKnmz"
      },
      "execution_count": 2,
      "outputs": []
    },
    {
      "cell_type": "code",
      "execution_count": 3,
      "metadata": {
        "id": "EQTOJoLTGQgb"
      },
      "outputs": [],
      "source": [
        "import numpy as np\n",
        "from scipy.optimize import root"
      ]
    },
    {
      "cell_type": "markdown",
      "source": [
        "<img src='https://github.com/profteachkids/CHE2064_Spring2022/raw/main/IsopropylSynthesisProcessDiagram.jpg'>"
      ],
      "metadata": {
        "id": "rPIq5KWqCytb"
      }
    },
    {
      "cell_type": "code",
      "source": [
        "# Static parameters (Total feed, feed mole fradtions, feed temperature and )\n",
        "# 1. propene\n",
        "# 2. diisopropyl ether\n",
        "# 3. isopropanol\n",
        "# 4. water\n",
        "# Rx1:  C3H6 + H2O -> C3H8O\n",
        "# Rx2:  2C3H8O -> C6H14 + H2O \n",
        "\n",
        "e = DotDict()\n",
        "e.alkeneF = 100.\n",
        "e.waterF = 100.\n",
        "\n",
        "e.alkeney = np.array([1., 0., 0., 0.])\n",
        "e.waterx = np.array([0., 0., 0., 1.])\n",
        "\n",
        "e.rx1 = np.array([-1, 0, 1, -1])\n",
        "e.rx2 = np.array([0, 1, -2, 1])\n",
        "\n",
        "e.rx1_extent = Range(e.alkeneF/2, 0., e.alkeneF)\n",
        "e.rx2_extent = Range(e.alkeneF/4, 0., e.alkeneF/2)\n",
        "\n",
        "e.alcoholP = Range(e.alkeneF/2, 0., e.alkeneF)  \n",
        "e.alcoholPx = np.array([0., 0.005, 0.94, 0.055])\n",
        "\n",
        "e.etherP = Range(e.alkeneF/2, 0., e.alkeneF)\n",
        "e.etherPx = np.array([0.001, 0.98, 0.018, 0.002])"
      ],
      "metadata": {
        "id": "y91AfkgeM3XL"
      },
      "execution_count": 30,
      "outputs": []
    },
    {
      "cell_type": "code",
      "source": [
        "wrap, x, d2, xtod, xtodunk  = dtox(e)"
      ],
      "metadata": {
        "id": "W1SjV7rkND3_"
      },
      "execution_count": 31,
      "outputs": []
    },
    {
      "cell_type": "code",
      "source": [
        "def eqs(d):\n",
        "    r=DotDict()\n",
        "    feed = d.alkeneF*d.alkeney + d.waterF*d.waterx \n",
        "    product = (d.etherP*d.etherPx + d.alcoholP*d.alcoholPx)\n",
        "\n",
        "    molecular_balance = feed + d.rx1_extent*d.rx1 + d.rx2_extent*d.rx2 - product\n",
        "\n",
        "    r.alkene = d.alkeneF*d.alkeney\n",
        "    r.water = d.waterF*d.waterx \n",
        "    r.ether = d.etherP*d.etherPx\n",
        "    r.alcohol = d.alcoholP*d.alcoholPx\n",
        "    return molecular_balance, r"
      ],
      "metadata": {
        "id": "ihz1HodGNG6_"
      },
      "execution_count": 32,
      "outputs": []
    },
    {
      "cell_type": "code",
      "source": [
        "eqs_wrapped = wrap(eqs)\n",
        "eqs_wrapped(x)"
      ],
      "metadata": {
        "colab": {
          "base_uri": "https://localhost:8080/"
        },
        "id": "T6SyaBMhNMzj",
        "outputId": "ed8abe22-0d2b-4ed7-e55e-c02df953017c"
      },
      "execution_count": 33,
      "outputs": [
        {
          "output_type": "execute_result",
          "data": {
            "text/plain": [
              "array([ 49.95, -24.25, -47.9 ,  72.15])"
            ]
          },
          "metadata": {},
          "execution_count": 33
        }
      ]
    },
    {
      "cell_type": "code",
      "source": [
        "sol=root(eqs_wrapped, x)\n",
        "print(sol)\n",
        "solx=sol.x"
      ],
      "metadata": {
        "colab": {
          "base_uri": "https://localhost:8080/"
        },
        "id": "Yq8Nq50_NVWf",
        "outputId": "cdbbaa72-6f88-4aa9-a24e-fa1ee3f94352"
      },
      "execution_count": 34,
      "outputs": [
        {
          "output_type": "stream",
          "name": "stdout",
          "text": [
            "    fjac: array([[-6.20047158e-03,  6.42575319e-01,  7.65262557e-01,\n",
            "         3.78382226e-02],\n",
            "       [-8.63879645e-04,  6.72610397e-01, -5.87059363e-01,\n",
            "         4.50506173e-01],\n",
            "       [-3.25774691e-02,  3.66632454e-01, -2.64036850e-01,\n",
            "        -8.91517747e-01],\n",
            "       [-9.99449607e-01, -1.65183735e-02,  4.36621536e-03,\n",
            "         2.84352445e-02]])\n",
            "     fun: array([-1.40873424e-13, -1.84228632e-09, -2.05412221e-09, -1.19580790e-10])\n",
            " message: 'The solution converged.'\n",
            "    nfev: 34\n",
            "     qtf: array([-1.22865823e-07, -3.85024182e-09, -1.16130166e-09,  8.07790664e-10])\n",
            "       r: array([ 0.92424769, -3.73988483, -2.98734898, -2.71847381, 10.08719343,\n",
            "        1.92374923, -2.4314783 ,  1.11374846, -1.34568877,  0.04592532])\n",
            "  status: 1\n",
            " success: True\n",
            "       x: array([ 9.93202642, -2.14550313,  2.97450864, -2.97450864])\n"
          ]
        }
      ]
    },
    {
      "cell_type": "code",
      "source": [
        "dunk=xtodunk(solx)\n",
        "dunk"
      ],
      "metadata": {
        "colab": {
          "base_uri": "https://localhost:8080/"
        },
        "id": "8bm3_bzwNj7i",
        "outputId": "ed2d78f7-27ca-4b69-8c2e-f0264107db2c"
      },
      "execution_count": 35,
      "outputs": [
        {
          "output_type": "execute_result",
          "data": {
            "text/plain": [
              "{'alcoholP': array([95.14091351]),\n",
              " 'etherP': array([4.85908649]),\n",
              " 'rx1_extent': array([99.99514091]),\n",
              " 'rx2_extent': array([5.23760933])}"
            ]
          },
          "metadata": {},
          "execution_count": 35
        }
      ]
    },
    {
      "cell_type": "code",
      "source": [
        "eqs_wrapped(sol.x)"
      ],
      "metadata": {
        "colab": {
          "base_uri": "https://localhost:8080/"
        },
        "id": "YJJ3E0yYNmmM",
        "outputId": "468b7b19-4071-412c-8c38-8ecb6f7a0f8b"
      },
      "execution_count": 36,
      "outputs": [
        {
          "output_type": "execute_result",
          "data": {
            "text/plain": [
              "array([-1.40873424e-13, -1.84228632e-09, -2.05412221e-09, -1.19580790e-10])"
            ]
          },
          "metadata": {},
          "execution_count": 36
        }
      ]
    },
    {
      "cell_type": "markdown",
      "source": [
        "<img src='https://github.com/profteachkids/CHE2064_Spring2022/raw/main/IsopropylSynthesisProcessDiagram.jpg'>"
      ],
      "metadata": {
        "id": "_FiCvYkNNr5a"
      }
    },
    {
      "cell_type": "code",
      "source": [
        "# Include internal flows (recycle)\n",
        "\n",
        "\n",
        "d=DotDict()\n",
        "d.alkeneF = 100.\n",
        "d.waterF = 100.\n",
        "\n",
        "d.alkeney = np.array([1., 0., 0., 0.])\n",
        "d.waterx = np.array([0., 0., 0., 1.])\n",
        "\n",
        "d.rx1 = np.array([-1, 0, 1, -1])\n",
        "d.rx2 = np.array([0, 1, -2, 1])\n",
        "\n",
        "d.rx1_extent = Range(d.alkeneF/2, 0., d.alkeneF)\n",
        "d.rx2_extent = Range(d.alkeneF/4, 0., d.alkeneF/2)\n",
        "\n",
        "d.alcoholP = Range(d.alkeneF/2, 0., d.alkeneF)  \n",
        "d.alcoholPx = np.array([0., 0.005, 0.94, 0.055])\n",
        "\n",
        "d.etherP = Range(d.alkeneF/2, 0., d.alkeneF)\n",
        "d.etherPx = np.array([0.001, 0.98, 0.018, 0.002])\n",
        "\n",
        "d.WARFR = 12. #water_alkene_reactor_feed_ratio\n",
        "\n",
        "d.D1F = Range(d.alkeneF * d.WARFR, 0., 2.*d.WARFR*d.alkeneF)\n",
        "d.D1Fx = Comp([0.001, 0.03, 0.07, 0.9])\n",
        "\n",
        "d.D1K = np.array([100., 10., 5., 0.2])\n",
        "d.D1Vy = Comp([0.01, 0.299, 0.3, 0.3])\n",
        "d.D1Lx = Comp([0.0001, 0.1, 0.1, 0.8])\n",
        "d.D1V = Range(d.alkeneF * d.WARFR/2, 0., 2.*d.WARFR*d.alkeneF)\n",
        "d.D1L = Range(d.alkeneF * d.WARFR/2, 0., 2.*d.WARFR*d.alkeneF)\n",
        "\n",
        "d.decantW = Range(d.alkeneF * d.WARFR, 0., 2.*d.WARFR*d.alkeneF)\n",
        "d.decantWx = np.array([0.001, 0.005, 0.02, 0.98]) \n"
      ],
      "metadata": {
        "id": "jZoVc-TZpa1D"
      },
      "execution_count": 37,
      "outputs": []
    },
    {
      "cell_type": "code",
      "source": [
        "wrap, x, d2, xtod, xtodunk  = dtox(d)"
      ],
      "metadata": {
        "id": "rHVxiki_phXS"
      },
      "execution_count": 38,
      "outputs": []
    },
    {
      "cell_type": "code",
      "source": [
        "def eqs(d):\n",
        "    r=DotDict()\n",
        "    feed = d.alkeneF*d.alkeney + d.waterF*d.waterx \n",
        "    product = (d.etherP*d.etherPx + d.alcoholP*d.alcoholPx)\n",
        "\n",
        "    molecular_balance = feed + d.rx1_extent*d.rx1 + d.rx2_extent*d.rx2 - product\n",
        "\n",
        "    r.alkene = d.alkeneF*d.alkeney\n",
        "    r.water = d.waterF*d.waterx \n",
        "    r.ether = d.etherP*d.etherPx\n",
        "    r.alcohol = d.alcoholP*d.alcoholPx\n",
        "    return molecular_balance, r\n"
      ],
      "metadata": {
        "id": "_4hviOyfp1k5"
      },
      "execution_count": 39,
      "outputs": []
    },
    {
      "cell_type": "code",
      "source": [
        "def eqs2(d):\n",
        "    r=DotDict()\n",
        "    r.reactor_feed = d.alkeneF*d.alkeney + d.waterF*d.waterx + d.D1L*d.D1Lx + d.decantW*d.decantWx\n",
        "\n",
        "    r.REACTOR = r.reactor_feed + d.rx1_extent*d.rx1 + d.rx2_extent*d.rx2 - d.D1F*d.D1Fx\n",
        "\n",
        "    r.FEED_RATIO = np.atleast_1d((d.waterF+d.D1L+d.decantW)/d.alkeneF - d.WARFR)\n",
        "    \n",
        "    r.D1 = d.D1F*d.D1Fx - d.D1V*d.D1Vy - d.D1L*d.D1Lx\n",
        "    r.D1K = d.D1Vy/d.D1Lx - d.D1K\n",
        "\n",
        "    r.AZ = d.D1V*d.D1Vy - d.etherP*d.etherPx - d.alcoholP*d.alcoholPx - d.decantW*d.decantWx\n",
        "\n",
        "    r.alkene = d.alkeneF*d.alkeney\n",
        "    r.water = d.waterF*d.waterx \n",
        "    r.ether = d.etherP*d.etherPx\n",
        "    r.alcohol = d.alcoholP*d.alcoholPx\n",
        "    return np.concatenate([r.REACTOR, r.FEED_RATIO, r.D1, r.D1K, r.AZ]), r\n"
      ],
      "metadata": {
        "id": "KZUHitSI7nc3"
      },
      "execution_count": 40,
      "outputs": []
    },
    {
      "cell_type": "code",
      "source": [
        "eqs_wrapped = wrap(eqs2)"
      ],
      "metadata": {
        "id": "PCFvkYbXt3VL"
      },
      "execution_count": 41,
      "outputs": []
    },
    {
      "cell_type": "code",
      "source": [
        "eqs_wrapped(x)"
      ],
      "metadata": {
        "colab": {
          "base_uri": "https://localhost:8080/"
        },
        "id": "WEWMqruYu8jv",
        "outputId": "acd109ea-0bcc-4280-a837-d7c1cc728e02"
      },
      "execution_count": 42,
      "outputs": [
        {
          "output_type": "execute_result",
          "data": {
            "text/plain": [
              "array([ 5.00611928e+01,  5.50299646e+01,  7.79166839e-02,  6.52030926e+02,\n",
              "        7.00000000e+00, -5.46185287e+00, -2.21389701e+02, -1.74097719e+02,\n",
              "        4.00949272e+02,  1.00220022e+01, -6.71034213e+00, -1.69933993e+00,\n",
              "        2.12582508e-01,  5.35066007e+00,  1.42109736e+02,  1.26119802e+02,\n",
              "       -9.80830198e+02])"
            ]
          },
          "metadata": {},
          "execution_count": 42
        }
      ]
    },
    {
      "cell_type": "code",
      "source": [
        "sol=root(eqs_wrapped, x)\n",
        "print(sol)\n",
        "solx=sol.x"
      ],
      "metadata": {
        "id": "l8ocZ2P2qyg5",
        "colab": {
          "base_uri": "https://localhost:8080/"
        },
        "outputId": "4e0ec159-561a-437e-b019-ba6ed03beaa0"
      },
      "execution_count": 43,
      "outputs": [
        {
          "output_type": "stream",
          "name": "stdout",
          "text": [
            "    fjac: array([[-5.77351094e-01, -4.83502246e-10,  5.77350485e-01,\n",
            "        -5.77349229e-01, -9.27455809e-12,  8.69615454e-06,\n",
            "        -3.70978143e-07, -6.34428220e-06, -2.03104825e-06,\n",
            "         5.61309619e-06,  6.89161534e-07,  3.42281974e-07,\n",
            "         1.39021030e-08, -7.94132308e-06,  3.75063410e-07,\n",
            "         6.26600170e-06,  1.34907187e-06],\n",
            "       [ 5.77350651e-01, -5.77350066e-01,  5.77350090e-01,\n",
            "        -1.17007619e-06,  9.27455098e-12, -8.69614784e-06,\n",
            "         3.70977857e-07,  6.34427732e-06,  2.03104669e-06,\n",
            "        -5.61309187e-06, -6.89161003e-07, -3.42281711e-07,\n",
            "        -1.39020923e-08,  7.94131697e-06, -3.75063121e-07,\n",
            "        -6.26599687e-06, -1.34907083e-06],\n",
            "       [ 7.31619429e-06, -3.65809061e-06, -5.32029195e-12,\n",
            "         3.65808071e-06,  1.17521576e-16, -1.10386478e-10,\n",
            "         4.70914106e-12,  8.05328026e-11,  2.57816407e-11,\n",
            "        -7.12373494e-11, -8.74798151e-12, -4.34485781e-12,\n",
            "        -1.76465288e-13,  1.00804975e-10,  5.30999263e-03,\n",
            "         9.98278561e-01,  5.84099236e-02],\n",
            "       [ 3.85976778e-07, -1.92988047e-07, -2.75428118e-13,\n",
            "         1.92987535e-07,  6.20165472e-18, -5.74547528e-12,\n",
            "         2.45087371e-13,  4.19151519e-12,  1.34186108e-12,\n",
            "        -3.71358153e-12, -4.55339000e-13, -2.26132535e-13,\n",
            "        -9.18649922e-15,  1.02052156e-03,  9.99984916e-01,\n",
            "        -5.35726316e-03,  6.52772943e-04],\n",
            "       [-2.35401176e-01,  7.20311493e-02,  3.07438368e-01,\n",
            "         5.42845690e-01, -3.78173820e-12, -1.24983605e-05,\n",
            "        -7.95722301e-03, -2.00172139e-01, -7.14188913e-01,\n",
            "         2.28876244e-06,  2.81008374e-07,  1.39566845e-07,\n",
            "         5.66863816e-09, -3.23824537e-06,  2.91901192e-09,\n",
            "        -2.33668551e-08,  3.99096594e-07],\n",
            "       [ 2.45844327e-01,  3.09877763e-01,  6.40204749e-02,\n",
            "        -1.81836848e-01, -1.02614383e-11, -8.84599846e-01,\n",
            "        -1.65870119e-03, -4.17019741e-02, -1.48709062e-01,\n",
            "         6.21015754e-06,  7.62466942e-07,  3.78690151e-07,\n",
            "         1.53808560e-08, -8.78641084e-06,  7.92036310e-09,\n",
            "        -6.34022209e-08,  1.08287866e-06],\n",
            "       [ 2.20409294e-01,  4.51392571e-01,  2.30986352e-01,\n",
            "         1.05801347e-02,  7.08156378e-12,  2.20415164e-01,\n",
            "        -7.98892742e-01,  2.31887698e-02,  8.27507012e-02,\n",
            "        -4.28582368e-06, -5.26202357e-07, -2.61345957e-07,\n",
            "        -1.06148111e-08,  6.06377780e-06, -5.46606656e-09,\n",
            "         4.37557876e-08, -7.47328514e-07],\n",
            "       [ 4.72078400e-02,  1.68421474e-01,  1.21222850e-01,\n",
            "         7.40242403e-02,  1.51707209e-12,  4.72261774e-02,\n",
            "         1.68437456e-01, -8.89374890e-01,  3.57270032e-01,\n",
            "        -9.18115130e-07, -1.12723805e-07, -5.59858967e-08,\n",
            "        -2.27391968e-09,  1.29899097e-06, -1.17098708e-09,\n",
            "         9.37353303e-09, -1.60093753e-07],\n",
            "       [ 2.93614774e-05,  7.11407058e-06, -3.19660010e-05,\n",
            "        -7.10460861e-05, -2.17820524e-15,  2.93614949e-05,\n",
            "         7.11407027e-06, -3.19660010e-05, -7.10460861e-05,\n",
            "        -9.99999974e-01,  1.67836489e-05,  8.39182394e-06,\n",
            "         3.35670319e-07, -1.91799843e-04,  1.73268096e-07,\n",
            "        -1.36133351e-06,  2.32506706e-05],\n",
            "       [-1.00565366e-01, -1.00565380e-01, -4.76638055e-07,\n",
            "         1.00564446e-01, -3.23096633e-12, -1.00565366e-01,\n",
            "        -1.00565380e-01, -4.76638053e-07,  1.00564446e-01,\n",
            "        -7.03241168e-06,  9.66656740e-01, -2.35471645e-02,\n",
            "        -9.41884958e-04, -5.28705218e-04,  6.40774965e-05,\n",
            "         3.84729045e-03, -6.57595078e-02],\n",
            "       [-1.33458781e-01, -1.33455641e-01, -5.74812948e-07,\n",
            "         1.33454517e-01, -4.28797414e-12, -1.33458781e-01,\n",
            "        -1.33455641e-01, -5.74812941e-07,  1.33454517e-01,\n",
            "        -5.24255206e-05, -1.45542750e-01,  5.31864654e-02,\n",
            "        -9.16499683e-03,  8.09619790e-05,  8.99109633e-04,\n",
            "         5.44470897e-02, -9.30631873e-01],\n",
            "       [-1.27432767e-01,  1.74147835e-02,  1.44831875e-01,\n",
            "         2.72249018e-01,  1.01490260e-11, -1.27432767e-01,\n",
            "         1.74147835e-02,  1.44831875e-01,  2.72249018e-01,\n",
            "        -2.20730858e-04, -7.22279047e-02, -4.95018230e-02,\n",
            "         7.01193634e-04,  8.68986765e-01, -1.00059759e-03,\n",
            "        -6.88537926e-03,  1.17768339e-01],\n",
            "       [ 3.47067259e-01,  3.99918168e-01,  5.28507493e-02,\n",
            "        -2.94216725e-01,  1.63488116e-11,  3.47067259e-01,\n",
            "         3.99918168e-01,  5.28507493e-02, -2.94216725e-01,\n",
            "         4.18665126e-08,  1.97913736e-01,  1.24518802e-01,\n",
            "        -2.36440595e-03,  3.19737908e-01, -1.58400056e-05,\n",
            "         1.88001332e-02, -3.21309885e-01],\n",
            "       [ 4.52755781e-02,  4.46809491e-02, -5.94652901e-04,\n",
            "        -4.58702636e-02,  1.38814062e-12,  4.52755781e-02,\n",
            "         4.46809491e-02, -5.94652901e-04, -4.58702636e-02,\n",
            "        -8.36271858e-08, -2.30752234e-03, -9.89244730e-01,\n",
            "         6.77676888e-03, -3.21974416e-03,  9.49544008e-05,\n",
            "         5.55061962e-03, -9.48737548e-02],\n",
            "       [-3.65309045e-04, -3.78380273e-01, -3.78015187e-01,\n",
            "        -3.77650172e-01,  6.17411974e-12, -3.65309039e-04,\n",
            "        -3.78380273e-01, -3.78015187e-01, -3.77650172e-01,\n",
            "        -1.58871873e-09, -3.89245204e-07, -2.37000230e-05,\n",
            "        -3.12977059e-03,  3.77645490e-01, -3.85753872e-04,\n",
            "        -1.99711845e-05,  3.76394185e-04],\n",
            "       [-1.64571951e-11, -1.05306993e-12, -6.59874460e-13,\n",
            "        -2.66679035e-13,  1.00000000e+00, -1.64575113e-11,\n",
            "        -1.05308620e-12, -6.59937390e-13, -2.66963788e-13,\n",
            "        -1.87083769e-17,  6.30124802e-14,  4.27887064e-12,\n",
            "         5.71629893e-10, -1.56033284e-11,  2.07937547e-14,\n",
            "         2.94825653e-13, -5.04072799e-12],\n",
            "       [-7.15909303e-04, -1.87166500e-03, -1.15575603e-03,\n",
            "        -4.39847134e-04, -5.71672726e-10, -7.15909303e-04,\n",
            "        -1.87166500e-03, -1.15575603e-03, -4.39847134e-04,\n",
            "         4.00265034e-09,  1.10819212e-04,  7.49875715e-03,\n",
            "         9.99926654e-01,  1.35076861e-03,  7.11456764e-06,\n",
            "         5.14270189e-04, -8.78999065e-03]])\n",
            "     fun: array([-2.62082023e-14,  0.00000000e+00,  5.68434189e-14,  2.27373675e-13,\n",
            "        0.00000000e+00,  9.87491339e-16,  0.00000000e+00, -2.84217094e-14,\n",
            "       -1.13686838e-13, -5.68434189e-14,  1.77635684e-15,  0.00000000e+00,\n",
            "        2.22044605e-16, -8.96852037e-16,  1.38777878e-15, -2.44249065e-15,\n",
            "        2.13162821e-14])\n",
            " message: 'The solution converged.'\n",
            "    nfev: 104\n",
            "     qtf: array([-6.28624523e-10, -4.91197775e-14,  7.48112736e-13,  3.73729156e-14,\n",
            "        2.76500363e-13, -8.59225504e-13,  2.11570248e-13,  6.34134235e-13,\n",
            "       -8.27494178e-13, -5.50755522e-14, -2.79171335e-13, -1.15452218e-12,\n",
            "        5.76002460e-14,  8.89984333e-15,  7.57497735e-14, -5.83101301e-21,\n",
            "        1.03128954e-16])\n",
            "       r: array([ 8.41541467e-03, -8.12151081e+00, -2.75816614e-05, -2.19635274e-06,\n",
            "        1.93053529e+02,  5.33417540e-03, -3.33105343e+00, -2.34167670e+02,\n",
            "        7.08905008e-04, -7.14596830e-05, -2.57209243e-04, -7.46406585e-04,\n",
            "        1.98305412e+00,  1.65609002e+02,  1.14366558e-03, -2.33786377e+02,\n",
            "       -7.83285580e+00, -8.12151703e+00,  2.75812023e-05,  2.19640764e-06,\n",
            "       -7.21928717e+01, -9.53934830e-03,  7.22222559e+00, -1.19025713e+02,\n",
            "       -5.60658673e-04,  7.13965556e-05,  2.57208180e-04,  1.45274707e-03,\n",
            "       -3.35579810e+00,  8.34898415e+01, -1.14366898e-03,  5.23488438e+01,\n",
            "        1.30415449e-01, -4.35309308e+00, -1.07667404e-01, -1.68060236e-03,\n",
            "       -9.42382262e-08,  6.68655984e-05,  7.29540723e-04, -1.52363017e-02,\n",
            "       -4.18912615e+00,  1.83064417e+01,  2.08772164e-07, -3.38269972e-05,\n",
            "       -5.20307910e-04,  8.64727218e+01,  1.81295415e-03, -1.09029633e+00,\n",
            "       -4.53001617e+00, -8.86627152e-05, -4.97167650e-09,  3.52759508e-06,\n",
            "        3.84880061e-05, -7.92612864e-04,  5.08372198e+00, -4.28406316e+00,\n",
            "        1.08951781e-08, -1.78459407e-06, -2.74496172e-05,  4.60946581e+00,\n",
            "        9.56451307e-05, -7.81166228e-02, -6.50505801e+02,  2.75441035e-02,\n",
            "        1.03957407e+01,  1.50169892e+02, -5.09102926e-03, -1.43027087e+00,\n",
            "       -6.93381893e+00, -2.72351897e-03, -5.31467481e+00, -1.06846871e+02,\n",
            "        3.01925765e+01,  6.74115102e+02,  7.59889874e+00, -2.35948960e-02,\n",
            "       -3.22502613e+00, -2.75344701e+01,  1.64754871e-02, -2.98703165e-01,\n",
            "       -1.45715397e+00,  1.45608302e-03,  1.62011615e+00,  1.96956746e+01,\n",
            "        6.30478333e+00, -5.77014082e+00, -2.47233013e+00, -1.29429205e+01,\n",
            "       -5.41192466e+01, -4.75114155e-03,  4.21460197e+00, -2.52905242e+00,\n",
            "        4.68745497e-04,  6.41669763e+00,  3.92160802e+01,  5.41743433e-01,\n",
            "       -1.30990219e+01,  2.46580715e-01, -2.63200146e+02, -1.31011174e-02,\n",
            "       -4.24440687e+00,  2.31945174e+01,  2.35214418e-04,  3.96343570e-01,\n",
            "        1.85852603e+02,  6.86940694e+01, -4.67351060e+01,  1.07091885e+00,\n",
            "       -9.99831270e+01,  4.64470139e+00,  7.85733468e+01,  9.99997204e+01,\n",
            "       -4.64646184e-01, -1.57148783e+01,  4.29908299e-03, -2.15964351e-09,\n",
            "       -1.30963636e-03,  9.86434297e+00, -5.46320447e+00,  7.19310991e-04,\n",
            "       -9.62220685e+00,  1.61818224e+00, -2.19531778e+00,  3.82278355e-06,\n",
            "        2.29151080e+00,  1.77109213e+01,  5.24054902e-03,  1.44986804e+00,\n",
            "       -4.53971004e-01, -1.40784496e+01,  5.07303673e-06,  1.46950251e+01,\n",
            "        2.20712505e-02,  7.17672140e-01,  9.16620827e-02, -1.58697533e+01,\n",
            "        7.82795290e-06,  2.16732985e+00, -1.96705298e+00, -2.13809707e-01,\n",
            "       -5.42912619e+00, -1.21040872e-05,  4.13067152e-01,  4.16551133e+00,\n",
            "       -5.94906901e-01, -1.73332434e-06,  6.80066057e-01,  4.11449109e+01,\n",
            "       -7.77535187e-06, -5.36878962e+00,  5.94565866e+00,  1.41174714e-01,\n",
            "        1.14891947e-01])\n",
            "  status: 1\n",
            " success: True\n",
            "       x: array([ 9.93202642e+00, -2.14550313e+00,  2.97450864e+00, -2.97450864e+00,\n",
            "        1.50113563e-04, -1.07037870e+01, -4.49723802e+00, -1.27205458e+00,\n",
            "       -6.91295416e+00, -1.28349067e+00,  1.54480699e+00, -1.31275623e+01,\n",
            "       -5.19551367e+00, -1.67406883e+00, -2.99567841e+00, -1.90913610e-01,\n",
            "       -5.12394095e+00])\n"
          ]
        }
      ]
    },
    {
      "cell_type": "code",
      "source": [
        "dunk=xtodunk(solx)\n",
        "dunk"
      ],
      "metadata": {
        "colab": {
          "base_uri": "https://localhost:8080/"
        },
        "id": "AetCqijIr3lF",
        "outputId": "467dff0a-595c-4daa-c427-94fa5d5528c0"
      },
      "execution_count": 44,
      "outputs": [
        {
          "output_type": "execute_result",
          "data": {
            "text/plain": [
              "{'D1F': array([1200.09006814]),\n",
              " 'D1Fx': array([1.73915272e-05, 8.62596534e-03, 2.17013664e-01, 7.74342979e-01]),\n",
              " 'D1L': array([1085.79849147]),\n",
              " 'D1Lx': array([1.66771652e-06, 4.64480150e-03, 1.57148856e-01, 8.38204675e-01]),\n",
              " 'D1V': array([114.29157667]),\n",
              " 'D1Vy': array([1.66771652e-04, 4.64480150e-02, 7.85744278e-01, 1.67640935e-01]),\n",
              " 'alcoholP': array([95.14091351]),\n",
              " 'decantW': array([14.20150853]),\n",
              " 'etherP': array([4.85908649]),\n",
              " 'rx1_extent': array([99.99514091]),\n",
              " 'rx2_extent': array([5.23760933])}"
            ]
          },
          "metadata": {},
          "execution_count": 44
        }
      ]
    },
    {
      "cell_type": "code",
      "source": [
        "eqs_wrapped(sol.x)"
      ],
      "metadata": {
        "id": "w7IBxauHFqQb",
        "colab": {
          "base_uri": "https://localhost:8080/"
        },
        "outputId": "b2b393ce-57c6-40e0-9b53-8159962e0258"
      },
      "execution_count": 45,
      "outputs": [
        {
          "output_type": "execute_result",
          "data": {
            "text/plain": [
              "array([-2.62082023e-14,  0.00000000e+00,  5.68434189e-14,  2.27373675e-13,\n",
              "        0.00000000e+00,  9.87491339e-16,  0.00000000e+00, -2.84217094e-14,\n",
              "       -1.13686838e-13, -5.68434189e-14,  1.77635684e-15,  0.00000000e+00,\n",
              "        2.22044605e-16, -8.96852037e-16,  1.38777878e-15, -2.44249065e-15,\n",
              "        2.13162821e-14])"
            ]
          },
          "metadata": {},
          "execution_count": 45
        }
      ]
    },
    {
      "cell_type": "code",
      "source": [
        ""
      ],
      "metadata": {
        "id": "wMY-2wP0iR7E"
      },
      "execution_count": null,
      "outputs": []
    },
    {
      "cell_type": "code",
      "source": [
        ""
      ],
      "metadata": {
        "id": "O_kXt1fv5RQr"
      },
      "execution_count": null,
      "outputs": []
    }
  ]
}