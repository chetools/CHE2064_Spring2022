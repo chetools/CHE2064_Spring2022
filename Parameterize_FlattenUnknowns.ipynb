{
  "nbformat": 4,
  "nbformat_minor": 0,
  "metadata": {
    "colab": {
      "name": "Parameterize_FlattenUnknowns.ipynb",
      "provenance": [],
      "authorship_tag": "ABX9TyPIwGCCxB4wNgsIoJqwniJI",
      "include_colab_link": true
    },
    "kernelspec": {
      "name": "python3",
      "display_name": "Python 3"
    },
    "language_info": {
      "name": "python"
    }
  },
  "cells": [
    {
      "cell_type": "markdown",
      "metadata": {
        "id": "view-in-github",
        "colab_type": "text"
      },
      "source": [
        "<a href=\"https://colab.research.google.com/github/profteachkids/CHE2064_Spring2022/blob/main/Parameterize_FlattenUnknowns.ipynb\" target=\"_parent\"><img src=\"https://colab.research.google.com/assets/colab-badge.svg\" alt=\"Open In Colab\"/></a>"
      ]
    },
    {
      "cell_type": "code",
      "execution_count": 66,
      "metadata": {
        "id": "BIZQ7SetlG7a"
      },
      "outputs": [],
      "source": [
        "import numpy as np\n",
        "from functools import partial\n",
        "import copy"
      ]
    },
    {
      "cell_type": "code",
      "source": [
        "class Unk():\n",
        "\n",
        "    def __init__(self,x):\n",
        "        if type(x) is np.ndarray:\n",
        "            self.shape=x.shape\n",
        "            self.size = x.size\n",
        "        else:\n",
        "            self.shape=tuple()\n",
        "            self.size=1"
      ],
      "metadata": {
        "id": "fRa4-vqUlqET"
      },
      "execution_count": 190,
      "outputs": []
    },
    {
      "cell_type": "code",
      "source": [
        "def parameterize(f, **kw):\n",
        "\n",
        "    params={}\n",
        "    vars=[]\n",
        "    for k,v in kw.items():\n",
        "        if v is None:\n",
        "            vars.append(k)\n",
        "        else:\n",
        "            params[k]=v\n",
        "\n",
        "    def f_parameterized(v):\n",
        "        var_dict = {k:v for k,v in zip(vars,v)}\n",
        "        params.update(var_dict)\n",
        "        return eqs(**params)\n",
        "\n",
        "\n",
        "    return f_parameterized"
      ],
      "metadata": {
        "id": "za-rhwnmlIVU"
      },
      "execution_count": 191,
      "outputs": []
    },
    {
      "cell_type": "code",
      "source": [
        "def concat(list_of_vec):\n",
        "    return np.concatenate([np.ravel(vec) for vec in list_of_vec])"
      ],
      "metadata": {
        "id": "m52iEskCCvJ3"
      },
      "execution_count": 210,
      "outputs": []
    },
    {
      "cell_type": "code",
      "source": [
        "def parameterize2(f, **kw):\n",
        "\n",
        "    params={}\n",
        "    vars=[]\n",
        "    shapes=[]\n",
        "    sizes=[]\n",
        "    for k,v in kw.items():\n",
        "        if isinstance(v,Unk):\n",
        "            vars.append(k)\n",
        "            shapes.append(v.shape)\n",
        "            sizes.append(v.size)\n",
        "        else:\n",
        "            params[k]=v\n",
        "    indices=np.cumsum(sizes)\n",
        "\n",
        "    def f_parameterized(v):\n",
        "        var_dict = {k:v.reshape(shape) for k,shape,v in zip(vars,shapes,np.split(v,indices))}\n",
        "        print(var_dict)\n",
        "        params.update(var_dict)\n",
        "        return eqs(**params)\n",
        "\n",
        "\n",
        "    return f_parameterized"
      ],
      "metadata": {
        "id": "dQhsuP7O-XEB"
      },
      "execution_count": 225,
      "outputs": []
    },
    {
      "cell_type": "code",
      "source": [
        "def eqs(vtot, mtot, x1, x2, P):\n",
        "    print(vtot, mtot, x1, x2, P)\n",
        "    return\n",
        "\n",
        "x1guess = np.random.uniform(size=(2,3))\n",
        "x2guess = np.array([0.3,0.7])\n",
        "Pguess = 1e5\n",
        "f = parameterize2(eqs, x1=Unk(x1guess), x2=Unk(x2guess), P=Unk(Pguess), vtot=10., mtot=1.)"
      ],
      "metadata": {
        "id": "VwL5VO8IlbUD"
      },
      "execution_count": 228,
      "outputs": []
    },
    {
      "cell_type": "code",
      "source": [
        "f(concat([x1guess, x2guess, Pguess]))"
      ],
      "metadata": {
        "colab": {
          "base_uri": "https://localhost:8080/"
        },
        "id": "q14LyZeYldCS",
        "outputId": "551bbe0e-8c4e-4ded-d8dd-64ca889bd2ae"
      },
      "execution_count": 229,
      "outputs": [
        {
          "output_type": "stream",
          "name": "stdout",
          "text": [
            "{'x1': array([[0.50813007, 0.447842  , 0.37464465],\n",
            "       [0.07378799, 0.60583112, 0.1691554 ]]), 'x2': array([0.3, 0.7]), 'P': array(100000.)}\n",
            "10.0 1.0 [[0.50813007 0.447842   0.37464465]\n",
            " [0.07378799 0.60583112 0.1691554 ]] [0.3 0.7] 100000.0\n"
          ]
        }
      ]
    }
  ]
}