{
  "nbformat": 4,
  "nbformat_minor": 0,
  "metadata": {
    "colab": {
      "name": "DistillationNRTL.ipynb",
      "provenance": [],
      "collapsed_sections": [],
      "authorship_tag": "ABX9TyM5lMtvGifcjOvjI6K+VLWG",
      "include_colab_link": true
    },
    "kernelspec": {
      "name": "python3",
      "display_name": "Python 3"
    },
    "language_info": {
      "name": "python"
    }
  },
  "cells": [
    {
      "cell_type": "markdown",
      "metadata": {
        "id": "view-in-github",
        "colab_type": "text"
      },
      "source": [
        "<a href=\"https://colab.research.google.com/github/profteachkids/CHE2064_Spring2022/blob/main/DistillationNRTL.ipynb\" target=\"_parent\"><img src=\"https://colab.research.google.com/assets/colab-badge.svg\" alt=\"Open In Colab\"/></a>"
      ]
    },
    {
      "cell_type": "code",
      "source": [
        "!wget -N -q https://raw.githubusercontent.com/profteachkids/chetools/main/tools/che.py\n",
        "!wget -N -q https://raw.githubusercontent.com/profteachkids/chetools/main/tools/FlattenWrap.ipynb\n",
        "!pip install importnb"
      ],
      "metadata": {
        "colab": {
          "base_uri": "https://localhost:8080/"
        },
        "id": "69l3XTFqXPJl",
        "outputId": "60d23a99-dc22-4467-d9fe-f2c96847746a"
      },
      "execution_count": 1,
      "outputs": [
        {
          "output_type": "stream",
          "name": "stdout",
          "text": [
            "Collecting importnb\n",
            "  Downloading importnb-0.7.0-py3-none-any.whl (24 kB)\n",
            "Installing collected packages: importnb\n",
            "Successfully installed importnb-0.7.0\n"
          ]
        }
      ]
    },
    {
      "cell_type": "code",
      "source": [
        "from importnb import Notebook\n",
        "with Notebook(): \n",
        "    from FlattenWrap import DotDict, Range, RangeArray, Comp, CompArray, dtox\n",
        "\n",
        "import che\n",
        "import numpy as np\n",
        "from scipy.optimize import root"
      ],
      "metadata": {
        "id": "RRVu8H8IXa3w"
      },
      "execution_count": 2,
      "outputs": []
    },
    {
      "cell_type": "code",
      "source": [
        "p=che.Props(['Ethanol','Water'])"
      ],
      "metadata": {
        "id": "aIjT8yBZI59y",
        "colab": {
          "base_uri": "https://localhost:8080/"
        },
        "outputId": "c1786029-0910-40d0-db0a-62aa76f9798a"
      },
      "execution_count": 3,
      "outputs": [
        {
          "output_type": "stream",
          "name": "stderr",
          "text": [
            "WARNING:absl:No GPU/TPU found, falling back to CPU. (Set TF_CPP_MIN_LOG_LEVEL=0 and rerun for more info.)\n"
          ]
        }
      ]
    },
    {
      "cell_type": "code",
      "source": [
        "d=DotDict()\n",
        "\n",
        "d.P = 1e5\n",
        "d.N = 5\n",
        "d.NC = p.N_comps\n",
        "d.F= 100.\n",
        "d.Fz = np.array([0.2,0.8])\n",
        "d.FT =320.\n",
        "d.D = 0.25*d.F\n",
        "d.B = d.F - d.D\n",
        "\n",
        "d.F_stage = d.N // 2\n",
        "\n",
        "d.reflux_ratio = 10.\n"
      ],
      "metadata": {
        "id": "jZoVc-TZpa1D"
      },
      "execution_count": 117,
      "outputs": []
    },
    {
      "cell_type": "code",
      "source": [
        "def boiling_points(P):\n",
        "    return root(lambda T: np.diagonal(p.Pvap(T)) - P, p.Tb).x"
      ],
      "metadata": {
        "id": "XVAYxAph53mL"
      },
      "execution_count": 118,
      "outputs": []
    },
    {
      "cell_type": "code",
      "source": [
        "d.bp = boiling_points(d.P)\n",
        "bp_scaled = (d.bp - np.mean(d.bp))/1.2 + np.mean(d.bp)\n",
        "bp_minmax = np.min(d.bp), np.max(d.bp)\n",
        "\n",
        "# Bug in root solver: convergence failure if T_guess is exactly linearly spaced\n",
        "d.T = RangeArray(np.round(np.linspace(*bp_scaled,d.N)), *bp_minmax)\n",
        "d.TC = Range(bp_scaled[-1], *bp_minmax)\n",
        "\n",
        "Lguess = np.repeat(d.D*(d.reflux_ratio),d.N)\n",
        "Lguess[d.F_stage:]+=d.F\n",
        "\n",
        "d.L = RangeArray(Lguess, 0., 2*d.F*d.reflux_ratio)\n",
        "d.V = RangeArray(np.repeat(d.D*(d.reflux_ratio+1),d.N), 0., 2*d.F*d.reflux_ratio)\n",
        "\n",
        "QBGuess = d.D * d.reflux_ratio* np.mean(p.HvapNB)\n",
        "d.QB = Range(QBGuess, 0., 2*QBGuess )\n",
        "d.QC = Range(QBGuess, 0., 2*QBGuess)\n",
        "\n",
        "d.Lx = CompArray(np.tile(d.Fz,(d.N,1)))\n",
        "d.Vy = CompArray(np.tile(d.Fz,(d.N,1)))\n",
        "\n"
      ],
      "metadata": {
        "id": "cPLRlJOS52Fs"
      },
      "execution_count": 119,
      "outputs": []
    },
    {
      "cell_type": "code",
      "source": [
        "wrap, x, d2, xtod, xtodunk  = dtox(d)"
      ],
      "metadata": {
        "id": "rHVxiki_phXS"
      },
      "execution_count": 120,
      "outputs": []
    },
    {
      "cell_type": "code",
      "source": [
        "r = DotDict()\n",
        "\n",
        "r.MB = np.zeros((d.N,d.NC))\n",
        "zeros = np.zeros((1,p.N_comps))\n",
        "def eqs(d):\n",
        "    r.EQUIL = d.Lx * p.NRTL_gamma(d.Lx,d.T)* p.Pvap(d.T) - d.Vy*d.P\n",
        "\n",
        "\n",
        "    r.Lin = np.r_[(d.L[0]*d.Vy[0])[None,:], d.L[1:,None]*d.Lx[:-1]]\n",
        "\n",
        "    r.Lout = np.r_[d.L[1:,None]*d.Lx[:-1], (d.B*d.Lx[-1])[None,:]]\n",
        "\n",
        "    r.Vin = np.r_[d.V[1:,None]*d.Vy[1:], zeros]\n",
        "    r.Vout = d.V[:,None]*d.Vy\n",
        "\n",
        "    r.MB = r.Lin - r.Lout + r.Vin - r.Vout\n",
        "\n",
        "    r.MB[d.F_stage-1] += d.F*d.Fz\n",
        "\n",
        "    r.TCBP = np.atleast_1d(np.sum(d.Vy[0]* p.NRTL_gamma(d.Vy[0],d.TC) * p.Pvap(d.TC)) - d.P)\n",
        "\n",
        "    r.T = np.insert(d.T,0,d.TC)\n",
        "    r.EB = np.array(p.Hl(r.Lin, r.T[:-1]) + p.Hv(r.Vin, r.T[1:]) - p.Hl(r.Lout, r.T[1:]) - p.Hv(r.Vout, r.T[1:]))\n",
        "    r.EB[d.F_stage-1] += np.array(p.Hl(d.F*d.Fz, d.FT))\n",
        "    r.EB[-1]+=d.QB\n",
        "\n",
        "    r.CONDENSER = np.atleast_1d(p.Hv(r.Vout[0],r.T[1]) - p.Hl(r.Vout[0], r.T[0]) - d.QC)\n",
        "\n",
        "    r.RF = np.atleast_1d((d.V[0]-d.D)/d.D) - d.reflux_ratio\n",
        "    return np.concatenate([np.ravel(r.EQUIL), np.ravel(r.MB), np.ravel(r.EB), r.TCBP, r.RF, r.CONDENSER]), r\n"
      ],
      "metadata": {
        "id": "_4hviOyfp1k5"
      },
      "execution_count": 121,
      "outputs": []
    },
    {
      "cell_type": "code",
      "source": [
        "eqs_wrapped = wrap(eqs)"
      ],
      "metadata": {
        "id": "PCFvkYbXt3VL"
      },
      "execution_count": 122,
      "outputs": []
    },
    {
      "cell_type": "code",
      "source": [
        "eqs(d2)"
      ],
      "metadata": {
        "colab": {
          "base_uri": "https://localhost:8080/"
        },
        "id": "BlZyRCmn0Os6",
        "outputId": "253ed023-7adf-47d4-a11e-afe28790f16a"
      },
      "execution_count": 123,
      "outputs": [
        {
          "output_type": "execute_result",
          "data": {
            "text/plain": [
              "(array([   28260.66411978,   -38557.22261603,    35975.55556413,\n",
              "          -31439.28632752,    47001.12752078,   -21130.74535836,\n",
              "           57035.003219  ,   -11625.43303876,    71246.8771669 ,\n",
              "            2017.08176322,        0.        ,        0.        ,\n",
              "               0.        ,        0.        ,        0.        ,\n",
              "               0.        ,        0.        ,        0.        ,\n",
              "               0.        ,        0.        ,   402568.77421135,\n",
              "         -408847.08628159,  -156128.98719361,  -125812.5516936 ,\n",
              "        -1268325.64603498,    73111.08838542,        0.        ,\n",
              "          927427.86421982]),\n",
              " {'CONDENSER': array([927427.86421982]),\n",
              "  'EB': array([  402568.77421135,  -408847.08628159,  -156128.98719361,\n",
              "          -125812.5516936 , -1268325.64603498]),\n",
              "  'EQUIL': DeviceArray([[ 28260.66411978, -38557.22261603],\n",
              "               [ 35975.55556413, -31439.28632752],\n",
              "               [ 47001.12752078, -21130.74535836],\n",
              "               [ 57035.003219  , -11625.43303876],\n",
              "               [ 71246.8771669 ,   2017.08176322]], dtype=float64),\n",
              "  'Lin': array([[ 50., 200.],\n",
              "         [ 50., 200.],\n",
              "         [ 70., 280.],\n",
              "         [ 70., 280.],\n",
              "         [ 70., 280.]]),\n",
              "  'Lout': array([[ 50., 200.],\n",
              "         [ 70., 280.],\n",
              "         [ 70., 280.],\n",
              "         [ 70., 280.],\n",
              "         [ 15.,  60.]]),\n",
              "  'MB': array([[0., 0.],\n",
              "         [0., 0.],\n",
              "         [0., 0.],\n",
              "         [0., 0.],\n",
              "         [0., 0.]]),\n",
              "  'RF': array([0.]),\n",
              "  'T': array([370.97441654, 353.        , 357.        , 362.        ,\n",
              "         366.        , 371.        ]),\n",
              "  'TCBP': array([73111.08838542]),\n",
              "  'Vin': array([[ 55., 220.],\n",
              "         [ 55., 220.],\n",
              "         [ 55., 220.],\n",
              "         [ 55., 220.],\n",
              "         [  0.,   0.]]),\n",
              "  'Vout': array([[ 55., 220.],\n",
              "         [ 55., 220.],\n",
              "         [ 55., 220.],\n",
              "         [ 55., 220.],\n",
              "         [ 55., 220.]])})"
            ]
          },
          "metadata": {},
          "execution_count": 123
        }
      ]
    },
    {
      "cell_type": "code",
      "source": [
        "sol=root(eqs_wrapped, x, )\n",
        "print(sol)\n",
        "solx=sol.x"
      ],
      "metadata": {
        "id": "l8ocZ2P2qyg5"
      },
      "execution_count": null,
      "outputs": []
    },
    {
      "cell_type": "code",
      "source": [
        "res=xtod(sol.x,d2)\n",
        "print(res.Lx)\n",
        "print(res.Vy)"
      ],
      "metadata": {
        "id": "AetCqijIr3lF",
        "colab": {
          "base_uri": "https://localhost:8080/"
        },
        "outputId": "f33a653d-9322-46d0-c206-c0decd45f49d"
      },
      "execution_count": 125,
      "outputs": [
        {
          "output_type": "stream",
          "name": "stdout",
          "text": [
            "[[0.64523761 0.35476239]\n",
            " [0.49593656 0.50406344]\n",
            " [0.41502449 0.58497551]\n",
            " [0.17359086 0.82640914]\n",
            " [0.02595959 0.97404041]]\n",
            "[[0.72212123 0.27787877]\n",
            " [0.65225893 0.34774107]\n",
            " [0.62144007 0.37855993]\n",
            " [0.51955532 0.48044468]\n",
            " [0.21385867 0.78614133]]\n"
          ]
        }
      ]
    },
    {
      "cell_type": "code",
      "source": [
        "eqs(xtod(sol.x,d2))"
      ],
      "metadata": {
        "id": "w7IBxauHFqQb"
      },
      "execution_count": null,
      "outputs": []
    },
    {
      "cell_type": "code",
      "source": [
        ""
      ],
      "metadata": {
        "id": "yjnlFIa5Nnf-"
      },
      "execution_count": 13,
      "outputs": []
    }
  ]
}