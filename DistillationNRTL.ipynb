{
  "nbformat": 4,
  "nbformat_minor": 0,
  "metadata": {
    "colab": {
      "name": "DistillationNRTL.ipynb",
      "provenance": [],
      "collapsed_sections": [],
      "authorship_tag": "ABX9TyNattAGrfk8rJZZrTphcM13",
      "include_colab_link": true
    },
    "kernelspec": {
      "name": "python3",
      "display_name": "Python 3"
    },
    "language_info": {
      "name": "python"
    }
  },
  "cells": [
    {
      "cell_type": "markdown",
      "metadata": {
        "id": "view-in-github",
        "colab_type": "text"
      },
      "source": [
        "<a href=\"https://colab.research.google.com/github/profteachkids/CHE2064_Spring2022/blob/main/DistillationNRTL.ipynb\" target=\"_parent\"><img src=\"https://colab.research.google.com/assets/colab-badge.svg\" alt=\"Open In Colab\"/></a>"
      ]
    },
    {
      "cell_type": "code",
      "source": [
        "!wget -N -q https://raw.githubusercontent.com/profteachkids/chetools/main/tools/che.ipynb\n",
        "!wget -N -q https://raw.githubusercontent.com/profteachkids/chetools/main/tools/FlattenWrap.ipynb\n",
        "!pip install importnb"
      ],
      "metadata": {
        "colab": {
          "base_uri": "https://localhost:8080/"
        },
        "id": "69l3XTFqXPJl",
        "outputId": "567bc303-3a98-425e-d3fa-5e54a5515e4f"
      },
      "execution_count": 1,
      "outputs": [
        {
          "output_type": "stream",
          "name": "stdout",
          "text": [
            "Collecting importnb\n",
            "  Downloading importnb-0.7.0-py3-none-any.whl (24 kB)\n",
            "Installing collected packages: importnb\n",
            "Successfully installed importnb-0.7.0\n"
          ]
        }
      ]
    },
    {
      "cell_type": "code",
      "source": [
        "from importnb import Notebook\n",
        "with Notebook(): \n",
        "    from FlattenWrap import DotDict, Range, RangeArray, Comp, CompArray, dtox\n",
        "    from che import Props\n",
        "\n",
        "import numpy as np\n",
        "from scipy.optimize import root"
      ],
      "metadata": {
        "id": "RRVu8H8IXa3w"
      },
      "execution_count": 2,
      "outputs": []
    },
    {
      "cell_type": "code",
      "source": [
        "p=Props(['Ethanol','Water'])"
      ],
      "metadata": {
        "id": "aIjT8yBZI59y"
      },
      "execution_count": 3,
      "outputs": []
    },
    {
      "cell_type": "code",
      "source": [
        "d=DotDict()\n",
        "\n",
        "d.P = 1e5\n",
        "d.N = 10\n",
        "d.NC = p.N_comps\n",
        "d.F= 100.\n",
        "d.Fz = np.array([0.2,0.8])\n",
        "d.FT =320.\n",
        "d.D = 0.25*d.F\n",
        "d.B = d.F - d.D\n",
        "\n",
        "d.F_stage = d.N // 2\n",
        "\n",
        "d.reflux_ratio = 10.\n"
      ],
      "metadata": {
        "id": "jZoVc-TZpa1D"
      },
      "execution_count": 13,
      "outputs": []
    },
    {
      "cell_type": "code",
      "source": [
        "def boiling_points(P):\n",
        "    return root(lambda T: np.diagonal(p.Pvap(T)) - P, p.Tb).x"
      ],
      "metadata": {
        "id": "XVAYxAph53mL"
      },
      "execution_count": 14,
      "outputs": []
    },
    {
      "cell_type": "code",
      "source": [
        "d.bp = boiling_points(d.P)\n",
        "bp_scaled = (d.bp - np.mean(d.bp))/1.2 + np.mean(d.bp)\n",
        "bp_minmax = np.min(d.bp), np.max(d.bp)\n",
        "\n",
        "d.T = RangeArray(np.linspace(*bp_scaled,d.N), *bp_minmax)\n",
        "d.TC = Range(bp_scaled[-1], *bp_minmax)\n",
        "\n",
        "Lguess = np.repeat(d.D*(d.reflux_ratio),d.N)\n",
        "Lguess[d.F_stage:]+=d.F\n",
        "\n",
        "d.L = RangeArray(Lguess, 0., 2*d.F*d.reflux_ratio)\n",
        "d.V = RangeArray(np.repeat(d.D*(d.reflux_ratio+1),d.N), 0., 2*d.F*d.reflux_ratio)\n",
        "\n",
        "QBGuess = d.D * d.reflux_ratio* np.mean(p.HvapNB)\n",
        "d.QB = Range(QBGuess, 0., 2*QBGuess )\n",
        "d.QC = Range(QBGuess, 0., 2*QBGuess)\n",
        "\n",
        "d.Lx = CompArray(np.tile(d.Fz,(d.N,1)))\n",
        "d.Vy = CompArray(np.tile(d.Fz,(d.N,1)))\n",
        "\n"
      ],
      "metadata": {
        "id": "cPLRlJOS52Fs"
      },
      "execution_count": 15,
      "outputs": []
    },
    {
      "cell_type": "code",
      "source": [
        "wrap, x, d2, xtod, xtodunk  = dtox(d)"
      ],
      "metadata": {
        "id": "rHVxiki_phXS"
      },
      "execution_count": 16,
      "outputs": []
    },
    {
      "cell_type": "code",
      "source": [
        "r = DotDict()\n",
        "\n",
        "r.MB = np.zeros((d.N,d.NC))\n",
        "zeros = np.zeros((1,p.N_comps))\n",
        "def eqs(d):\n",
        "    r.EQUIL = d.Lx * p.NRTL_gamma(d.Lx,d.T)* p.Pvap(d.T) - d.Vy*d.P\n",
        "\n",
        "\n",
        "    r.Lin = np.r_[(d.L[0]*d.Vy[0])[None,:], d.L[1:,None]*d.Lx[:-1]]\n",
        "\n",
        "    r.Lout = np.r_[d.L[1:,None]*d.Lx[:-1], (d.B*d.Lx[-1])[None,:]]\n",
        "\n",
        "    r.Vin = np.r_[d.V[1:,None]*d.Vy[1:], zeros]\n",
        "    r.Vout = d.V[:,None]*d.Vy\n",
        "\n",
        "    r.MB = r.Lin - r.Lout + r.Vin - r.Vout\n",
        "\n",
        "    r.MB[d.F_stage-1] += d.F*d.Fz\n",
        "\n",
        "    r.TCBP = np.atleast_1d(np.sum(d.Vy[0]* p.NRTL_gamma(d.Vy[0],d.TC) * p.Pvap(d.TC)) - d.P)\n",
        "\n",
        "    r.T = np.insert(d.T,0,d.TC)\n",
        "    r.EB = p.Hl(r.Lin, r.T[:-1]) + p.Hv(r.Vin, r.T[1:]) - p.Hl(r.Lout, r.T[1:]) - p.Hv(r.Vout, r.T[1:])\n",
        "    r.EB[d.F_stage-1] += p.Hl(d.F*d.Fz, d.FT)\n",
        "    r.EB[-1]+=d.QB\n",
        "\n",
        "    r.CONDENSER = np.atleast_1d(p.Hv(r.Vout[0],r.T[1]) - p.Hl(r.Vout[0], r.T[0]) - d.QC)\n",
        "\n",
        "    r.RF = np.atleast_1d((d.V[0]-d.D)/d.D) - d.reflux_ratio\n",
        "    return np.concatenate([np.ravel(r.EQUIL), np.ravel(r.MB), np.ravel(r.EB), r.TCBP, r.RF, r.CONDENSER]), r\n"
      ],
      "metadata": {
        "id": "_4hviOyfp1k5"
      },
      "execution_count": 17,
      "outputs": []
    },
    {
      "cell_type": "code",
      "source": [
        "eqs_wrapped = wrap(eqs)"
      ],
      "metadata": {
        "id": "PCFvkYbXt3VL"
      },
      "execution_count": 18,
      "outputs": []
    },
    {
      "cell_type": "code",
      "source": [
        "sol=root(eqs_wrapped, x, )"
      ],
      "metadata": {
        "id": "l8ocZ2P2qyg5"
      },
      "execution_count": 19,
      "outputs": []
    },
    {
      "cell_type": "code",
      "source": [
        "res=xtod(sol.x,d2)"
      ],
      "metadata": {
        "id": "AetCqijIr3lF"
      },
      "execution_count": 20,
      "outputs": []
    },
    {
      "cell_type": "code",
      "source": [
        "eqs(xtod(sol.x,d2))"
      ],
      "metadata": {
        "id": "w7IBxauHFqQb",
        "outputId": "5483ab0d-345d-4787-c25e-338d7f01acc9",
        "colab": {
          "base_uri": "https://localhost:8080/"
        }
      },
      "execution_count": 21,
      "outputs": [
        {
          "output_type": "execute_result",
          "data": {
            "text/plain": [
              "(array([-2.76486389e-10, -7.27595761e-11,  3.20142135e-10,  3.27418093e-11,\n",
              "        -6.83940016e-10,  1.45519152e-11, -5.67524694e-10,  1.63709046e-10,\n",
              "        -1.89174898e-10, -1.74622983e-10,  5.09317033e-11,  2.18278728e-10,\n",
              "        -9.27684596e-11, -3.78349796e-10, -1.99634087e-10,  4.65661287e-10,\n",
              "        -2.73985279e-11, -5.82076609e-11,  6.22349717e-07, -5.45260264e-08,\n",
              "         8.52651283e-14,  2.84217094e-14, -5.68434189e-14, -2.13162821e-14,\n",
              "         0.00000000e+00, -2.84217094e-14,  0.00000000e+00,  4.26325641e-14,\n",
              "         5.68434189e-14, -1.13686838e-13, -4.26325641e-14,  1.70530257e-13,\n",
              "        -1.42108547e-14, -1.42108547e-13,  4.79616347e-14, -5.68434189e-14,\n",
              "        -1.69808612e-12,  1.64845915e-12, -3.90167412e-11,  3.92219590e-11,\n",
              "        -4.47034836e-08,  2.98023224e-08,  2.98023224e-08,  0.00000000e+00,\n",
              "        -3.72529030e-09, -4.47034836e-08,  7.45058060e-08,  0.00000000e+00,\n",
              "        -1.04308128e-07, -4.54485416e-07, -3.20142135e-10,  0.00000000e+00,\n",
              "         1.11758709e-08]),\n",
              " {'CONDENSER': array([1.11758709e-08]),\n",
              "  'EB': array([-4.47034836e-08,  2.98023224e-08,  2.98023224e-08,  0.00000000e+00,\n",
              "         -3.72529030e-09, -4.47034836e-08,  7.45058060e-08,  0.00000000e+00,\n",
              "         -1.04308128e-07, -4.54485416e-07]),\n",
              "  'EQUIL': array([[-2.76486389e-10, -7.27595761e-11],\n",
              "         [ 3.20142135e-10,  3.27418093e-11],\n",
              "         [-6.83940016e-10,  1.45519152e-11],\n",
              "         [-5.67524694e-10,  1.63709046e-10],\n",
              "         [-1.89174898e-10, -1.74622983e-10],\n",
              "         [ 5.09317033e-11,  2.18278728e-10],\n",
              "         [-9.27684596e-11, -3.78349796e-10],\n",
              "         [-1.99634087e-10,  4.65661287e-10],\n",
              "         [-2.73985279e-11, -5.82076609e-11],\n",
              "         [ 6.22349717e-07, -5.45260264e-08]]),\n",
              "  'Lin': array([[1.99986070e+02, 5.00139301e+01],\n",
              "         [1.92599372e+02, 5.69073571e+01],\n",
              "         [1.82628416e+02, 6.62284129e+01],\n",
              "         [1.67877712e+02, 8.00470412e+01],\n",
              "         [1.42533892e+02, 1.03853296e+02],\n",
              "         [1.23469261e+02, 2.28055407e+02],\n",
              "         [3.57681762e+01, 3.12873508e+02],\n",
              "         [4.84550217e+00, 3.48120779e+02],\n",
              "         [5.51090225e-01, 3.54038574e+02],\n",
              "         [6.09782573e-02, 3.54744219e+02]]),\n",
              "  'Lout': array([[1.92599372e+02, 5.69073571e+01],\n",
              "         [1.82628416e+02, 6.62284129e+01],\n",
              "         [1.67877712e+02, 8.00470412e+01],\n",
              "         [1.42533892e+02, 1.03853296e+02],\n",
              "         [1.23469261e+02, 2.28055407e+02],\n",
              "         [3.57681762e+01, 3.12873508e+02],\n",
              "         [4.84550217e+00, 3.48120779e+02],\n",
              "         [5.51090225e-01, 3.54038574e+02],\n",
              "         [6.09782573e-02, 3.54744219e+02],\n",
              "         [1.39301032e-03, 7.49986070e+01]]),\n",
              "  'MB': array([[ 8.52651283e-14,  2.84217094e-14],\n",
              "         [-5.68434189e-14, -2.13162821e-14],\n",
              "         [ 0.00000000e+00, -2.84217094e-14],\n",
              "         [ 0.00000000e+00,  4.26325641e-14],\n",
              "         [ 5.68434189e-14, -1.13686838e-13],\n",
              "         [-4.26325641e-14,  1.70530257e-13],\n",
              "         [-1.42108547e-14, -1.42108547e-13],\n",
              "         [ 4.79616347e-14, -5.68434189e-14],\n",
              "         [-1.69808612e-12,  1.64845915e-12],\n",
              "         [-3.90167412e-11,  3.92219590e-11]]),\n",
              "  'RF': array([0.]),\n",
              "  'T': array([351.17387568, 351.25237756, 351.3832284 , 351.62619928,\n",
              "         352.16676482, 353.87698055, 359.06887537, 369.26794258,\n",
              "         372.33084497, 372.72870325, 372.77353047]),\n",
              "  'TCBP': array([-3.20142135e-10]),\n",
              "  'Vin': array([[2.12597979e+02, 6.19087501e+01],\n",
              "         [2.02627023e+02, 7.12298059e+01],\n",
              "         [1.87876319e+02, 8.50484342e+01],\n",
              "         [1.62532499e+02, 1.08854689e+02],\n",
              "         [1.23467868e+02, 1.53056800e+02],\n",
              "         [3.57667832e+01, 2.37874901e+02],\n",
              "         [4.84410916e+00, 2.73122172e+02],\n",
              "         [5.49697215e-01, 2.79039967e+02],\n",
              "         [5.95852470e-02, 2.79745612e+02],\n",
              "         [0.00000000e+00, 0.00000000e+00]]),\n",
              "  'Vout': array([[2.19984677e+02, 5.50153231e+01],\n",
              "         [2.12597979e+02, 6.19087501e+01],\n",
              "         [2.02627023e+02, 7.12298059e+01],\n",
              "         [1.87876319e+02, 8.50484342e+01],\n",
              "         [1.62532499e+02, 1.08854689e+02],\n",
              "         [1.23467868e+02, 1.53056800e+02],\n",
              "         [3.57667832e+01, 2.37874901e+02],\n",
              "         [4.84410916e+00, 2.73122172e+02],\n",
              "         [5.49697215e-01, 2.79039967e+02],\n",
              "         [5.95852470e-02, 2.79745612e+02]])})"
            ]
          },
          "metadata": {},
          "execution_count": 21
        }
      ]
    },
    {
      "cell_type": "code",
      "source": [
        ""
      ],
      "metadata": {
        "id": "yjnlFIa5Nnf-"
      },
      "execution_count": 12,
      "outputs": []
    }
  ]
}