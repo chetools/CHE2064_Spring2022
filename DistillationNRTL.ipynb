{
  "nbformat": 4,
  "nbformat_minor": 0,
  "metadata": {
    "colab": {
      "name": "DistillationNRTL.ipynb",
      "provenance": [],
      "collapsed_sections": [],
      "authorship_tag": "ABX9TyMOyn+iwAQNtzihzJvKuEu+",
      "include_colab_link": true
    },
    "kernelspec": {
      "name": "python3",
      "display_name": "Python 3"
    },
    "language_info": {
      "name": "python"
    }
  },
  "cells": [
    {
      "cell_type": "markdown",
      "metadata": {
        "id": "view-in-github",
        "colab_type": "text"
      },
      "source": [
        "<a href=\"https://colab.research.google.com/github/profteachkids/CHE2064_Spring2022/blob/main/DistillationNRTL.ipynb\" target=\"_parent\"><img src=\"https://colab.research.google.com/assets/colab-badge.svg\" alt=\"Open In Colab\"/></a>"
      ]
    },
    {
      "cell_type": "code",
      "source": [
        "!wget -N -q https://raw.githubusercontent.com/profteachkids/chetools/main/tools/che.ipynb\n",
        "!wget -N -q https://raw.githubusercontent.com/profteachkids/chetools/main/tools/FlattenWrap.ipynb\n",
        "!pip install importnb"
      ],
      "metadata": {
        "colab": {
          "base_uri": "https://localhost:8080/"
        },
        "id": "69l3XTFqXPJl",
        "outputId": "db390116-9268-4503-c0f3-0000a0faa2e1"
      },
      "execution_count": 1,
      "outputs": [
        {
          "output_type": "stream",
          "name": "stdout",
          "text": [
            "Collecting importnb\n",
            "  Downloading importnb-0.7.0-py3-none-any.whl (24 kB)\n",
            "Installing collected packages: importnb\n",
            "Successfully installed importnb-0.7.0\n"
          ]
        }
      ]
    },
    {
      "cell_type": "code",
      "source": [
        "from importnb import Notebook\n",
        "with Notebook(): \n",
        "    from FlattenWrap import DotDict, Range, RangeArray, Comp, CompArray, dtox\n",
        "    from che import Props\n",
        "\n",
        "import numpy as np\n",
        "from scipy.optimize import root"
      ],
      "metadata": {
        "id": "RRVu8H8IXa3w"
      },
      "execution_count": 2,
      "outputs": []
    },
    {
      "cell_type": "code",
      "source": [
        "p=Props(['Ethanol','Water'])"
      ],
      "metadata": {
        "id": "aIjT8yBZI59y"
      },
      "execution_count": 3,
      "outputs": []
    },
    {
      "cell_type": "code",
      "source": [
        "d=DotDict()\n",
        "\n",
        "d.P = 1e5\n",
        "d.N = 5\n",
        "d.NC = p.N_comps\n",
        "d.F= 100.\n",
        "d.Fz = np.array([0.2,0.8])\n",
        "d.FT =320.\n",
        "d.D = 0.25*d.F\n",
        "d.B = d.F - d.D\n",
        "\n",
        "d.F_stage = d.N // 2\n",
        "\n",
        "d.reflux_ratio = 10.\n"
      ],
      "metadata": {
        "id": "jZoVc-TZpa1D"
      },
      "execution_count": 4,
      "outputs": []
    },
    {
      "cell_type": "code",
      "source": [
        "def boiling_points(P):\n",
        "    return root(lambda T: np.diagonal(p.Pvap(T)) - P, p.Tb).x"
      ],
      "metadata": {
        "id": "XVAYxAph53mL"
      },
      "execution_count": 5,
      "outputs": []
    },
    {
      "cell_type": "code",
      "source": [
        "d.bp = boiling_points(d.P)\n",
        "bp_scaled = (d.bp - np.mean(d.bp))/1.2 + np.mean(d.bp)\n",
        "bp_minmax = np.min(d.bp), np.max(d.bp)\n",
        "\n",
        "d.T = RangeArray(np.linspace(*bp_scaled,d.N), *bp_minmax)\n",
        "d.TC = Range(bp_scaled[-1], *bp_minmax)\n",
        "\n",
        "Lguess = np.repeat(d.D*(d.reflux_ratio),d.N)\n",
        "Lguess[d.F_stage:]+=d.F\n",
        "\n",
        "d.L = RangeArray(Lguess, 0., 2*d.F*d.reflux_ratio)\n",
        "d.V = RangeArray(np.repeat(d.D*(d.reflux_ratio+1),d.N), 0., 2*d.F*d.reflux_ratio)\n",
        "\n",
        "QBGuess = d.D * d.reflux_ratio* np.mean(p.HvapNB)\n",
        "d.QB = Range(QBGuess, 0., 2*QBGuess )\n",
        "d.QC = Range(QBGuess, 0., 2*QBGuess)\n",
        "\n",
        "d.Lx = CompArray(np.tile(d.Fz,(d.N,1)))\n",
        "d.Vy = CompArray(np.tile(d.Fz,(d.N,1)))\n",
        "\n"
      ],
      "metadata": {
        "id": "cPLRlJOS52Fs"
      },
      "execution_count": 13,
      "outputs": []
    },
    {
      "cell_type": "code",
      "source": [
        "wrap, x, d2, xtod, xtodunk  = dtox(d)"
      ],
      "metadata": {
        "id": "rHVxiki_phXS"
      },
      "execution_count": 14,
      "outputs": []
    },
    {
      "cell_type": "code",
      "source": [
        "r = DotDict()\n",
        "\n",
        "r.MB = np.zeros((d.N,d.NC))\n",
        "zeros = np.zeros((1,p.N_comps))\n",
        "def eqs(d):\n",
        "    r.EQUIL = d.Lx * p.NRTL_gamma(d.Lx,d.T)* p.Pvap(d.T) - d.Vy*d.P\n",
        "\n",
        "\n",
        "    r.Lin = np.r_[(d.L[0]*d.Vy[0])[None,:], d.L[1:,None]*d.Lx[:-1]]\n",
        "\n",
        "    r.Lout = np.r_[d.L[1:,None]*d.Lx[:-1], (d.B*d.Lx[-1])[None,:]]\n",
        "\n",
        "    r.Vin = np.r_[d.V[1:,None]*d.Vy[1:], zeros]\n",
        "    r.Vout = d.V[:,None]*d.Vy\n",
        "\n",
        "    r.MB = r.Lin - r.Lout + r.Vin - r.Vout\n",
        "\n",
        "    r.MB[d.F_stage-1] += d.F*d.Fz\n",
        "\n",
        "    r.TCBP = np.atleast_1d(np.sum(d.Vy[0]* p.NRTL_gamma(d.Vy[0],d.TC) * p.Pvap(d.TC)) - d.P)\n",
        "\n",
        "    r.T = np.insert(d.T,0,d.TC)\n",
        "    r.EB = p.Hl(r.Lin, r.T[:-1]) + p.Hv(r.Vin, r.T[1:]) - p.Hl(r.Lout, r.T[1:]) - p.Hv(r.Vout, r.T[1:])\n",
        "    r.EB[d.F_stage-1] += p.Hl(d.F*d.Fz, d.FT)\n",
        "    r.EB[-1]+=d.QB\n",
        "\n",
        "    r.CONDENSER = np.atleast_1d(p.Hv(r.Vout[0],r.T[1]) - p.Hl(r.Vout[0], r.T[0]) - d.QC)\n",
        "\n",
        "    r.RF = np.atleast_1d((d.V[0]-d.D)/d.D) - d.reflux_ratio\n",
        "    return np.concatenate([np.ravel(r.EQUIL), np.ravel(r.MB), np.ravel(r.EB), r.TCBP, r.RF, r.CONDENSER]), r\n"
      ],
      "metadata": {
        "id": "_4hviOyfp1k5"
      },
      "execution_count": 15,
      "outputs": []
    },
    {
      "cell_type": "code",
      "source": [
        "eqs_wrapped = wrap(eqs)"
      ],
      "metadata": {
        "id": "PCFvkYbXt3VL"
      },
      "execution_count": 16,
      "outputs": []
    },
    {
      "cell_type": "code",
      "source": [
        "sol=root(eqs_wrapped, x, )"
      ],
      "metadata": {
        "id": "l8ocZ2P2qyg5"
      },
      "execution_count": 17,
      "outputs": []
    },
    {
      "cell_type": "code",
      "source": [
        "res=xtod(sol.x,d2)"
      ],
      "metadata": {
        "id": "AetCqijIr3lF"
      },
      "execution_count": 18,
      "outputs": []
    },
    {
      "cell_type": "code",
      "source": [
        "eqs(xtod(sol.x,d2))"
      ],
      "metadata": {
        "id": "w7IBxauHFqQb",
        "outputId": "c68770ee-6602-4b93-9d7e-319337b88c97",
        "colab": {
          "base_uri": "https://localhost:8080/"
        }
      },
      "execution_count": 19,
      "outputs": [
        {
          "output_type": "execute_result",
          "data": {
            "text/plain": [
              "(array([-9.04580139e+03,  8.09169777e+03, -7.44447673e+02,  3.55207931e+03,\n",
              "         7.44150322e+02, -7.74880551e+03,  2.90647037e+02, -6.02800244e+02,\n",
              "        -1.27641252e+04, -6.52246673e+03, -1.51849452e-01,  3.73452887e-01,\n",
              "         1.18539152e+01, -1.13772568e+01, -1.38181499e+01,  1.33132474e+01,\n",
              "         5.47849972e+00, -5.61531522e+00, -7.14900951e+00,  7.26009183e+00,\n",
              "        -4.12861632e+02, -1.13268956e+03, -6.71624095e+02, -1.47559182e+03,\n",
              "        -8.20970084e+02, -1.69167929e+02, -3.10509618e-03,  4.43934684e+02]),\n",
              " {'CONDENSER': array([443.93468351]),\n",
              "  'EB': array([ -412.86163199, -1132.68955969,  -671.62409504, -1475.59182177,\n",
              "          -820.97008416]),\n",
              "  'EQUIL': array([[ -9045.80139306,   8091.69777141],\n",
              "         [  -744.44767311,   3552.07931201],\n",
              "         [   744.15032218,  -7748.80550961],\n",
              "         [   290.64703678,   -602.80024435],\n",
              "         [-12764.12518298,  -6522.46673258]]),\n",
              "  'Lin': array([[200.60003339,  49.48996544],\n",
              "         [158.70565556,  89.87095158],\n",
              "         [153.40687113, 202.35877261],\n",
              "         [163.06918758, 190.61125574],\n",
              "         [106.33174063, 243.89315635]]),\n",
              "  'Lout': array([[158.70565556,  89.87095158],\n",
              "         [153.40687113, 202.35877261],\n",
              "         [163.06918758, 190.61125574],\n",
              "         [106.33174063, 243.89315635],\n",
              "         [  3.86826435,  71.13173565]]),\n",
              "  'MB': array([[ -0.15184945,   0.37345289],\n",
              "         [ 11.85391525, -11.37725678],\n",
              "         [-13.81814988,  13.31324739],\n",
              "         [  5.47849972,  -5.61531522],\n",
              "         [ -7.14900951,   7.26009183]]),\n",
              "  'RF': array([-0.0031051]),\n",
              "  'T': array([351.12564405, 351.57853985, 353.90987713, 351.12430999,\n",
              "         354.26910573, 357.37057904]),\n",
              "  'TCBP': array([-169.16792891]),\n",
              "  'Vin': array([[178.47213562,  95.15844871],\n",
              "         [165.02726645, 116.26901295],\n",
              "         [160.87143302, 117.83474348],\n",
              "         [109.61248579, 165.50132888],\n",
              "         [  0.        ,   0.        ]]),\n",
              "  'Vout': array([[220.51836291,  54.40400968],\n",
              "         [178.47213562,  95.15844871],\n",
              "         [165.02726645, 116.26901295],\n",
              "         [160.87143302, 117.83474348],\n",
              "         [109.61248579, 165.50132888]])})"
            ]
          },
          "metadata": {},
          "execution_count": 19
        }
      ]
    },
    {
      "cell_type": "code",
      "source": [
        ""
      ],
      "metadata": {
        "id": "yjnlFIa5Nnf-"
      },
      "execution_count": 12,
      "outputs": []
    }
  ]
}