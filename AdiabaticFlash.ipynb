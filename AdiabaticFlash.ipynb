{
  "nbformat": 4,
  "nbformat_minor": 0,
  "metadata": {
    "colab": {
      "name": "AdiabaticFlash.ipynb",
      "provenance": [],
      "collapsed_sections": [],
      "authorship_tag": "ABX9TyNxS/jHY5DhZLT/3UPfV64n",
      "include_colab_link": true
    },
    "kernelspec": {
      "name": "python3",
      "display_name": "Python 3"
    },
    "language_info": {
      "name": "python"
    }
  },
  "cells": [
    {
      "cell_type": "markdown",
      "metadata": {
        "id": "view-in-github",
        "colab_type": "text"
      },
      "source": [
        "<a href=\"https://colab.research.google.com/github/profteachkids/CHE2064_Spring2022/blob/main/AdiabaticFlash.ipynb\" target=\"_parent\"><img src=\"https://colab.research.google.com/assets/colab-badge.svg\" alt=\"Open In Colab\"/></a>"
      ]
    },
    {
      "cell_type": "code",
      "source": [
        "!wget -N -q https://raw.githubusercontent.com/profteachkids/chetools/main/tools/che.py\n",
        "!wget -N -q https://raw.githubusercontent.com/profteachkids/chetools/main/tools/FlattenWrap.ipynb\n",
        "!pip install importnb"
      ],
      "metadata": {
        "id": "Gwp9C2bBoebL",
        "outputId": "ab0b7fb0-d32f-4f3a-8dce-c69fa2089c8d",
        "colab": {
          "base_uri": "https://localhost:8080/"
        }
      },
      "execution_count": 1,
      "outputs": [
        {
          "output_type": "stream",
          "name": "stdout",
          "text": [
            "Collecting importnb\n",
            "  Downloading importnb-0.7.0-py3-none-any.whl (24 kB)\n",
            "Installing collected packages: importnb\n",
            "Successfully installed importnb-0.7.0\n"
          ]
        }
      ]
    },
    {
      "cell_type": "code",
      "execution_count": 2,
      "metadata": {
        "id": "EQTOJoLTGQgb"
      },
      "outputs": [],
      "source": [
        "from importnb import Notebook\n",
        "with Notebook(): \n",
        "    from FlattenWrap import DotDict, Range, RangeArray, Comp, CompArray, dtox\n",
        "\n",
        "import che\n",
        "import numpy as np\n",
        "from scipy.optimize import root"
      ]
    },
    {
      "cell_type": "code",
      "source": [
        "p = che.Props(['Ethanol','Isopropanol', 'Water'])"
      ],
      "metadata": {
        "id": "plwrTvsCpM5A",
        "colab": {
          "base_uri": "https://localhost:8080/"
        },
        "outputId": "a1be59fe-f977-45a1-d241-e071cb5b1627"
      },
      "execution_count": 3,
      "outputs": [
        {
          "output_type": "stream",
          "name": "stderr",
          "text": [
            "WARNING:absl:No GPU/TPU found, falling back to CPU. (Set TF_CPP_MIN_LOG_LEVEL=0 and rerun for more info.)\n"
          ]
        }
      ]
    },
    {
      "cell_type": "code",
      "source": [
        "# Static parameters (Total feed, feed mole fractions, feed temperature and )\n",
        "c=DotDict()\n",
        "c.Ftot=10 # Total Feed moles\n",
        "c.Fz = np.array([1/3, 1/3, 1/3]) # Equimolar feed composition\n",
        "c.FT = 450 # Feed temperature\n",
        "c.flashP= 101325 # Flash drum pressure\n",
        "\n",
        "c.Vy = Comp(c.Fz) # Guess vapor/liquid composition equal to feed\n",
        "c.Lx = Comp(c.Fz) # Comp - constrains mole fractions to behave like mole fractions!\n",
        "c.flashT = Range(360, 273.15, c.FT)  # Guess and bounds for flash temperature\n",
        "c.Vtot = Range(c.Ftot/2, 0., c.Ftot)  # Guess half of feed in vapor\n",
        "c.Ltot = Range(c.Ftot/2, 0., c.Ftot)"
      ],
      "metadata": {
        "id": "jZoVc-TZpa1D"
      },
      "execution_count": 4,
      "outputs": []
    },
    {
      "cell_type": "code",
      "source": [
        "wrap, x, d2, xtod, xtodunk = dtox(c)"
      ],
      "metadata": {
        "id": "rHVxiki_phXS"
      },
      "execution_count": 16,
      "outputs": []
    },
    {
      "cell_type": "code",
      "source": [
        "d2"
      ],
      "metadata": {
        "id": "DhswFcHiTq_o",
        "outputId": "614114e4-57d8-47a3-b3b7-69934b1e9604",
        "colab": {
          "base_uri": "https://localhost:8080/"
        }
      },
      "execution_count": 17,
      "outputs": [
        {
          "output_type": "execute_result",
          "data": {
            "text/plain": [
              "{'FT': 450,\n",
              " 'Ftot': 10,\n",
              " 'Fz': array([0.33333333, 0.33333333, 0.33333333]),\n",
              " 'Ltot': array([5.]),\n",
              " 'Lx': array([0.33333333, 0.33333333, 0.33333333]),\n",
              " 'Vtot': array([5.]),\n",
              " 'Vy': array([0.33333333, 0.33333333, 0.33333333]),\n",
              " 'flashP': 101325,\n",
              " 'flashT': array([360.])}"
            ]
          },
          "metadata": {},
          "execution_count": 17
        }
      ]
    },
    {
      "cell_type": "code",
      "source": [
        "def eqs(d):\n",
        "    r=DotDict()\n",
        "    V = d.Vy * d.Vtot # Moles of each component = mole fractions * total moles\n",
        "    L = d.Lx * d.Ltot\n",
        "    F = d.Fz * d.Ftot\n",
        "    r.mass_balance = F - V - L # Mass balance for each component (vectors!)\n",
        "\n",
        "    # Hmix calculates the enthalpy given the temperature and moles of each\n",
        "    # component in the vapor and liquid phases\n",
        "    FH = p.Hl(nL=F, T=d.FT)\n",
        "    VH = p.Hv(nV=V, T=d.flashT)\n",
        "    LH = p.Hl(nL=L, T=d.flashT)\n",
        "    r.energy_balance = (FH - VH - LH)\n",
        "\n",
        "    # Raoults with NRTL activity coefficient correction.  One-liner!\n",
        "    fugL = d.Lx  * p.NRTL_gamma(d.Lx,d.flashT)* p.Pvap(d.flashT)\n",
        "    fugV = d.Vy * d.flashP\n",
        "    r.VLE = fugL - fugV\n",
        "    return np.concatenate([r.mass_balance, np.atleast_1d(r.energy_balance), r.VLE]), r \n"
      ],
      "metadata": {
        "id": "_4hviOyfp1k5"
      },
      "execution_count": 18,
      "outputs": []
    },
    {
      "cell_type": "code",
      "source": [
        "eqs_wrapped = wrap(eqs)"
      ],
      "metadata": {
        "id": "HoBz1aFjTgyk"
      },
      "execution_count": 19,
      "outputs": []
    },
    {
      "cell_type": "code",
      "source": [
        "sol=root(eqs_wrapped, x)\n",
        "sol"
      ],
      "metadata": {
        "id": "l8ocZ2P2qyg5",
        "outputId": "17ee5139-a736-4161-ffac-5e9efc8cbe11",
        "colab": {
          "base_uri": "https://localhost:8080/"
        }
      },
      "execution_count": 20,
      "outputs": [
        {
          "output_type": "execute_result",
          "data": {
            "text/plain": [
              "    fjac: array([[-2.93229927e-05,  1.53807739e-05,  1.39422188e-05,\n",
              "        -6.47951742e-01, -6.22484539e-01,  2.98554402e-01,\n",
              "         3.21771358e-01],\n",
              "       [-1.26264656e-05, -1.90380746e-05,  3.16645406e-05,\n",
              "         4.33720518e-01, -2.83920771e-01, -4.40580740e-01,\n",
              "         7.32914809e-01],\n",
              "       [ 4.23239467e-05, -8.24820605e-06, -3.40757409e-05,\n",
              "         6.25454608e-01, -4.73857215e-01,  5.86318559e-01,\n",
              "        -2.01237217e-01],\n",
              "       [ 6.88535283e-04,  2.57839041e-04, -9.46374329e-04,\n",
              "        -2.91819235e-02, -5.54401384e-01, -6.10724116e-01,\n",
              "        -5.64625662e-01],\n",
              "       [-5.81789459e-01, -2.05230302e-01,  7.87019764e-01,\n",
              "        -3.42414631e-06, -6.62166607e-04, -6.94160961e-04,\n",
              "        -7.21128061e-04],\n",
              "       [-6.06648947e-01,  7.54029574e-01, -2.51826241e-01,\n",
              "         3.81491437e-05,  9.23325387e-06,  8.66707210e-06,\n",
              "         6.22636174e-06],\n",
              "       [-5.41754192e-01, -6.23955013e-01, -5.63189611e-01,\n",
              "        -2.30465231e-06, -5.57796016e-07, -5.23592123e-07,\n",
              "        -3.76144600e-07]])\n",
              "     fun: array([-3.83312559e-09,  3.26132255e-09,  5.71803049e-10, -1.16482144e-04,\n",
              "       -1.62247306e-05,  1.94110908e-05,  2.37565910e-05])\n",
              " message: 'The solution converged.'\n",
              "    nfev: 17\n",
              "     qtf: array([ 6.96332119e-04, -3.73974937e-04,  1.84937466e-05, -9.21289400e-05,\n",
              "       -1.30700167e-07, -8.81303104e-11,  5.32399033e-12])\n",
              "       r: array([ 3.56090383e+04, -3.41804543e+04, -9.46015313e+03, -4.66850804e+03,\n",
              "        2.59952106e+04, -4.17434026e+05, -4.37378782e+05,  2.98468002e+04,\n",
              "       -1.78746152e+04,  6.08917929e+03, -2.66609875e+04,  2.62068375e+05,\n",
              "        3.16148799e+05, -3.85975286e+04,  4.79644774e+04, -3.34915062e+04,\n",
              "        3.72147123e+05,  4.63688004e+05, -2.20297973e+03, -1.23466659e+05,\n",
              "       -3.34433800e+04,  3.41288654e+01, -1.49255096e+02, -2.09734847e+01,\n",
              "        2.29785871e+01,  2.39359026e+01,  2.68196495e+01, -1.74211843e-01])\n",
              "  status: 1\n",
              " success: True\n",
              "       x: array([ 0.13053672,  0.09556131, -0.08459409, -0.06010319, -0.19787296,\n",
              "       -0.4172964 ,  0.4172964 ])"
            ]
          },
          "metadata": {},
          "execution_count": 20
        }
      ]
    },
    {
      "cell_type": "code",
      "source": [
        "xtodunk(sol.x)"
      ],
      "metadata": {
        "colab": {
          "base_uri": "https://localhost:8080/"
        },
        "id": "AetCqijIr3lF",
        "outputId": "9e581407-3487-447b-c01c-3d0b277e1c52"
      },
      "execution_count": 21,
      "outputs": [
        {
          "output_type": "execute_result",
          "data": {
            "text/plain": [
              "{'Ltot': array([6.02836122]),\n",
              " 'Lx': array([0.32122647, 0.32919072, 0.34958281]),\n",
              " 'Vtot': array([3.97163878]),\n",
              " 'Vy': array([0.35170977, 0.33962121, 0.30866903]),\n",
              " 'flashT': array([352.85497499])}"
            ]
          },
          "metadata": {},
          "execution_count": 21
        }
      ]
    },
    {
      "cell_type": "code",
      "source": [
        "xtod(sol.x,d2)"
      ],
      "metadata": {
        "id": "ctJ6ed8FsmaS",
        "outputId": "8976a63d-8923-4286-fdfd-d19de812764f",
        "colab": {
          "base_uri": "https://localhost:8080/"
        }
      },
      "execution_count": 22,
      "outputs": [
        {
          "output_type": "execute_result",
          "data": {
            "text/plain": [
              "{'FT': 450,\n",
              " 'Ftot': 10,\n",
              " 'Fz': array([0.33333333, 0.33333333, 0.33333333]),\n",
              " 'Ltot': array([6.02836122]),\n",
              " 'Lx': array([0.32122647, 0.32919072, 0.34958281]),\n",
              " 'Vtot': array([3.97163878]),\n",
              " 'Vy': array([0.35170977, 0.33962121, 0.30866903]),\n",
              " 'flashP': 101325,\n",
              " 'flashT': array([352.85497499])}"
            ]
          },
          "metadata": {},
          "execution_count": 22
        }
      ]
    },
    {
      "cell_type": "code",
      "source": [
        ""
      ],
      "metadata": {
        "id": "6WcOGvwDT-m1"
      },
      "execution_count": null,
      "outputs": []
    }
  ]
}