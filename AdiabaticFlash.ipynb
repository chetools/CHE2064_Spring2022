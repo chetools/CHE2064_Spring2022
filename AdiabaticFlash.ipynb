{
  "nbformat": 4,
  "nbformat_minor": 0,
  "metadata": {
    "colab": {
      "name": "AdiabaticFlash.ipynb",
      "provenance": [],
      "collapsed_sections": [],
      "authorship_tag": "ABX9TyMAHNNZ+YFHa5Urg9SnSpLT",
      "include_colab_link": true
    },
    "kernelspec": {
      "name": "python3",
      "display_name": "Python 3"
    },
    "language_info": {
      "name": "python"
    }
  },
  "cells": [
    {
      "cell_type": "markdown",
      "metadata": {
        "id": "view-in-github",
        "colab_type": "text"
      },
      "source": [
        "<a href=\"https://colab.research.google.com/github/profteachkids/CHE2064_Spring2022/blob/main/AdiabaticFlash.ipynb\" target=\"_parent\"><img src=\"https://colab.research.google.com/assets/colab-badge.svg\" alt=\"Open In Colab\"/></a>"
      ]
    },
    {
      "cell_type": "code",
      "source": [
        "!wget -N -q https://raw.githubusercontent.com/profteachkids/chetools/main/tools/che.ipynb\n",
        "!wget -N -q https://raw.githubusercontent.com/profteachkids/chetools/main/tools/FlattenWrap.ipynb\n",
        "!pip install importnb"
      ],
      "metadata": {
        "id": "Gwp9C2bBoebL",
        "outputId": "71b76af8-aa6b-49c7-f787-ef7f1b6c842a",
        "colab": {
          "base_uri": "https://localhost:8080/"
        }
      },
      "execution_count": 4,
      "outputs": [
        {
          "output_type": "stream",
          "name": "stdout",
          "text": [
            "Requirement already satisfied: importnb in /usr/local/lib/python3.7/dist-packages (0.7.0)\n"
          ]
        }
      ]
    },
    {
      "cell_type": "code",
      "execution_count": 5,
      "metadata": {
        "id": "EQTOJoLTGQgb"
      },
      "outputs": [],
      "source": [
        "from importnb import Notebook\n",
        "with Notebook(): \n",
        "    from FlattenWrap import DotDict, Range, RangeArray, Comp, CompArray, dtox\n",
        "    from che import Props\n",
        "    \n",
        "import numpy as np\n",
        "from scipy.optimize import root, minimize"
      ]
    },
    {
      "cell_type": "code",
      "source": [
        "p = Props(['Ethanol','Isopropanol', 'Water'])"
      ],
      "metadata": {
        "id": "plwrTvsCpM5A"
      },
      "execution_count": 6,
      "outputs": []
    },
    {
      "cell_type": "code",
      "source": [
        "# Static parameters (Total feed, feed mole fractions, feed temperature and )\n",
        "c=DotDict()\n",
        "c.Ftot=10 # Total Feed moles\n",
        "c.Fz = np.array([1/3, 1/3, 1/3]) # Equimolar feed composition\n",
        "c.FT = 450 # Feed temperature\n",
        "c.flashP= 101325 # Flash drum pressure\n",
        "\n",
        "c.Vy = Comp(c.Fz) # Guess vapor/liquid composition equal to feed\n",
        "c.Lx = Comp(c.Fz) # Comp - constrains mole fractions to behave like mole fractions!\n",
        "c.flashT = Range(360, 273.15, c.FT)  # Guess and bounds for flash temperature\n",
        "c.Vtot = Range(c.Ftot/2, 0., c.Ftot)  # Guess half of feed in vapor\n",
        "c.Ltot = Range(c.Ftot/2, 0., c.Ftot)"
      ],
      "metadata": {
        "id": "jZoVc-TZpa1D"
      },
      "execution_count": 7,
      "outputs": []
    },
    {
      "cell_type": "code",
      "source": [
        "wrap, x, d2, xtod, xtodunk = dtox(c)"
      ],
      "metadata": {
        "id": "rHVxiki_phXS"
      },
      "execution_count": 8,
      "outputs": []
    },
    {
      "cell_type": "code",
      "source": [
        "def eqs(d):\n",
        "    r=DotDict()\n",
        "    V = d.Vy * d.Vtot # Moles of each component = mole fractions * total moles\n",
        "    L = d.Lx * d.Ltot\n",
        "    F = d.Fz * d.Ftot\n",
        "    r.mass_balance = F - V - L # Mass balance for each component (vectors!)\n",
        "\n",
        "    # Hmix calculates the enthalpy given the temperature and moles of each\n",
        "    # component in the vapor and liquid phases\n",
        "    FH = p.Hl(nL=F, T=d.FT)\n",
        "    VH = p.Hv(nV=V, T=d.flashT)\n",
        "    LH = p.Hl(nL=L, T=d.flashT)\n",
        "    r.energy_balance = (FH - VH - LH)\n",
        "\n",
        "    # Raoults with NRTL activity coefficient correction.  One-liner!\n",
        "    fugL = d.Lx  * p.NRTL_gamma(d.Lx,d.flashT)* p.Pvap(d.flashT)\n",
        "    fugV = d.Vy * d.flashP\n",
        "    r.VLE = fugL - fugV\n",
        "    return np.concatenate([r.mass_balance, np.atleast_1d(r.energy_balance), r.VLE]), r \n"
      ],
      "metadata": {
        "id": "_4hviOyfp1k5"
      },
      "execution_count": 10,
      "outputs": []
    },
    {
      "cell_type": "code",
      "source": [
        "eqs_wrapped = wrap(eqs)"
      ],
      "metadata": {
        "id": "HoBz1aFjTgyk"
      },
      "execution_count": 11,
      "outputs": []
    },
    {
      "cell_type": "code",
      "source": [
        "sol=minimize(lambda x: 0., x, method='SLSQP', bounds=[(-15,15)]*len(x), constraints=dict(type='eq',fun=eqs_wrapped))"
      ],
      "metadata": {
        "id": "l8ocZ2P2qyg5"
      },
      "execution_count": 12,
      "outputs": []
    },
    {
      "cell_type": "code",
      "source": [
        "xtod(sol.x,d2)"
      ],
      "metadata": {
        "id": "ctJ6ed8FsmaS",
        "outputId": "1883aecb-531b-4a34-8ed1-3c50ba77b329",
        "colab": {
          "base_uri": "https://localhost:8080/"
        }
      },
      "execution_count": 14,
      "outputs": [
        {
          "output_type": "execute_result",
          "data": {
            "text/plain": [
              "{'FT': 450,\n",
              " 'Ftot': 10,\n",
              " 'Fz': array([0.33333333, 0.33333333, 0.33333333]),\n",
              " 'Ltot': array(6.02836122),\n",
              " 'Lx': array([0.32122647, 0.32919072, 0.34958281]),\n",
              " 'Vtot': array(3.97163878),\n",
              " 'Vy': array([0.35170977, 0.33962121, 0.30866903]),\n",
              " 'flashP': 101325,\n",
              " 'flashT': array(352.85497499)}"
            ]
          },
          "metadata": {},
          "execution_count": 14
        }
      ]
    },
    {
      "cell_type": "code",
      "source": [
        ""
      ],
      "metadata": {
        "id": "6WcOGvwDT-m1"
      },
      "execution_count": null,
      "outputs": []
    }
  ]
}