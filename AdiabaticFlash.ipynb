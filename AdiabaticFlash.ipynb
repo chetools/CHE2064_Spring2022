{
  "nbformat": 4,
  "nbformat_minor": 0,
  "metadata": {
    "colab": {
      "name": "AdiabaticFlash.ipynb",
      "provenance": [],
      "collapsed_sections": [],
      "authorship_tag": "ABX9TyPUeDpjiEPkjJO2rA0pqbYw",
      "include_colab_link": true
    },
    "kernelspec": {
      "name": "python3",
      "display_name": "Python 3"
    },
    "language_info": {
      "name": "python"
    }
  },
  "cells": [
    {
      "cell_type": "markdown",
      "metadata": {
        "id": "view-in-github",
        "colab_type": "text"
      },
      "source": [
        "<a href=\"https://colab.research.google.com/github/profteachkids/CHE2064_Spring2022/blob/main/AdiabaticFlash.ipynb\" target=\"_parent\"><img src=\"https://colab.research.google.com/assets/colab-badge.svg\" alt=\"Open In Colab\"/></a>"
      ]
    },
    {
      "cell_type": "code",
      "source": [
        "!wget -N -q https://raw.githubusercontent.com/profteachkids/chetools/main/tools/che.ipynb\n",
        "!wget -N -q https://raw.githubusercontent.com/profteachkids/chetools/main/tools/FlattenWrap.ipynb\n",
        "!pip install importnb"
      ],
      "metadata": {
        "id": "Gwp9C2bBoebL",
        "outputId": "77f8c93e-58c7-41a1-89a9-ec7ea3f63f0b",
        "colab": {
          "base_uri": "https://localhost:8080/"
        }
      },
      "execution_count": 1,
      "outputs": [
        {
          "output_type": "stream",
          "name": "stdout",
          "text": [
            "Collecting importnb\n",
            "  Downloading importnb-0.7.0-py3-none-any.whl (24 kB)\n",
            "Installing collected packages: importnb\n",
            "Successfully installed importnb-0.7.0\n"
          ]
        }
      ]
    },
    {
      "cell_type": "code",
      "execution_count": 2,
      "metadata": {
        "id": "EQTOJoLTGQgb"
      },
      "outputs": [],
      "source": [
        "from importnb import Notebook\n",
        "with Notebook(): \n",
        "    from FlattenWrap import DotDict, Range, RangeArray, Comp, CompArray, dtox\n",
        "    from che import Props\n",
        "\n",
        "import che\n",
        "import numpy as np\n",
        "from scipy.optimize import root"
      ]
    },
    {
      "cell_type": "code",
      "source": [
        "p = Props(['Ethanol','Isopropanol', 'Water'])"
      ],
      "metadata": {
        "id": "plwrTvsCpM5A"
      },
      "execution_count": 3,
      "outputs": []
    },
    {
      "cell_type": "code",
      "source": [
        "# Static parameters (Total feed, feed mole fractions, feed temperature and )\n",
        "c=DotDict()\n",
        "c.Ftot=10 # Total Feed moles\n",
        "c.Fz = np.array([1/3, 1/3, 1/3]) # Equimolar feed composition\n",
        "c.FT = 450 # Feed temperature\n",
        "c.flashP= 101325 # Flash drum pressure\n",
        "\n",
        "c.Vy = Comp(c.Fz) # Guess vapor/liquid composition equal to feed\n",
        "c.Lx = Comp(c.Fz) # Comp - constrains mole fractions to behave like mole fractions!\n",
        "c.flashT = Range(360, 273.15, c.FT)  # Guess and bounds for flash temperature\n",
        "c.Vtot = Range(c.Ftot/2, 0., c.Ftot)  # Guess half of feed in vapor\n",
        "c.Ltot = Range(c.Ftot/2, 0., c.Ftot)"
      ],
      "metadata": {
        "id": "jZoVc-TZpa1D"
      },
      "execution_count": 4,
      "outputs": []
    },
    {
      "cell_type": "code",
      "source": [
        "wrap, x, d2, xtod, xtodunk = dtox(c)"
      ],
      "metadata": {
        "id": "rHVxiki_phXS"
      },
      "execution_count": 5,
      "outputs": []
    },
    {
      "cell_type": "code",
      "source": [
        "d2"
      ],
      "metadata": {
        "id": "DhswFcHiTq_o",
        "outputId": "dbde6940-65f4-4113-c738-04208183b66c",
        "colab": {
          "base_uri": "https://localhost:8080/"
        }
      },
      "execution_count": 6,
      "outputs": [
        {
          "output_type": "execute_result",
          "data": {
            "text/plain": [
              "{'FT': 450,\n",
              " 'Ftot': 10,\n",
              " 'Fz': array([0.33333333, 0.33333333, 0.33333333]),\n",
              " 'Ltot': array(5.),\n",
              " 'Lx': array([0.33333333, 0.33333333, 0.33333333]),\n",
              " 'Vtot': array(5.),\n",
              " 'Vy': array([0.33333333, 0.33333333, 0.33333333]),\n",
              " 'flashP': 101325,\n",
              " 'flashT': array(360.)}"
            ]
          },
          "metadata": {},
          "execution_count": 6
        }
      ]
    },
    {
      "cell_type": "code",
      "source": [
        "def eqs(d):\n",
        "    r=DotDict()\n",
        "    V = d.Vy * d.Vtot # Moles of each component = mole fractions * total moles\n",
        "    L = d.Lx * d.Ltot\n",
        "    F = d.Fz * d.Ftot\n",
        "    r.mass_balance = F - V - L # Mass balance for each component (vectors!)\n",
        "\n",
        "    # Hmix calculates the enthalpy given the temperature and moles of each\n",
        "    # component in the vapor and liquid phases\n",
        "    FH = p.Hl(nL=F, T=d.FT)\n",
        "    VH = p.Hv(nV=V, T=d.flashT)\n",
        "    LH = p.Hl(nL=L, T=d.flashT)\n",
        "    r.energy_balance = (FH - VH - LH)\n",
        "\n",
        "    # Raoults with NRTL activity coefficient correction.  One-liner!\n",
        "    fugL = d.Lx  * p.NRTL_gamma(d.Lx,d.flashT)* p.Pvap(d.flashT)\n",
        "    fugV = d.Vy * d.flashP\n",
        "    r.VLE = fugL - fugV\n",
        "    return np.concatenate([r.mass_balance, np.atleast_1d(r.energy_balance), r.VLE]), r \n"
      ],
      "metadata": {
        "id": "_4hviOyfp1k5"
      },
      "execution_count": 7,
      "outputs": []
    },
    {
      "cell_type": "code",
      "source": [
        "eqs_wrapped = wrap(eqs)"
      ],
      "metadata": {
        "id": "HoBz1aFjTgyk"
      },
      "execution_count": 8,
      "outputs": []
    },
    {
      "cell_type": "code",
      "source": [
        "sol=root(eqs_wrapped, x)\n",
        "sol"
      ],
      "metadata": {
        "id": "l8ocZ2P2qyg5",
        "outputId": "9bd6dcbe-d743-4b58-d918-b89fcbd19ae1",
        "colab": {
          "base_uri": "https://localhost:8080/"
        }
      },
      "execution_count": 9,
      "outputs": [
        {
          "output_type": "execute_result",
          "data": {
            "text/plain": [
              "    fjac: array([[-2.93233152e-05,  1.53805921e-05,  1.39427232e-05,\n",
              "        -6.47949621e-01, -6.22484674e-01,  2.98555445e-01,\n",
              "         3.21774400e-01],\n",
              "       [-1.26269048e-05, -1.90384605e-05,  3.16653657e-05,\n",
              "         4.33725798e-01, -2.83916113e-01, -4.40572575e-01,\n",
              "         7.32918398e-01],\n",
              "       [ 4.23241601e-05, -8.24812204e-06, -3.40760383e-05,\n",
              "         6.25453258e-01, -4.73855106e-01,  5.86320175e-01,\n",
              "        -2.01241670e-01],\n",
              "       [ 6.88571594e-04,  2.57851494e-04, -9.46423092e-04,\n",
              "        -2.91794613e-02, -5.54405422e-01, -6.10727945e-01,\n",
              "        -5.64617683e-01],\n",
              "       [-5.81789805e-01, -2.05229823e-01,  7.87019632e-01,\n",
              "        -3.42308349e-06, -6.62205417e-04, -6.94203219e-04,\n",
              "        -7.21154959e-04],\n",
              "       [-6.06648583e-01,  7.54029712e-01, -2.51826703e-01,\n",
              "         3.81491403e-05,  9.23353249e-06,  8.66737357e-06,\n",
              "         6.22653908e-06],\n",
              "       [-5.41754227e-01, -6.23955003e-01, -5.63189588e-01,\n",
              "        -2.30465122e-06, -5.57812640e-07, -5.23610140e-07,\n",
              "        -3.76155163e-07]])\n",
              "     fun: array([-3.83295307e-09,  3.26126171e-09,  5.71691139e-10, -1.16479816e-04,\n",
              "       -1.62301731e-05,  1.94124441e-05,  2.37549284e-05])\n",
              " message: 'The solution converged.'\n",
              "    nfev: 17\n",
              "     qtf: array([ 6.96229538e-04, -3.73870502e-04,  1.85794434e-05, -9.20570597e-05,\n",
              "       -1.30622273e-07, -8.93753235e-11,  5.39984835e-12])\n",
              "       r: array([ 3.56091871e+04, -3.41799710e+04, -9.46116230e+03, -4.66875203e+03,\n",
              "        2.59959005e+04, -4.17427218e+05, -4.37384645e+05,  2.98469808e+04,\n",
              "       -1.78749264e+04,  6.08942407e+03, -2.66596788e+04,  2.62068055e+05,\n",
              "        3.16157353e+05, -3.85978077e+04,  4.79642968e+04, -3.34918313e+04,\n",
              "        3.72144835e+05,  4.63688968e+05, -2.20285913e+03, -1.23465374e+05,\n",
              "       -3.34438577e+04,  3.85751737e+01, -1.49261265e+02, -2.09762764e+01,\n",
              "        2.29839909e+01,  2.39359116e+01,  2.68196298e+01, -1.74210021e-01])\n",
              "  status: 1\n",
              " success: True\n",
              "       x: array([ 0.13053672,  0.09556131, -0.08459409, -0.06010319, -0.19787296,\n",
              "       -0.4172964 ,  0.4172964 ])"
            ]
          },
          "metadata": {},
          "execution_count": 9
        }
      ]
    },
    {
      "cell_type": "code",
      "source": [
        "xtodunk(sol.x)"
      ],
      "metadata": {
        "colab": {
          "base_uri": "https://localhost:8080/"
        },
        "id": "AetCqijIr3lF",
        "outputId": "f9cb2454-7433-4c17-e29e-b7024fcae920"
      },
      "execution_count": 10,
      "outputs": [
        {
          "output_type": "execute_result",
          "data": {
            "text/plain": [
              "{'Ltot': array(6.02836122),\n",
              " 'Lx': array([0.32122647, 0.32919072, 0.34958281]),\n",
              " 'Vtot': array(3.97163878),\n",
              " 'Vy': array([0.35170977, 0.33962121, 0.30866903]),\n",
              " 'flashT': array(352.85497499)}"
            ]
          },
          "metadata": {},
          "execution_count": 10
        }
      ]
    },
    {
      "cell_type": "code",
      "source": [
        "xtod(sol.x,d2)"
      ],
      "metadata": {
        "id": "ctJ6ed8FsmaS",
        "outputId": "790dba43-f835-4d2e-e2d3-a2befe8cbfb9",
        "colab": {
          "base_uri": "https://localhost:8080/"
        }
      },
      "execution_count": 11,
      "outputs": [
        {
          "output_type": "execute_result",
          "data": {
            "text/plain": [
              "{'FT': 450,\n",
              " 'Ftot': 10,\n",
              " 'Fz': array([0.33333333, 0.33333333, 0.33333333]),\n",
              " 'Ltot': array(6.02836122),\n",
              " 'Lx': array([0.32122647, 0.32919072, 0.34958281]),\n",
              " 'Vtot': array(3.97163878),\n",
              " 'Vy': array([0.35170977, 0.33962121, 0.30866903]),\n",
              " 'flashP': 101325,\n",
              " 'flashT': array(352.85497499)}"
            ]
          },
          "metadata": {},
          "execution_count": 11
        }
      ]
    },
    {
      "cell_type": "code",
      "source": [
        ""
      ],
      "metadata": {
        "id": "6WcOGvwDT-m1"
      },
      "execution_count": null,
      "outputs": []
    }
  ]
}