{
  "nbformat": 4,
  "nbformat_minor": 0,
  "metadata": {
    "colab": {
      "name": "AdiabaticFlash.ipynb",
      "provenance": [],
      "collapsed_sections": [],
      "authorship_tag": "ABX9TyPu4vO9f+TuR2vzITB7wGO3",
      "include_colab_link": true
    },
    "kernelspec": {
      "name": "python3",
      "display_name": "Python 3"
    },
    "language_info": {
      "name": "python"
    }
  },
  "cells": [
    {
      "cell_type": "markdown",
      "metadata": {
        "id": "view-in-github",
        "colab_type": "text"
      },
      "source": [
        "<a href=\"https://colab.research.google.com/github/profteachkids/CHE2064_Spring2022/blob/main/AdiabaticFlash.ipynb\" target=\"_parent\"><img src=\"https://colab.research.google.com/assets/colab-badge.svg\" alt=\"Open In Colab\"/></a>"
      ]
    },
    {
      "cell_type": "code",
      "source": [
        "!git clone --depth 1 https://github.com/profteachkids/chetools.git &> /dev/null\n",
        "import sys\n",
        "sys.path.insert(1, \"/content/chetools/tools\") #Path to CHE module imports"
      ],
      "metadata": {
        "id": "Gwp9C2bBoebL"
      },
      "execution_count": null,
      "outputs": []
    },
    {
      "cell_type": "code",
      "execution_count": null,
      "metadata": {
        "id": "EQTOJoLTGQgb"
      },
      "outputs": [],
      "source": [
        "import che\n",
        "from collections import namedtuple\n",
        "from copy import deepcopy\n",
        "import numpy as np\n",
        "from scipy.special import expit,logit\n",
        "from scipy.optimize import root"
      ]
    },
    {
      "cell_type": "code",
      "source": [
        "class dot_dict(dict):\n",
        "    __getattr__= dict.__getitem__\n",
        "    __setattr__ = dict.__setitem__\n",
        "    __delattr__ = dict.__delitem__"
      ],
      "metadata": {
        "id": "fbMr0sbAYbzh"
      },
      "execution_count": null,
      "outputs": []
    },
    {
      "cell_type": "code",
      "source": [
        "class Unk():\n",
        "    pass\n",
        "\n",
        "class Range(Unk):\n",
        "    def __init__(self,value,lo,hi):\n",
        "        self.lo=lo\n",
        "        self.hi=hi\n",
        "        self.diff = hi-lo\n",
        "        self.x=value\n",
        "        self.shape=(1,)\n",
        "        self.size = 1\n",
        "\n",
        "    def flatten(self):\n",
        "        return np.ravel(logit((self.x-self.lo)/self.diff))\n",
        "\n",
        "    def unflatten(self,xx):\n",
        "        return expit(xx.reshape(self.shape))*self.diff +self.lo\n",
        "\n",
        "\n",
        "class RangeArray(Range):\n",
        "    def __init__(self,value,lo,hi):\n",
        "        self.lo=np.atleast_1d(lo)\n",
        "        self.hi=np.atleast_1d(hi)\n",
        "        self.diff = self.hi-self.lo\n",
        "        value = np.atleast_1d(value)\n",
        "        self.x = value\n",
        "        self.shape = value.shape\n",
        "        self.size = value.size\n",
        "\n",
        "class Comp(Unk):\n",
        "    def __init__(self,value):\n",
        "        self.x=np.asarray(value).reshape(-1)\n",
        "        self.size=self.x.size - 1\n",
        "\n",
        "    def __repr__(self):\n",
        "        return f'{self.x}'\n",
        "\n",
        "    def flatten(self):\n",
        "        return np.log(self.x[:-1]) + np.log(1.+ (1. - self.x[-1])/self.x[-1])\n",
        "\n",
        "\n",
        "    def unflatten(self,xx):\n",
        "        xm1 = np.exp(xx)/(1+np.sum(np.exp(xx)))\n",
        "        return np.concatenate((xm1, np.atleast_1d(1.-np.sum(xm1))))\n",
        "\n"
      ],
      "metadata": {
        "id": "cp73yAkZcuBc"
      },
      "execution_count": null,
      "outputs": []
    },
    {
      "cell_type": "code",
      "source": [
        "Unk_Tuple = namedtuple('Unk_Tuple', ['keys', 'start', 'end', 'unk'])\n",
        "\n",
        "def dtox(d):\n",
        "    d2=dot_dict()\n",
        "    size=0\n",
        "    unks={}\n",
        "\n",
        "    for k,v in d.items():\n",
        "        idv = id(v)\n",
        "        if idv in unks:\n",
        "            unks[idv].keys.append(k)\n",
        "            continue\n",
        "        if isinstance(v,Unk):\n",
        "            unks[idv]=Unk_Tuple([k], size, size+v.size, v)\n",
        "            size+=v.size\n",
        "        else:\n",
        "            d2[k]=v\n",
        "    x = np.zeros(size)\n",
        "    for k,v in unks.items():\n",
        "        x[v.start:v.end]= v.unk.flatten()\n",
        "            \n",
        "    def xtod(x,d2):\n",
        "        for k,v in unks.items():\n",
        "            unflattened = v.unk.unflatten(x[v.start:v.end])\n",
        "            for key in v.keys:\n",
        "                d2[key]=unflattened\n",
        "        return d2\n",
        "        \n",
        "    return x, xtod(x,d2), xtod\n"
      ],
      "metadata": {
        "id": "w4zo9wd3Fa_s"
      },
      "execution_count": null,
      "outputs": []
    },
    {
      "cell_type": "code",
      "source": [
        "p = che.Props(['Ethanol','Isopropanol', 'Water'])"
      ],
      "metadata": {
        "id": "plwrTvsCpM5A"
      },
      "execution_count": null,
      "outputs": []
    },
    {
      "cell_type": "code",
      "source": [
        "# Static parameters (Total feed, feed mole fractions, feed temperature and )\n",
        "c=dot_dict()\n",
        "c.Ftot=10 # Total Feed moles\n",
        "c.Fz = np.array([1/3, 1/3, 1/3]) # Equimolar feed composition\n",
        "c.FT = 450 # Feed temperature\n",
        "c.flashP= 101325 # Flash drum pressure\n",
        "\n",
        "c.Vy = Comp(c.Fz) # Guess vapor/liquid composition equal to feed\n",
        "c.Lx = Comp(c.Fz) # Comp - constrains mole fractions to behave like mole fractions!\n",
        "c.flashT = Range(360, 273.15, c.FT)  # Guess and bounds for flash temperature\n",
        "c.Vtot = Range(c.Ftot/2, 0., c.Ftot)  # Guess half of feed in vapor\n",
        "c.Ltot = Range(c.Ftot/2, 0., c.Ftot)"
      ],
      "metadata": {
        "id": "jZoVc-TZpa1D"
      },
      "execution_count": null,
      "outputs": []
    },
    {
      "cell_type": "code",
      "source": [
        "x, d, xtod = dtox(c)"
      ],
      "metadata": {
        "id": "rHVxiki_phXS"
      },
      "execution_count": null,
      "outputs": []
    },
    {
      "cell_type": "code",
      "source": [
        "def eqs(x,d):\n",
        "    d = xtod(x, d)    \n",
        "    V = d.Vy * d.Vtot # Moles of each component = mole fractions * total moles\n",
        "    L = d.Lx * d.Ltot\n",
        "    F = d.Fz * d.Ftot\n",
        "    mass_balance = F - V - L # Mass balance for each component (vectors!)\n",
        "\n",
        "    # Hmix calculates the enthalpy given the temperature and moles of each\n",
        "    # component in the vapor and liquid phases\n",
        "    FH = p.Hl(nL=F, T=d.FT)\n",
        "    VH = p.Hv(nV=V, T=d.flashT)\n",
        "    LH = p.Hl(nL=L, T=d.flashT)\n",
        "    energy_balance = (FH - VH - LH)\n",
        "\n",
        "    # Raoults with NRTL activity coefficient correction.  One-liner!\n",
        "    fugL = d.Lx  * p.NRTL_gamma(d.Lx,d.flashT)* p.Pvap(d.flashT)\n",
        "    fugV = d.Vy * d.flashP\n",
        "    VLE = fugL - fugV\n",
        "    return np.concatenate([mass_balance, np.atleast_1d(energy_balance), VLE])\n"
      ],
      "metadata": {
        "id": "_4hviOyfp1k5"
      },
      "execution_count": null,
      "outputs": []
    },
    {
      "cell_type": "code",
      "source": [
        "sol=root(lambda x: eqs(x,d), x).x"
      ],
      "metadata": {
        "id": "l8ocZ2P2qyg5"
      },
      "execution_count": null,
      "outputs": []
    },
    {
      "cell_type": "code",
      "source": [
        "xtod(sol,d)"
      ],
      "metadata": {
        "colab": {
          "base_uri": "https://localhost:8080/"
        },
        "id": "AetCqijIr3lF",
        "outputId": "94e537b3-efe3-40fe-e994-c2f2e4a80652"
      },
      "execution_count": null,
      "outputs": [
        {
          "output_type": "execute_result",
          "data": {
            "text/plain": [
              "{'FT': 450,\n",
              " 'Ftot': 10,\n",
              " 'Fz': array([0.33333333, 0.33333333, 0.33333333]),\n",
              " 'Ltot': array([6.02836122]),\n",
              " 'Lx': array([0.32122647, 0.32919072, 0.34958281]),\n",
              " 'Vtot': array([3.97163878]),\n",
              " 'Vy': array([0.35170977, 0.33962121, 0.30866903]),\n",
              " 'flashP': 101325,\n",
              " 'flashT': array([352.85497499])}"
            ]
          },
          "metadata": {},
          "execution_count": 17
        }
      ]
    },
    {
      "cell_type": "code",
      "source": [
        ""
      ],
      "metadata": {
        "id": "ctJ6ed8FsmaS"
      },
      "execution_count": null,
      "outputs": []
    }
  ]
}