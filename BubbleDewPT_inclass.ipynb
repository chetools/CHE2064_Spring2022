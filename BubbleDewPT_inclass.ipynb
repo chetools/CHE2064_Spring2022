{
  "nbformat": 4,
  "nbformat_minor": 0,
  "metadata": {
    "colab": {
      "name": "BubbleDewPT_inclass",
      "provenance": [],
      "authorship_tag": "ABX9TyO7Ziucit+VhyHHFbp6ZtcL",
      "include_colab_link": true
    },
    "kernelspec": {
      "name": "python3",
      "display_name": "Python 3"
    },
    "language_info": {
      "name": "python"
    }
  },
  "cells": [
    {
      "cell_type": "markdown",
      "metadata": {
        "id": "view-in-github",
        "colab_type": "text"
      },
      "source": [
        "<a href=\"https://colab.research.google.com/github/profteachkids/CHE2064_Spring2022/blob/main/BubbleDewPT_inclass.ipynb\" target=\"_parent\"><img src=\"https://colab.research.google.com/assets/colab-badge.svg\" alt=\"Open In Colab\"/></a>"
      ]
    },
    {
      "cell_type": "code",
      "execution_count": 1,
      "metadata": {
        "colab": {
          "base_uri": "https://localhost:8080/"
        },
        "id": "6wnAnz8wduMf",
        "outputId": "0aa3a159-4cec-4bd0-bd65-30fdfb3e0bf1"
      },
      "outputs": [
        {
          "output_type": "stream",
          "name": "stdout",
          "text": [
            "Cloning into 'chetools'...\n",
            "remote: Enumerating objects: 75, done.\u001b[K\n",
            "remote: Counting objects: 100% (75/75), done.\u001b[K\n",
            "remote: Compressing objects: 100% (28/28), done.\u001b[K\n",
            "remote: Total 75 (delta 47), reused 69 (delta 45), pack-reused 0\u001b[K\n",
            "Unpacking objects: 100% (75/75), done.\n"
          ]
        }
      ],
      "source": [
        "!git clone --depth 1 https://github.com/profteachkids/chetools.git"
      ]
    },
    {
      "cell_type": "code",
      "source": [
        "import sys\n",
        "sys.path.insert(1, \"/content/chetools\")\n",
        "import numpy as np\n",
        "from scipy.optimize import root\n",
        "import tools.che as che"
      ],
      "metadata": {
        "id": "4JAvpQJQpxWh"
      },
      "execution_count": 2,
      "outputs": []
    },
    {
      "cell_type": "code",
      "source": [
        "p = che.Props(['Benzene','Toluene'])"
      ],
      "metadata": {
        "colab": {
          "base_uri": "https://localhost:8080/"
        },
        "id": "LXpSNyO8p7Ea",
        "outputId": "306ac10a-afed-4784-df10-f9c7a0503fe4"
      },
      "execution_count": 3,
      "outputs": [
        {
          "output_type": "stream",
          "name": "stderr",
          "text": [
            "WARNING:absl:No GPU/TPU found, falling back to CPU. (Set TF_CPP_MIN_LOG_LEVEL=0 and rerun for more info.)\n"
          ]
        }
      ]
    },
    {
      "cell_type": "code",
      "source": [
        "def bubbleP(x,T):\n",
        "    return np.sum(x*p.Pvap(T))"
      ],
      "metadata": {
        "id": "NQ5c7YZ2u__U"
      },
      "execution_count": 10,
      "outputs": []
    },
    {
      "cell_type": "code",
      "source": [
        "def bubbleT(x,P):\n",
        "\n",
        "    def eq(v):\n",
        "        T=v[0]\n",
        "        return [bubbleP(x,T) - P]\n",
        "\n",
        "    return root(eq, [298.]).x\n",
        "\n",
        "        "
      ],
      "metadata": {
        "id": "8gW2V_EIvbN5"
      },
      "execution_count": 14,
      "outputs": []
    },
    {
      "cell_type": "code",
      "source": [
        "x=np.array([0.1,0.9])"
      ],
      "metadata": {
        "id": "_EUYHuRNA6ka"
      },
      "execution_count": 17,
      "outputs": []
    },
    {
      "cell_type": "code",
      "source": [
        "bubbleP(x,323.)"
      ],
      "metadata": {
        "colab": {
          "base_uri": "https://localhost:8080/"
        },
        "id": "SPwiV53MnJyO",
        "outputId": "d1d0886f-a1d2-4d76-83d3-ecb50fbb3470"
      },
      "execution_count": 18,
      "outputs": [
        {
          "output_type": "execute_result",
          "data": {
            "text/plain": [
              "DeviceArray(14548.93839949, dtype=float64)"
            ]
          },
          "metadata": {},
          "execution_count": 18
        }
      ]
    },
    {
      "cell_type": "code",
      "source": [
        "bubbleT(x, 101325)"
      ],
      "metadata": {
        "colab": {
          "base_uri": "https://localhost:8080/"
        },
        "id": "NwYxU214vR1F",
        "outputId": "c252f8c6-711a-4f6b-fcd8-54dcf9af8c4b"
      },
      "execution_count": 19,
      "outputs": [
        {
          "output_type": "execute_result",
          "data": {
            "text/plain": [
              "array([379.3394163])"
            ]
          },
          "metadata": {},
          "execution_count": 19
        }
      ]
    },
    {
      "cell_type": "code",
      "source": [
        ""
      ],
      "metadata": {
        "id": "RTu12sWYxkFc"
      },
      "execution_count": null,
      "outputs": []
    }
  ]
}