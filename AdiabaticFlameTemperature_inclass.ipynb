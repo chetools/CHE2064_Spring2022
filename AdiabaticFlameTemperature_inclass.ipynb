{
  "nbformat": 4,
  "nbformat_minor": 0,
  "metadata": {
    "colab": {
      "name": "AdiabaticFlameTemperature_inclass.ipynb",
      "provenance": [],
      "authorship_tag": "ABX9TyOTgaDy3GqGoErNAPxV1YS2",
      "include_colab_link": true
    },
    "kernelspec": {
      "name": "python3",
      "display_name": "Python 3"
    },
    "language_info": {
      "name": "python"
    }
  },
  "cells": [
    {
      "cell_type": "markdown",
      "metadata": {
        "id": "view-in-github",
        "colab_type": "text"
      },
      "source": [
        "<a href=\"https://colab.research.google.com/github/profteachkids/CHE2064_Spring2022/blob/main/AdiabaticFlameTemperature_inclass.ipynb\" target=\"_parent\"><img src=\"https://colab.research.google.com/assets/colab-badge.svg\" alt=\"Open In Colab\"/></a>"
      ]
    },
    {
      "cell_type": "code",
      "execution_count": 1,
      "metadata": {
        "colab": {
          "base_uri": "https://localhost:8080/"
        },
        "id": "6wnAnz8wduMf",
        "outputId": "02fd8e57-669b-416b-f4a4-129f9af06add"
      },
      "outputs": [
        {
          "output_type": "stream",
          "name": "stdout",
          "text": [
            "Cloning into 'chetools'...\n",
            "remote: Enumerating objects: 72, done.\u001b[K\n",
            "remote: Counting objects: 100% (72/72), done.\u001b[K\n",
            "remote: Compressing objects: 100% (26/26), done.\u001b[K\n",
            "remote: Total 72 (delta 47), reused 67 (delta 45), pack-reused 0\u001b[K\n",
            "Unpacking objects: 100% (72/72), done.\n"
          ]
        }
      ],
      "source": [
        "!git clone --depth 1 https://github.com/profteachkids/chetools.git"
      ]
    },
    {
      "cell_type": "code",
      "source": [
        "import sys\n",
        "sys.path.insert(1, \"/content/chetools\")\n",
        "import numpy as np\n",
        "from scipy.optimize import root\n",
        "import tools.che as che"
      ],
      "metadata": {
        "id": "4JAvpQJQpxWh"
      },
      "execution_count": 2,
      "outputs": []
    },
    {
      "cell_type": "code",
      "source": [
        "p = che.Props(['Methane', 'Ethane', 'nPropane',\n",
        "               'Oxygen','Nitrogen', 'CarbonDioxide', 'Water'])"
      ],
      "metadata": {
        "colab": {
          "base_uri": "https://localhost:8080/"
        },
        "id": "LXpSNyO8p7Ea",
        "outputId": "4befdc25-8306-4ed3-973c-24d489335398"
      },
      "execution_count": 3,
      "outputs": [
        {
          "output_type": "stream",
          "name": "stderr",
          "text": [
            "WARNING:absl:No GPU/TPU found, falling back to CPU. (Set TF_CPP_MIN_LOG_LEVEL=0 and rerun for more info.)\n"
          ]
        }
      ]
    },
    {
      "cell_type": "code",
      "source": [
        "p.HfIG"
      ],
      "metadata": {
        "id": "l3oLBTRz6e1d",
        "outputId": "24be18b1-d3ed-478f-ce1b-cc3282a16a47",
        "colab": {
          "base_uri": "https://localhost:8080/"
        }
      },
      "execution_count": 11,
      "outputs": [
        {
          "output_type": "execute_result",
          "data": {
            "text/plain": [
              "array([ -74850.        ,  -83850.        , -104680.        ,\n",
              "             0.        ,       0.        , -393720.98479714,\n",
              "       -241820.        ])"
            ]
          },
          "metadata": {},
          "execution_count": 11
        }
      ]
    },
    {
      "cell_type": "code",
      "source": [
        "def integrateCp(T):\n",
        "    return (p.CpIGA*T + p.CpIGB*p.CpIGC/np.tanh(p.CpIGC/T) - p.CpIGD*p.CpIGE*np.tanh(p.CpIGE/T))/1000.\n",
        "\n",
        "def H(T):\n",
        "    return p.HfIG + integrateCp(T) - integrateCp(298.)"
      ],
      "metadata": {
        "id": "dGdni5zTsAWG"
      },
      "execution_count": 4,
      "outputs": []
    },
    {
      "cell_type": "code",
      "source": [
        "n_fuel = np.array([0.95, 0.04, 0.01]) # moles of methane, ethane, nPropane\n",
        "excess_air = 0.2  #20% excess air\n",
        "\n",
        "fuelCH = np.array([[1,4],\n",
        "                   [2,6],\n",
        "                   [3,8]])\n",
        "\n",
        "nC, nH = n_fuel @ fuelCH\n",
        "\n",
        "nCO2 = nC\n",
        "nH2O = nH/2\n",
        "nO2 = (nH2O/2 + nCO2)*(1.+excess_air)\n",
        "nN2 = 79./21. * nO2"
      ],
      "metadata": {
        "id": "kXSGsN2FsP4G"
      },
      "execution_count": 21,
      "outputs": []
    },
    {
      "cell_type": "code",
      "source": [
        "n_in= np.concatenate([n_fuel, np.array([nO2, nN2, 0., 0.])])\n",
        "n_out = np.array([0., 0., 0., nO2*excess_air, nN2,nCO2, nH2O])"
      ],
      "metadata": {
        "id": "stIzlO-X0H4h"
      },
      "execution_count": 22,
      "outputs": []
    },
    {
      "cell_type": "code",
      "source": [
        "def eqs(vec):\n",
        "    T = vec[0]\n",
        "    return [np.dot(H(T), n_out) - np.dot(H(298), n_in)]"
      ],
      "metadata": {
        "id": "PhCuZI7F_-D7"
      },
      "execution_count": 23,
      "outputs": []
    },
    {
      "cell_type": "code",
      "source": [
        "root(eqs, [2000.]).x[0]"
      ],
      "metadata": {
        "id": "elTT4MCd4dXp",
        "outputId": "2bdd7909-6734-472a-d3dc-001643f2ccbc",
        "colab": {
          "base_uri": "https://localhost:8080/"
        }
      },
      "execution_count": 24,
      "outputs": [
        {
          "output_type": "execute_result",
          "data": {
            "text/plain": [
              "2063.747638110465"
            ]
          },
          "metadata": {},
          "execution_count": 24
        }
      ]
    },
    {
      "cell_type": "code",
      "source": [
        ""
      ],
      "metadata": {
        "id": "_EUYHuRNA6ka"
      },
      "execution_count": null,
      "outputs": []
    }
  ]
}