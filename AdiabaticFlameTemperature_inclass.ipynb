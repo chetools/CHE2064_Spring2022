{
  "nbformat": 4,
  "nbformat_minor": 0,
  "metadata": {
    "colab": {
      "name": "AdiabaticFlameTemperature_inclass.ipynb",
      "provenance": [],
      "authorship_tag": "ABX9TyPdldsjMLC2J+2OL14iaUZb",
      "include_colab_link": true
    },
    "kernelspec": {
      "name": "python3",
      "display_name": "Python 3"
    },
    "language_info": {
      "name": "python"
    }
  },
  "cells": [
    {
      "cell_type": "markdown",
      "metadata": {
        "id": "view-in-github",
        "colab_type": "text"
      },
      "source": [
        "<a href=\"https://colab.research.google.com/github/profteachkids/CHE2064_Spring2022/blob/main/AdiabaticFlameTemperature_inclass.ipynb\" target=\"_parent\"><img src=\"https://colab.research.google.com/assets/colab-badge.svg\" alt=\"Open In Colab\"/></a>"
      ]
    },
    {
      "cell_type": "code",
      "execution_count": 1,
      "metadata": {
        "colab": {
          "base_uri": "https://localhost:8080/"
        },
        "id": "6wnAnz8wduMf",
        "outputId": "3f821b3b-3239-4b03-db6d-ba18aab0d335"
      },
      "outputs": [
        {
          "output_type": "stream",
          "name": "stdout",
          "text": [
            "Cloning into 'chetools'...\n",
            "remote: Enumerating objects: 72, done.\u001b[K\n",
            "remote: Counting objects: 100% (72/72), done.\u001b[K\n",
            "remote: Compressing objects: 100% (26/26), done.\u001b[K\n",
            "remote: Total 72 (delta 47), reused 67 (delta 45), pack-reused 0\u001b[K\n",
            "Unpacking objects: 100% (72/72), done.\n"
          ]
        }
      ],
      "source": [
        "!git clone --depth 1 https://github.com/profteachkids/chetools.git"
      ]
    },
    {
      "cell_type": "code",
      "source": [
        "import sys\n",
        "sys.path.insert(1, \"/content/chetools\")\n",
        "import numpy as np\n",
        "from scipy.optimize import root\n",
        "import tools.che as che"
      ],
      "metadata": {
        "id": "4JAvpQJQpxWh"
      },
      "execution_count": 7,
      "outputs": []
    },
    {
      "cell_type": "code",
      "source": [
        "p = che.Props(['Methane', 'Ethane', 'nPropane',\n",
        "               'Oxygen','Nitrogen', 'CarbonDioxide', 'Water'])"
      ],
      "metadata": {
        "colab": {
          "base_uri": "https://localhost:8080/"
        },
        "id": "LXpSNyO8p7Ea",
        "outputId": "85429cdc-be6a-4135-b9e6-26745519f14e"
      },
      "execution_count": 8,
      "outputs": [
        {
          "output_type": "stream",
          "name": "stderr",
          "text": [
            "WARNING:absl:No GPU/TPU found, falling back to CPU. (Set TF_CPP_MIN_LOG_LEVEL=0 and rerun for more info.)\n"
          ]
        }
      ]
    },
    {
      "cell_type": "code",
      "source": [
        "def integrateCp(T):\n",
        "    return (p.CpIGA*T + p.CpIGB*p.CpIGC/np.tanh(p.CpIGC/T) - p.CpIGD*p.CpIGE*np.tanh(p.CpIGE/T))/1000.\n",
        "\n",
        "def H(T):\n",
        "    return p.HfIG + integrateCp(T) - integrateCp(298.)"
      ],
      "metadata": {
        "id": "dGdni5zTsAWG"
      },
      "execution_count": 27,
      "outputs": []
    },
    {
      "cell_type": "code",
      "source": [
        "n_fuel = np.array([0.95, 0.04, 0.01]) # moles of methane, ethane, nPropane\n",
        "\n",
        "fuelCH = np.array([[1,4],\n",
        "                   [2,6],\n",
        "                   [3,8]])\n",
        "\n",
        "nC, nH = n_fuel @ fuelCH\n",
        "\n",
        "nCO2 = nC\n",
        "nH2O = nH/2\n",
        "nO2 = nH2O/2 + nCO2\n",
        "nN2 = 79./21. * nO2"
      ],
      "metadata": {
        "id": "kXSGsN2FsP4G"
      },
      "execution_count": 37,
      "outputs": []
    },
    {
      "cell_type": "code",
      "source": [
        "n_in= np.concatenate([n_fuel, np.array([nO2, nN2, 0., 0.])])\n",
        "n_out = np.array([0., 0., 0., 0., nN2,nCO2, nH2O])"
      ],
      "metadata": {
        "id": "stIzlO-X0H4h"
      },
      "execution_count": 40,
      "outputs": []
    },
    {
      "cell_type": "code",
      "source": [
        "H(298) "
      ],
      "metadata": {
        "colab": {
          "base_uri": "https://localhost:8080/"
        },
        "id": "0EDQ3Gn_tvQ0",
        "outputId": "e293d5b4-1942-4529-8b63-10251219d339"
      },
      "execution_count": 42,
      "outputs": [
        {
          "output_type": "execute_result",
          "data": {
            "text/plain": [
              "array([ -74850.        ,  -83850.        , -104680.        ,\n",
              "             0.        ,       0.        , -393720.98479714,\n",
              "       -241820.        ])"
            ]
          },
          "metadata": {},
          "execution_count": 42
        }
      ]
    },
    {
      "cell_type": "code",
      "source": [
        "n_in"
      ],
      "metadata": {
        "colab": {
          "base_uri": "https://localhost:8080/"
        },
        "id": "rhUghYQdxnqQ",
        "outputId": "b13f880a-3187-4850-bb92-898ac75ae9f7"
      },
      "execution_count": 43,
      "outputs": [
        {
          "output_type": "execute_result",
          "data": {
            "text/plain": [
              "array([0.95      , 0.04      , 0.01      , 2.09      , 7.86238095,\n",
              "       0.        , 0.        ])"
            ]
          },
          "metadata": {},
          "execution_count": 43
        }
      ]
    },
    {
      "cell_type": "code",
      "source": [
        "np.dot(H(298), n_in)"
      ],
      "metadata": {
        "colab": {
          "base_uri": "https://localhost:8080/"
        },
        "id": "dVra56Jh2v4D",
        "outputId": "a1485e80-c19a-4f8a-dfbb-0280857457cc"
      },
      "execution_count": 44,
      "outputs": [
        {
          "output_type": "execute_result",
          "data": {
            "text/plain": [
              "-75508.3"
            ]
          },
          "metadata": {},
          "execution_count": 44
        }
      ]
    },
    {
      "cell_type": "code",
      "source": [
        "np.dot(H(2330.), n_out)"
      ],
      "metadata": {
        "colab": {
          "base_uri": "https://localhost:8080/"
        },
        "id": "cO3kVvyZ3MuT",
        "outputId": "5d9c0c3d-80c3-4202-8c06-027a1c00a1a9"
      },
      "execution_count": 50,
      "outputs": [
        {
          "output_type": "execute_result",
          "data": {
            "text/plain": [
              "-76471.93147640914"
            ]
          },
          "metadata": {},
          "execution_count": 50
        }
      ]
    },
    {
      "cell_type": "code",
      "source": [
        ""
      ],
      "metadata": {
        "id": "elTT4MCd4dXp"
      },
      "execution_count": null,
      "outputs": []
    }
  ]
}