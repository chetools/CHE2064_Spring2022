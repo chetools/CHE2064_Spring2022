{
  "nbformat": 4,
  "nbformat_minor": 0,
  "metadata": {
    "colab": {
      "name": "NRTL.ipynb",
      "provenance": [],
      "authorship_tag": "ABX9TyOmJvR4ZjOT8fFukCAOP+TY",
      "include_colab_link": true
    },
    "kernelspec": {
      "name": "python3",
      "display_name": "Python 3"
    },
    "language_info": {
      "name": "python"
    }
  },
  "cells": [
    {
      "cell_type": "markdown",
      "metadata": {
        "id": "view-in-github",
        "colab_type": "text"
      },
      "source": [
        "<a href=\"https://colab.research.google.com/github/profteachkids/CHE2064_Spring2022/blob/main/NRTL.ipynb\" target=\"_parent\"><img src=\"https://colab.research.google.com/assets/colab-badge.svg\" alt=\"Open In Colab\"/></a>"
      ]
    },
    {
      "cell_type": "code",
      "execution_count": 1,
      "metadata": {
        "id": "LYacKXeWITil"
      },
      "outputs": [],
      "source": [
        "!wget -N -q https://raw.githubusercontent.com/profteachkids/chetools/main/tools/che.py"
      ]
    },
    {
      "cell_type": "code",
      "source": [
        "import che\n",
        "import numpy as np"
      ],
      "metadata": {
        "id": "8d53LOlwI0f5"
      },
      "execution_count": 4,
      "outputs": []
    },
    {
      "cell_type": "code",
      "source": [
        "p = che.Props(['Ethanol','Isopropanol','Water'])"
      ],
      "metadata": {
        "colab": {
          "base_uri": "https://localhost:8080/"
        },
        "id": "JIFXVVByI1H5",
        "outputId": "f19a6cb3-62c4-4ad8-df85-2e744a65148f"
      },
      "execution_count": 3,
      "outputs": [
        {
          "output_type": "stream",
          "name": "stderr",
          "text": [
            "WARNING:absl:No GPU/TPU found, falling back to CPU. (Set TF_CPP_MIN_LOG_LEVEL=0 and rerun for more info.)\n"
          ]
        }
      ]
    },
    {
      "cell_type": "markdown",
      "source": [
        "### NRTL Activity Coefficient Model\n",
        "\n",
        "$ln (\\gamma_i) = \\dfrac{ \\sum\\limits_{j=1}^{n}x_j \\tau_{ji}G_{ji}}{\\sum\\limits_{k=1}^{n}x_kG_{ki}} + \n",
        "\\sum\\limits_{j=1}^{n} \\dfrac{x_jG_{ij}}{\\sum\\limits_{k=1}^{n}x_k G_{kj}} \\left( \\tau_{ij} - \n",
        "\\dfrac{\\sum\\limits_{m=1}^{n} x_m \\tau_{mj} G_{mj}}{\\sum\\limits_{k=1}^{n} x_kG_{kj}} \\right)$\n",
        "\n",
        "$\\tau_{ji} = A_{ji} + \\dfrac{B_{ji}}{T} + C_{ji}ln(T)+D_{ji}T$\n",
        "\n",
        "$G_{ji}=exp \\left( - \\alpha_{ji} \\tau_{ji} \\right)$\n",
        "\n",
        "$\\alpha_{ij}=\\alpha_{ji}$"
      ],
      "metadata": {
        "id": "SpElp_I2Pj8N"
      }
    },
    {
      "cell_type": "code",
      "source": [
        "def NRTL(x, T):\n",
        "    tau = p.NRTL_A + p.NRTL_B/T + p.NRTL_C*np.log(T) + p.NRTL_D*T\n",
        "    G = np.exp(-p.NRTL_alpha*tau)\n",
        "    n = x.size\n",
        "    xtauG = np.zeros(3)\n",
        "    xG=np.zeros(3)\n",
        "    term2 = np.zeros(3)\n",
        "    for i in range(n):\n",
        "        for j in range(n):\n",
        "            xtauG[i]=xtauG[i]+x[j]*tau[j,i]*G[j,i]\n",
        "        for k in range(n):\n",
        "            xG[i]=xG[i]+x[k]*G[k,i]\n",
        "    xtauGdivxG = xtauG/xG\n",
        "\n",
        "    for i in range(n):\n",
        "        for j in range(n):\n",
        "            term2[i]=term2[i]+ x[j]*G[i,j]*(tau[i,j] - xtauGdivxG[j])/xG[j]\n",
        "    print(np.exp(xtauGdivxG + term2))\n",
        "\n",
        "        "
      ],
      "metadata": {
        "id": "eeED3RqXJgnK"
      },
      "execution_count": 65,
      "outputs": []
    },
    {
      "cell_type": "code",
      "source": [
        "x=np.array([1/3, 1/3, 1/3])"
      ],
      "metadata": {
        "id": "cIAUueK-I5mo"
      },
      "execution_count": 77,
      "outputs": []
    },
    {
      "cell_type": "code",
      "source": [
        "NRTL(x,298.)"
      ],
      "metadata": {
        "colab": {
          "base_uri": "https://localhost:8080/"
        },
        "id": "qrDcucUdKAsB",
        "outputId": "7bdd4038-7326-4af6-a082-756d407d1c3e"
      },
      "execution_count": 78,
      "outputs": [
        {
          "output_type": "stream",
          "name": "stdout",
          "text": [
            "[1.02500286 1.13152448 2.06917874]\n"
          ]
        }
      ]
    },
    {
      "cell_type": "code",
      "source": [
        "def NRTL_gamma(x, T):\n",
        "    x=np.asarray(x).reshape((1,-1))\n",
        "    tau = (p.NRTL_A + p.NRTL_B / T + p.NRTL_C * np.log(T) +\n",
        "            p.NRTL_D * T)\n",
        "    G = np.exp(-p.NRTL_alpha * tau)\n",
        "    xG=x @ G\n",
        "    xtauGdivxG = (x@ (tau*G)/ xG)\n",
        "    print(xtauGdivxG)\n",
        "    lngamma = xtauGdivxG +  (((G*(tau - xtauGdivxG))/xG) @x.T).T\n",
        "    return np.exp(lngamma).flatten()"
      ],
      "metadata": {
        "id": "Pcm_woxuKCP_"
      },
      "execution_count": 83,
      "outputs": []
    },
    {
      "cell_type": "code",
      "source": [
        "NRTL_gamma(x,298.)"
      ],
      "metadata": {
        "colab": {
          "base_uri": "https://localhost:8080/"
        },
        "id": "KmRiIS5OKl6p",
        "outputId": "2006d8e6-029f-400e-8096-dae42531c93c"
      },
      "execution_count": 84,
      "outputs": [
        {
          "output_type": "stream",
          "name": "stdout",
          "text": [
            "[[ 0.35683404  0.56138603 -0.04280707]]\n"
          ]
        },
        {
          "output_type": "execute_result",
          "data": {
            "text/plain": [
              "array([1.02500286, 1.13152448, 2.06917874])"
            ]
          },
          "metadata": {},
          "execution_count": 84
        }
      ]
    },
    {
      "cell_type": "code",
      "source": [
        "x"
      ],
      "metadata": {
        "colab": {
          "base_uri": "https://localhost:8080/"
        },
        "id": "hQNsOOgKLr2G",
        "outputId": "353554d2-9c54-48a3-8dfc-c56b35eebf7e"
      },
      "execution_count": 37,
      "outputs": [
        {
          "output_type": "execute_result",
          "data": {
            "text/plain": [
              "array([[0, 1, 2, 3, 4]])"
            ]
          },
          "metadata": {},
          "execution_count": 37
        }
      ]
    },
    {
      "cell_type": "code",
      "source": [
        ""
      ],
      "metadata": {
        "id": "IqOuNERrLsUt"
      },
      "execution_count": null,
      "outputs": []
    }
  ]
}