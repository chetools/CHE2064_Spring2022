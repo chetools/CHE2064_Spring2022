{
  "nbformat": 4,
  "nbformat_minor": 0,
  "metadata": {
    "colab": {
      "name": "FlattenWrapNumpy.ipynb",
      "provenance": [],
      "collapsed_sections": [],
      "authorship_tag": "ABX9TyNauzuOggypSNxun1pQP0bC",
      "include_colab_link": true
    },
    "kernelspec": {
      "name": "python3",
      "display_name": "Python 3"
    },
    "language_info": {
      "name": "python"
    }
  },
  "cells": [
    {
      "cell_type": "markdown",
      "metadata": {
        "id": "view-in-github",
        "colab_type": "text"
      },
      "source": [
        "<a href=\"https://colab.research.google.com/github/profteachkids/CHE2064_Spring2022/blob/main/FlattenWrapNumpy.ipynb\" target=\"_parent\"><img src=\"https://colab.research.google.com/assets/colab-badge.svg\" alt=\"Open In Colab\"/></a>"
      ]
    },
    {
      "cell_type": "code",
      "source": [
        "!wget -N -q https://raw.githubusercontent.com/profteachkids/chetools/main/tools/che.py"
      ],
      "metadata": {
        "id": "Gwp9C2bBoebL"
      },
      "execution_count": 1,
      "outputs": []
    },
    {
      "cell_type": "code",
      "execution_count": 2,
      "metadata": {
        "id": "EQTOJoLTGQgb"
      },
      "outputs": [],
      "source": [
        "import che\n",
        "from collections import namedtuple\n",
        "import numpy as np\n",
        "from scipy.special import expit,logit\n",
        "from scipy.optimize import root\n",
        "from functools import partial"
      ]
    },
    {
      "cell_type": "code",
      "source": [
        "class dot_dict(dict):\n",
        "    __getattr__= dict.__getitem__\n",
        "    __setattr__ = dict.__setitem__\n",
        "    __delattr__ = dict.__delitem__"
      ],
      "metadata": {
        "id": "fbMr0sbAYbzh"
      },
      "execution_count": 7,
      "outputs": []
    },
    {
      "cell_type": "code",
      "source": [
        "class Unk():\n",
        "    pass\n",
        "\n",
        "class Range(Unk):\n",
        "    def __init__(self,value,lo,hi):\n",
        "        self.lo=lo\n",
        "        self.hi=hi\n",
        "        self.diff = hi-lo\n",
        "        self.x=value\n",
        "        self.shape=(1,)\n",
        "        self.size = 1\n",
        "\n",
        "    def flatten(self):\n",
        "        return np.ravel(logit((self.x-self.lo)/self.diff))\n",
        "\n",
        "    def unflatten(self,xx):\n",
        "        return expit(xx.reshape(self.shape))*self.diff +self.lo\n",
        "\n",
        "\n",
        "class RangeArray(Range):\n",
        "    def __init__(self,value,lo,hi):\n",
        "        self.lo=np.atleast_1d(lo)\n",
        "        self.hi=np.atleast_1d(hi)\n",
        "        self.diff = self.hi-self.lo\n",
        "        value = np.atleast_1d(value)\n",
        "        self.x = value\n",
        "        self.shape = value.shape\n",
        "        self.size = value.size\n",
        "\n",
        "class Comp(Unk):\n",
        "    def __init__(self,value):\n",
        "        self.x=np.asarray(value).reshape(-1)\n",
        "        self.size=self.x.size - 1\n",
        "\n",
        "    def __repr__(self):\n",
        "        return f'{self.x}'\n",
        "\n",
        "    def flatten(self):\n",
        "        return np.log(self.x[:-1]) + np.log(1.+ (1. - self.x[-1])/self.x[-1])\n",
        "\n",
        "\n",
        "    def unflatten(self,xx):\n",
        "        xm1 = np.exp(xx)/(1+np.sum(np.exp(xx)))\n",
        "        return np.concatenate((xm1, np.atleast_1d(1.-np.sum(xm1))))\n",
        "\n"
      ],
      "metadata": {
        "id": "cp73yAkZcuBc"
      },
      "execution_count": 3,
      "outputs": []
    },
    {
      "cell_type": "code",
      "source": [
        "Unk_Tuple = namedtuple('Unk_Tuple', ['keys', 'start', 'end', 'unk'])\n",
        "\n",
        "def dtox(d):\n",
        "    d2=dot_dict()\n",
        "    size=0\n",
        "    unks={}\n",
        "\n",
        "    for k,v in d.items():\n",
        "        idv = id(v)\n",
        "        if idv in unks:\n",
        "            unks[idv].keys.append(k)\n",
        "            continue\n",
        "        if isinstance(v,Unk):\n",
        "            unks[idv]=Unk_Tuple([k], size, size+v.size, v)\n",
        "            size+=v.size\n",
        "        else:\n",
        "            d2[k]=v\n",
        "    x = np.zeros(size)\n",
        "    for k,v in unks.items():\n",
        "        x[v.start:v.end]= v.unk.flatten()\n",
        "            \n",
        "    def xtod(x,d2):\n",
        "        for k,v in unks.items():\n",
        "            unflattened = v.unk.unflatten(x[v.start:v.end])\n",
        "            for key in v.keys:\n",
        "                d2[key]=unflattened\n",
        "        return d2\n",
        "        \n",
        "\n",
        "    def wrap(f):\n",
        "        def wrapped(x,d2):\n",
        "            d2=xtod(x,d2)\n",
        "            return f(d2)\n",
        "\n",
        "        return partial(wrapped,d2=d2)\n",
        "\n",
        "    d2=xtod(x,d2)\n",
        "    return wrap, np.asarray(x), d2, xtod"
      ],
      "metadata": {
        "id": "w4zo9wd3Fa_s"
      },
      "execution_count": 4,
      "outputs": []
    },
    {
      "cell_type": "code",
      "source": [
        "p = che.Props(['Ethanol','Isopropanol', 'Water'])"
      ],
      "metadata": {
        "id": "plwrTvsCpM5A",
        "colab": {
          "base_uri": "https://localhost:8080/"
        },
        "outputId": "52a25fb7-ab49-4265-f01a-9ff1ab31e423"
      },
      "execution_count": 5,
      "outputs": [
        {
          "output_type": "stream",
          "name": "stderr",
          "text": [
            "WARNING:absl:No GPU/TPU found, falling back to CPU. (Set TF_CPP_MIN_LOG_LEVEL=0 and rerun for more info.)\n"
          ]
        }
      ]
    },
    {
      "cell_type": "code",
      "source": [
        "# Static parameters (Total feed, feed mole fradtions, feed temperature and )\n",
        "d=dot_dict()\n",
        "d.Ftot=10 # Total Feed moles\n",
        "d.Fz = np.array([1/3, 1/3, 1/3]) # Equimolar feed composition\n",
        "d.FT = 450.\n",
        "\n",
        "d.flashP= 101325 # Flash drum pressure\n",
        "\n",
        "d.Vy = Comp(d.Fz) # Guess vapor/liquid composition equal to feed\n",
        "d.Lx = Comp(d.Fz) # Comp - constrains mole fradtions to behave like mole fradtions!\n",
        "d.flashT = Range(400., 300., d.FT)\n",
        "d.Vtot = Range(3.97163878, 0., d.Ftot)  # Guess half of feed in vapor\n",
        "d.Ltot = Range(6.02836122, 0., d.Ftot)"
      ],
      "metadata": {
        "id": "jZoVc-TZpa1D"
      },
      "execution_count": 8,
      "outputs": []
    },
    {
      "cell_type": "code",
      "source": [
        "wrap, x, d2, xtod  = dtox(d)"
      ],
      "metadata": {
        "id": "rHVxiki_phXS"
      },
      "execution_count": 9,
      "outputs": []
    },
    {
      "cell_type": "code",
      "source": [
        "def eqs(c):\n",
        "    V = c.Vy * c.Vtot # Moles of each component = mole fractions * total moles\n",
        "    L = c.Lx * c.Ltot\n",
        "    F = c.Fz * c.Ftot\n",
        "    mass_balance = F - V - L # Mass balance for each component (vectors!)\n",
        "\n",
        "    # Hmix calculates the enthalpy given the temperature and moles of each\n",
        "    # component in the vapor and liquid phases\n",
        "    FH = p.Hl(nL=F, T=c.FT)\n",
        "    VH = p.Hv(nV=V, T=c.flashT)\n",
        "    LH = p.Hl(nL=L, T=c.flashT)\n",
        "    energy_balance = (FH - VH - LH)\n",
        "\n",
        "    # Raoults with NRTL activity coefficient correction.  One-liner!\n",
        "    fugL = c.Lx  * p.NRTL_gamma(c.Lx,c.flashT)* p.Pvap(c.flashT)\n",
        "    fugV = c.Vy * c.flashP\n",
        "    VLE = (fugL - fugV)\n",
        "    return np.concatenate([mass_balance, np.atleast_1d(energy_balance), VLE])\n"
      ],
      "metadata": {
        "id": "_4hviOyfp1k5"
      },
      "execution_count": 16,
      "outputs": []
    },
    {
      "cell_type": "code",
      "source": [
        "eqs_wrapped = wrap(eqs)"
      ],
      "metadata": {
        "id": "PCFvkYbXt3VL"
      },
      "execution_count": 17,
      "outputs": []
    },
    {
      "cell_type": "code",
      "source": [
        "eqs_wrapped(x)"
      ],
      "metadata": {
        "colab": {
          "base_uri": "https://localhost:8080/"
        },
        "id": "WEWMqruYu8jv",
        "outputId": "d0ab0908-9d97-491f-fa1d-50260920617c"
      },
      "execution_count": 18,
      "outputs": [
        {
          "output_type": "execute_result",
          "data": {
            "text/plain": [
              "array([-4.44089210e-16, -4.44089210e-16, -8.88178420e-16, -5.54296099e+04,\n",
              "        1.45994899e+05,  1.39338184e+05,  1.17611093e+05])"
            ]
          },
          "metadata": {},
          "execution_count": 18
        }
      ]
    },
    {
      "cell_type": "code",
      "source": [
        "sol=root(eqs_wrapped,x)\n",
        "print(sol)\n",
        "solx=sol.x"
      ],
      "metadata": {
        "id": "l8ocZ2P2qyg5",
        "colab": {
          "base_uri": "https://localhost:8080/"
        },
        "outputId": "31acc122-1c32-4908-be86-c27a3954873f"
      },
      "execution_count": 19,
      "outputs": [
        {
          "output_type": "stream",
          "name": "stdout",
          "text": [
            "    fjac: array([[-3.07309001e-05,  1.55517041e-05,  1.51791960e-05,\n",
            "        -6.73013597e-01, -6.07023347e-01,  3.27317634e-01,\n",
            "         2.67279854e-01],\n",
            "       [-1.16836148e-05, -2.62451986e-05,  3.79288134e-05,\n",
            "         5.03325153e-01, -3.93178990e-01, -2.79623588e-01,\n",
            "         7.16857530e-01],\n",
            "       [-3.59670485e-05,  5.92308098e-06,  3.00439675e-05,\n",
            "        -5.37956387e-01,  4.55020804e-01, -5.87391322e-01,\n",
            "         3.98158795e-01],\n",
            "       [-4.53838992e-04, -2.24707571e-04,  6.78546563e-04,\n",
            "         6.57222297e-02,  5.19508253e-01,  6.85306461e-01,\n",
            "         5.06108784e-01],\n",
            "       [-5.44718756e-01, -2.54386051e-01,  7.99104807e-01,\n",
            "        -3.80485098e-05, -4.26805778e-04, -5.51493195e-04,\n",
            "        -4.82969875e-04],\n",
            "       [-6.39595542e-01,  7.42325279e-01, -1.99676540e-01,\n",
            "         4.11182874e-05,  5.90684398e-06,  6.11448672e-06,\n",
            "         4.07265581e-06],\n",
            "       [-5.42400969e-01, -6.19871652e-01, -5.67062892e-01,\n",
            "        -2.30509722e-06, -3.31138535e-07, -3.42779018e-07,\n",
            "        -2.28313678e-07]])\n",
            "     fun: array([-1.22184485e-11,  3.47877283e-12,  8.74056383e-12,  1.96741894e-07,\n",
            "        9.69831308e-06, -1.19515389e-05,  2.25438271e-06])\n",
            " message: 'The solution converged.'\n",
            "    nfev: 23\n",
            "     qtf: array([-6.16063598e-05,  7.49609534e-06,  7.97195946e-05, -2.19036406e-05,\n",
            "        1.64886520e-08, -2.24901358e-11,  1.26118544e-12])\n",
            "       r: array([ 2.87669823e+04, -2.24186812e+04, -1.85374018e+04, -3.31162003e+03,\n",
            "        4.51396674e+04, -4.99705512e+05, -3.08788404e+05,  2.03812956e+04,\n",
            "       -2.03156435e+04,  1.57240338e+04, -2.24224054e+04,  2.58473510e+05,\n",
            "        3.82895737e+05,  5.88580021e+04, -5.05559081e+04,  1.79889878e+04,\n",
            "       -1.88711872e+05, -5.24684330e+05,  2.50719709e+03,  1.76614129e+05,\n",
            "        1.09641581e+05, -5.00777749e+04, -1.50460254e+02, -8.35360279e+01,\n",
            "        5.54456083e+01,  2.46965066e+01,  2.67373382e+01, -1.14409320e-01])\n",
            "  status: 1\n",
            " success: True\n",
            "       x: array([ 0.13053672,  0.09556131, -0.08459409, -0.06010319, -0.60865312,\n",
            "       -0.4172964 ,  0.4172964 ])\n"
          ]
        }
      ]
    },
    {
      "cell_type": "code",
      "source": [
        "xtod(solx,d)"
      ],
      "metadata": {
        "colab": {
          "base_uri": "https://localhost:8080/"
        },
        "id": "AetCqijIr3lF",
        "outputId": "44cbfe9e-9fbd-42ce-dbe6-0f47746a7eb8"
      },
      "execution_count": 20,
      "outputs": [
        {
          "output_type": "execute_result",
          "data": {
            "text/plain": [
              "{'FT': 450.0,\n",
              " 'Ftot': 10,\n",
              " 'Fz': array([0.33333333, 0.33333333, 0.33333333]),\n",
              " 'Ltot': array([6.02836122]),\n",
              " 'Lx': array([0.32122647, 0.32919072, 0.34958281]),\n",
              " 'Vtot': array([3.97163878]),\n",
              " 'Vy': array([0.35170977, 0.33962121, 0.30866903]),\n",
              " 'flashP': 101325,\n",
              " 'flashT': array([352.85497499])}"
            ]
          },
          "metadata": {},
          "execution_count": 20
        }
      ]
    },
    {
      "cell_type": "code",
      "source": [
        "solx"
      ],
      "metadata": {
        "id": "ctJ6ed8FsmaS",
        "colab": {
          "base_uri": "https://localhost:8080/"
        },
        "outputId": "566a6f0d-d861-4649-a9b0-32126b8a43a5"
      },
      "execution_count": null,
      "outputs": [
        {
          "output_type": "execute_result",
          "data": {
            "text/plain": [
              "array([-1.64109939e+06,  1.96647580e-01,  1.10024157e-01,  5.58387643e-03,\n",
              "       -1.65399224e-02, -1.55001875e+00,  1.55060261e+00])"
            ]
          },
          "metadata": {},
          "execution_count": 158
        }
      ]
    },
    {
      "cell_type": "code",
      "source": [
        ""
      ],
      "metadata": {
        "id": "w7IBxauHFqQb"
      },
      "execution_count": null,
      "outputs": []
    }
  ]
}