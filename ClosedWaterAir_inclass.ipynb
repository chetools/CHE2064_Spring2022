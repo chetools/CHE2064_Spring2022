{
  "nbformat": 4,
  "nbformat_minor": 0,
  "metadata": {
    "colab": {
      "name": "ClosedWaterAir_inclass.ipynb",
      "provenance": [],
      "authorship_tag": "ABX9TyNSnO7H/q8i6CgwSe00ih00",
      "include_colab_link": true
    },
    "kernelspec": {
      "name": "python3",
      "display_name": "Python 3"
    },
    "language_info": {
      "name": "python"
    }
  },
  "cells": [
    {
      "cell_type": "markdown",
      "metadata": {
        "id": "view-in-github",
        "colab_type": "text"
      },
      "source": [
        "<a href=\"https://colab.research.google.com/github/profteachkids/CHE2064_Spring2022/blob/main/ClosedWaterAir_inclass.ipynb\" target=\"_parent\"><img src=\"https://colab.research.google.com/assets/colab-badge.svg\" alt=\"Open In Colab\"/></a>"
      ]
    },
    {
      "cell_type": "code",
      "execution_count": 1,
      "metadata": {
        "colab": {
          "base_uri": "https://localhost:8080/"
        },
        "id": "9paWXUNkcZec",
        "outputId": "c42da334-3030-4b2f-b1e4-45538bf122c5"
      },
      "outputs": [
        {
          "output_type": "stream",
          "name": "stdout",
          "text": [
            "Cloning into 'chetools'...\n",
            "remote: Enumerating objects: 86, done.\u001b[K\n",
            "remote: Counting objects: 100% (86/86), done.\u001b[K\n",
            "remote: Compressing objects: 100% (32/32), done.\u001b[K\n",
            "remote: Total 86 (delta 58), reused 80 (delta 52), pack-reused 0\u001b[K\n",
            "Unpacking objects: 100% (86/86), done.\n"
          ]
        }
      ],
      "source": [
        "!git clone https://github.com/profteachkids/chetools.git\n",
        "import sys\n",
        "sys.path.insert(1,'/content/chetools')"
      ]
    },
    {
      "cell_type": "code",
      "source": [
        "import tools.che as che\n",
        "from scipy.optimize import root\n",
        "R=8.314 #J/(mol K)"
      ],
      "metadata": {
        "id": "M41moqeCfRTm"
      },
      "execution_count": 2,
      "outputs": []
    },
    {
      "cell_type": "code",
      "source": [
        "p=che.Props(['Water'])\n",
        "Pf_desired = 2e5\n",
        "nw_vap_desired = 0.3\n",
        "Pi = 101325.\n",
        "Ti = 298.\n",
        "mw_tot = 1. #kg"
      ],
      "metadata": {
        "id": "eMNMRl4Nff8H"
      },
      "execution_count": 8,
      "outputs": []
    },
    {
      "cell_type": "code",
      "source": [
        "def eqs(vec):\n",
        "    Tf, Vtot = vec\n",
        "    Pw = p.Pvap(Tf)\n",
        "    nair = (Pi - p.Pvap(Ti))*(Vtot - mw_tot/p.rhol(Ti))/(R*Ti)\n",
        "\n",
        "\n",
        "    mwliq = mw_tot - nw_vap_desired * 18e-3\n",
        "    Vliq = mwliq/p.rhol(Tf)\n",
        "    Vvap = Vtot - Vliq\n",
        "\n",
        "    Pair = nair * R * Tf / Vvap\n",
        "\n",
        "    Pf = Pair + Pw\n",
        "    nw_vap = Pw*Vvap/(R*Tf)\n",
        "    return [Pf-Pf_desired,\n",
        "            nw_vap - nw_vap_desired]"
      ],
      "metadata": {
        "id": "OY4XGHlZg4FL"
      },
      "execution_count": 9,
      "outputs": []
    },
    {
      "cell_type": "code",
      "source": [
        "root(eqs, [350, 0.1])"
      ],
      "metadata": {
        "colab": {
          "base_uri": "https://localhost:8080/"
        },
        "id": "HXikLFgqiy7-",
        "outputId": "1fd052f9-a9bc-43b2-b18d-9fb048c5c4d7"
      },
      "execution_count": 15,
      "outputs": [
        {
          "output_type": "execute_result",
          "data": {
            "text/plain": [
              "    fjac: array([[-1.0000000e+00, -3.1410625e-06],\n",
              "       [ 3.1410625e-06, -1.0000000e+00]])\n",
              "     fun: array([5.49713150e-07, 4.76679807e-12])\n",
              " message: 'The solution converged.'\n",
              "    nfev: 16\n",
              "     qtf: array([-7.56779918e-04, -4.45531367e-09])\n",
              "       r: array([-3269.34721382,  1313.72585903,   -26.09440767])\n",
              "  status: 1\n",
              " success: True\n",
              "       x: array([3.66365445e+02, 1.25633582e-02])"
            ]
          },
          "metadata": {},
          "execution_count": 15
        }
      ]
    },
    {
      "cell_type": "code",
      "source": [
        "p.Tc"
      ],
      "metadata": {
        "id": "oqtptwyE20G5",
        "outputId": "844e19f9-af69-41ca-e0fb-139f168dd1b8",
        "colab": {
          "base_uri": "https://localhost:8080/"
        }
      },
      "execution_count": 16,
      "outputs": [
        {
          "output_type": "execute_result",
          "data": {
            "text/plain": [
              "647.35"
            ]
          },
          "metadata": {},
          "execution_count": 16
        }
      ]
    },
    {
      "cell_type": "code",
      "source": [
        "p.Pc"
      ],
      "metadata": {
        "id": "TWEOfDry2010",
        "outputId": "7dff44c4-5dee-4ddf-b487-9ac5be6a5915",
        "colab": {
          "base_uri": "https://localhost:8080/"
        }
      },
      "execution_count": 17,
      "outputs": [
        {
          "output_type": "execute_result",
          "data": {
            "text/plain": [
              "22118230.0"
            ]
          },
          "metadata": {},
          "execution_count": 17
        }
      ]
    },
    {
      "cell_type": "code",
      "source": [
        ""
      ],
      "metadata": {
        "id": "WwZ1aaDD22Yo"
      },
      "execution_count": null,
      "outputs": []
    }
  ]
}