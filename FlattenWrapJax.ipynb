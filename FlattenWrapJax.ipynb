{
  "nbformat": 4,
  "nbformat_minor": 0,
  "metadata": {
    "colab": {
      "name": "FlattenWrapJax.ipynb",
      "provenance": [],
      "collapsed_sections": [],
      "authorship_tag": "ABX9TyMBO5CvWiM7xoYjUkdkHmxI",
      "include_colab_link": true
    },
    "kernelspec": {
      "name": "python3",
      "display_name": "Python 3"
    },
    "language_info": {
      "name": "python"
    }
  },
  "cells": [
    {
      "cell_type": "markdown",
      "metadata": {
        "id": "view-in-github",
        "colab_type": "text"
      },
      "source": [
        "<a href=\"https://colab.research.google.com/github/profteachkids/CHE2064_Spring2022/blob/main/FlattenWrapJax.ipynb\" target=\"_parent\"><img src=\"https://colab.research.google.com/assets/colab-badge.svg\" alt=\"Open In Colab\"/></a>"
      ]
    },
    {
      "cell_type": "code",
      "source": [
        "!wget -N -q https://raw.githubusercontent.com/profteachkids/chetools/main/tools/che.py"
      ],
      "metadata": {
        "id": "Gwp9C2bBoebL"
      },
      "execution_count": 46,
      "outputs": []
    },
    {
      "cell_type": "code",
      "execution_count": 47,
      "metadata": {
        "id": "EQTOJoLTGQgb"
      },
      "outputs": [],
      "source": [
        "import che\n",
        "from collections import namedtuple\n",
        "import numpy as np\n",
        "import jax\n",
        "import jax.numpy as jnp\n",
        "from jax.scipy.special import expit,logit\n",
        "from scipy.optimize import root\n",
        "from functools import partial"
      ]
    },
    {
      "cell_type": "code",
      "source": [
        "class dot_dict(dict):\n",
        "    __getattr__= dict.__getitem__\n",
        "    __setattr__ = dict.__setitem__\n",
        "    __delattr__ = dict.__delitem__"
      ],
      "metadata": {
        "id": "fbMr0sbAYbzh"
      },
      "execution_count": 48,
      "outputs": []
    },
    {
      "cell_type": "code",
      "source": [
        "class Unk():\n",
        "    pass\n",
        "\n",
        "class Range(Unk):\n",
        "    def __init__(self,value,lo,hi):\n",
        "        self.lo=lo\n",
        "        self.hi=hi\n",
        "        self.diff = hi-lo\n",
        "        self.x=value\n",
        "        self.shape=(1,)\n",
        "        self.size = 1\n",
        "\n",
        "    def flatten(self):\n",
        "        return jnp.ravel(logit((self.x-self.lo)/self.diff))\n",
        "\n",
        "    def unflatten(self,xx):\n",
        "        return expit(xx.reshape(self.shape))*self.diff +self.lo\n",
        "\n",
        "\n",
        "class RangeArray(Range):\n",
        "    def __init__(self,value,lo,hi):\n",
        "        self.lo=np.atleast_1d(lo)\n",
        "        self.hi=np.atleast_1d(hi)\n",
        "        self.diff = self.hi-self.lo\n",
        "        value = np.atleast_1d(value)\n",
        "        self.x = value\n",
        "        self.shape = value.shape\n",
        "        self.size = value.size\n",
        "\n",
        "class Comp(Unk):\n",
        "    def __init__(self,value):\n",
        "        self.x=np.asarray(value).reshape(-1)\n",
        "        self.size=self.x.size - 1\n",
        "\n",
        "    def __repr__(self):\n",
        "        return f'{self.x}'\n",
        "\n",
        "    def flatten(self):\n",
        "        return jnp.log(self.x[:-1]) + np.log(1.+ (1. - self.x[-1])/self.x[-1])\n",
        "\n",
        "\n",
        "    def unflatten(self,xx):\n",
        "        xm1 = jnp.exp(xx)/(1+np.sum(jnp.exp(xx)))\n",
        "        return jnp.concatenate((xm1, jnp.atleast_1d(1.-jnp.sum(xm1))))\n",
        "\n"
      ],
      "metadata": {
        "id": "cp73yAkZcuBc"
      },
      "execution_count": 49,
      "outputs": []
    },
    {
      "cell_type": "code",
      "source": [
        "Unk_Tuple = namedtuple('Unk_Tuple', ['keys', 'start', 'end', 'unk'])\n",
        "\n",
        "def dtox(d):\n",
        "    d2=dot_dict()\n",
        "    size=0\n",
        "    unks={}\n",
        "\n",
        "    for k,v in d.items():\n",
        "        idv = id(v)\n",
        "        if idv in unks:\n",
        "            unks[idv].keys.append(k)\n",
        "            continue\n",
        "        if isinstance(v,Unk):\n",
        "            unks[idv]=Unk_Tuple([k], size, size+v.size, v)\n",
        "            size+=v.size\n",
        "        else:\n",
        "            d2[k]=v\n",
        "    x = np.zeros(size)\n",
        "    for k,v in unks.items():\n",
        "        x[v.start:v.end]= v.unk.flatten()\n",
        "            \n",
        "    def xtod(x,d2):\n",
        "        for k,v in unks.items():\n",
        "            unflattened = v.unk.unflatten(x[v.start:v.end])\n",
        "            for key in v.keys:\n",
        "                d2[key]=unflattened\n",
        "        return d2\n",
        "        \n",
        "\n",
        "    def wrap(f):\n",
        "        def wrapped(x,d2):\n",
        "            d2=xtod(x,d2)\n",
        "            return f(d2)\n",
        "\n",
        "        return partial(wrapped,d2=d2)\n",
        "\n",
        "    d2=xtod(x,d2)\n",
        "    return wrap, jnp.asarray(x), d2, xtod"
      ],
      "metadata": {
        "id": "w4zo9wd3Fa_s"
      },
      "execution_count": 50,
      "outputs": []
    },
    {
      "cell_type": "code",
      "source": [
        "p = che.Props(['Ethanol','Isopropanol', 'Water'])"
      ],
      "metadata": {
        "id": "plwrTvsCpM5A"
      },
      "execution_count": 51,
      "outputs": []
    },
    {
      "cell_type": "code",
      "source": [
        "# Static parameters (Total feed, feed mole fradtions, feed temperature and )\n",
        "d=dot_dict()\n",
        "d.Ftot=10 # Total Feed moles\n",
        "d.Fz = np.array([1/3, 1/3, 1/3]) # Equimolar feed composition\n",
        "d.FT = 450.\n",
        "\n",
        "d.flashP= 101325 # Flash drum pressure\n",
        "\n",
        "d.Vy = Comp(d.Fz) # Guess vapor/liquid composition equal to feed\n",
        "d.Lx = Comp(d.Fz) # Comp - constrains mole fradtions to behave like mole fradtions!\n",
        "d.flashT = Range(400., 300., d.FT)\n",
        "d.Vtot = Range(3.97163878, 0., d.Ftot)  # Guess half of feed in vapor\n",
        "d.Ltot = Range(6.02836122, 0., d.Ftot)"
      ],
      "metadata": {
        "id": "jZoVc-TZpa1D"
      },
      "execution_count": 183,
      "outputs": []
    },
    {
      "cell_type": "code",
      "source": [
        "wrap, x, d2, xtod  = dtox(d)"
      ],
      "metadata": {
        "id": "rHVxiki_phXS"
      },
      "execution_count": 184,
      "outputs": []
    },
    {
      "cell_type": "code",
      "source": [
        "def eqs(c):\n",
        "    V = c.Vy * c.Vtot # Moles of each component = mole fractions * total moles\n",
        "    L = c.Lx * c.Ltot\n",
        "    F = c.Fz * c.Ftot\n",
        "    mass_balance = F - V - L # Mass balance for each component (vectors!)\n",
        "\n",
        "    # Hmix calculates the enthalpy given the temperature and moles of each\n",
        "    # component in the vapor and liquid phases\n",
        "    FH = p.Hl(nL=F, T=c.FT)\n",
        "    VH = p.Hv(nV=V, T=c.flashT)\n",
        "    LH = p.Hl(nL=L, T=c.flashT)\n",
        "    energy_balance = (FH - VH - LH)\n",
        "\n",
        "    # Raoults with NRTL activity coefficient correction.  One-liner!\n",
        "    fugL = c.Lx  * p.NRTL_gamma(c.Lx,c.flashT)* p.Pvap(c.flashT)\n",
        "    fugV = c.Vy * c.flashP\n",
        "    VLE = (fugL - fugV)\n",
        "    return jnp.concatenate([mass_balance, jnp.atleast_1d(energy_balance), VLE])\n"
      ],
      "metadata": {
        "id": "_4hviOyfp1k5"
      },
      "execution_count": 185,
      "outputs": []
    },
    {
      "cell_type": "code",
      "source": [
        "eqs_jax = wrap(eqs)"
      ],
      "metadata": {
        "id": "PCFvkYbXt3VL"
      },
      "execution_count": 186,
      "outputs": []
    },
    {
      "cell_type": "code",
      "source": [
        "eqs_jax(x)"
      ],
      "metadata": {
        "colab": {
          "base_uri": "https://localhost:8080/"
        },
        "id": "WEWMqruYu8jv",
        "outputId": "7117c240-54d8-4536-8f4e-cf1fb835e84d"
      },
      "execution_count": 187,
      "outputs": [
        {
          "output_type": "execute_result",
          "data": {
            "text/plain": [
              "DeviceArray([-4.44089210e-16, -4.44089210e-16, -8.88178420e-16,\n",
              "             -5.54296099e+04,  1.45994899e+05,  1.39338184e+05,\n",
              "              1.17611093e+05], dtype=float64)"
            ]
          },
          "metadata": {},
          "execution_count": 187
        }
      ]
    },
    {
      "cell_type": "code",
      "source": [
        "jac = jax.jacobian(eqs_jax)"
      ],
      "metadata": {
        "id": "uMBWOSb0uft2"
      },
      "execution_count": 188,
      "outputs": []
    },
    {
      "cell_type": "code",
      "source": [
        "sol=root(eqs_jax, x, jac=jac)\n",
        "print(sol)\n",
        "solx=sol.x"
      ],
      "metadata": {
        "id": "l8ocZ2P2qyg5",
        "colab": {
          "base_uri": "https://localhost:8080/"
        },
        "outputId": "790686a7-ad6f-4cce-b999-d2a27ac4c3ae"
      },
      "execution_count": 189,
      "outputs": [
        {
          "output_type": "stream",
          "name": "stdout",
          "text": [
            "    fjac: array([[-3.07308281e-05,  1.55516705e-05,  1.51791576e-05,\n",
            "        -6.73012378e-01, -6.07023792e-01,  3.27320726e-01,\n",
            "         2.67278124e-01],\n",
            "       [-1.16835633e-05, -2.62452565e-05,  3.79288198e-05,\n",
            "         5.03327011e-01, -3.93181039e-01, -2.79619021e-01,\n",
            "         7.16856884e-01],\n",
            "       [-3.59668264e-05,  5.92325038e-06,  3.00435760e-05,\n",
            "        -5.37956557e-01,  4.55014013e-01, -5.87395323e-01,\n",
            "         3.98160425e-01],\n",
            "       [-4.53897849e-04, -2.24735096e-04,  6.78632946e-04,\n",
            "         6.57190933e-02,  5.19512129e-01,  6.85303419e-01,\n",
            "         5.06109331e-01],\n",
            "       [-5.44718635e-01, -2.54386206e-01,  7.99104840e-01,\n",
            "        -3.80533639e-05, -4.26864653e-04, -5.51565066e-04,\n",
            "        -4.83024831e-04],\n",
            "       [-6.39595653e-01,  7.42325225e-01, -1.99676383e-01,\n",
            "         4.11182797e-05,  5.90684542e-06,  6.11448883e-06,\n",
            "         4.07263351e-06],\n",
            "       [-5.42400959e-01, -6.19871653e-01, -5.67062900e-01,\n",
            "        -2.30509700e-06, -3.31138649e-07, -3.42779173e-07,\n",
            "        -2.28312452e-07]])\n",
            "     fun: array([-1.22197807e-11,  3.48476803e-12,  8.73434658e-12,  1.97207555e-07,\n",
            "        9.70334077e-06, -1.19536635e-05,  2.25102849e-06])\n",
            " message: 'The solution converged.'\n",
            "    nfev: 16\n",
            "    njev: 1\n",
            "     qtf: array([-6.15989321e-05,  7.49766879e-06,  7.97125681e-05, -2.19041374e-05,\n",
            "        1.64915121e-08, -2.25373647e-11,  1.26370510e-12])\n",
            "       r: array([ 2.87670455e+04, -2.24186920e+04, -1.85382615e+04, -3.31152681e+03,\n",
            "        4.51417028e+04, -4.99705801e+05, -3.08786295e+05,  2.03812727e+04,\n",
            "       -2.03154754e+04,  1.57242489e+04, -2.24203625e+04,  2.58472111e+05,\n",
            "        3.82900262e+05,  5.88590135e+04, -5.05558378e+04,  1.79871894e+04,\n",
            "       -1.88713463e+05, -5.24682478e+05,  2.50683108e+03,  1.76614542e+05,\n",
            "        1.09641069e+05, -5.00815958e+04, -1.50479745e+02, -8.35474380e+01,\n",
            "        5.54536632e+01,  2.46965041e+01,  2.67373315e+01, -1.14409095e-01])\n",
            "  status: 1\n",
            " success: True\n",
            "       x: array([ 0.13053672,  0.09556131, -0.08459409, -0.06010319, -0.60865312,\n",
            "       -0.4172964 ,  0.4172964 ])\n"
          ]
        }
      ]
    },
    {
      "cell_type": "code",
      "source": [
        "xtod(solx,d)"
      ],
      "metadata": {
        "colab": {
          "base_uri": "https://localhost:8080/"
        },
        "id": "AetCqijIr3lF",
        "outputId": "cc96c38b-acf9-4a84-d6f6-4bab0a146b6b"
      },
      "execution_count": 190,
      "outputs": [
        {
          "output_type": "execute_result",
          "data": {
            "text/plain": [
              "{'FT': 450.0,\n",
              " 'Ftot': 10,\n",
              " 'Fz': array([0.33333333, 0.33333333, 0.33333333]),\n",
              " 'Ltot': DeviceArray([6.02836122], dtype=float64),\n",
              " 'Lx': DeviceArray([0.32122647, 0.32919072, 0.34958281], dtype=float64),\n",
              " 'Vtot': DeviceArray([3.97163878], dtype=float64),\n",
              " 'Vy': DeviceArray([0.35170977, 0.33962121, 0.30866903], dtype=float64),\n",
              " 'flashP': 101325,\n",
              " 'flashT': DeviceArray([352.85497499], dtype=float64)}"
            ]
          },
          "metadata": {},
          "execution_count": 190
        }
      ]
    },
    {
      "cell_type": "code",
      "source": [
        "solx"
      ],
      "metadata": {
        "id": "ctJ6ed8FsmaS",
        "colab": {
          "base_uri": "https://localhost:8080/"
        },
        "outputId": "566a6f0d-d861-4649-a9b0-32126b8a43a5"
      },
      "execution_count": 158,
      "outputs": [
        {
          "output_type": "execute_result",
          "data": {
            "text/plain": [
              "array([-1.64109939e+06,  1.96647580e-01,  1.10024157e-01,  5.58387643e-03,\n",
              "       -1.65399224e-02, -1.55001875e+00,  1.55060261e+00])"
            ]
          },
          "metadata": {},
          "execution_count": 158
        }
      ]
    },
    {
      "cell_type": "code",
      "source": [
        ""
      ],
      "metadata": {
        "id": "w7IBxauHFqQb"
      },
      "execution_count": null,
      "outputs": []
    }
  ]
}